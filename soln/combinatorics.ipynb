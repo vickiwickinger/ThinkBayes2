{
 "cells": [
  {
   "cell_type": "markdown",
   "metadata": {},
   "source": [
    "# Think Bayes\n",
    "\n",
    "Second Edition\n",
    "\n",
    "Copyright 2020 Allen B. Downey\n",
    "\n",
    "License: [Attribution-NonCommercial-ShareAlike 4.0 International (CC BY-NC-SA 4.0)](https://creativecommons.org/licenses/by-nc-sa/4.0/)"
   ]
  },
  {
   "cell_type": "code",
   "execution_count": 1,
   "metadata": {},
   "outputs": [],
   "source": [
    "# If we're running on Colab, install empiricaldist\n",
    "# https://pypi.org/project/empiricaldist/\n",
    "\n",
    "import sys\n",
    "IN_COLAB = 'google.colab' in sys.modules\n",
    "\n",
    "if IN_COLAB:\n",
    "    !pip install empiricaldist"
   ]
  },
  {
   "cell_type": "code",
   "execution_count": 2,
   "metadata": {},
   "outputs": [],
   "source": [
    "# Get utils.py and create directories\n",
    "\n",
    "import os\n",
    "\n",
    "if not os.path.exists('utils.py'):\n",
    "    !wget https://github.com/AllenDowney/ThinkBayes2/raw/master/code/soln/utils.py\n",
    "        \n",
    "if not os.path.exists('figs'):\n",
    "    !mkdir figs"
   ]
  },
  {
   "cell_type": "code",
   "execution_count": 3,
   "metadata": {},
   "outputs": [],
   "source": [
    "import numpy as np\n",
    "import pandas as pd\n",
    "import matplotlib.pyplot as plt\n",
    "\n",
    "from empiricaldist import Pmf, Cdf\n",
    "from utils import decorate, savefig"
   ]
  },
  {
   "cell_type": "markdown",
   "metadata": {},
   "source": [
    "## Introduction\n",
    "\n",
    "Three dimensions!"
   ]
  },
  {
   "cell_type": "markdown",
   "metadata": {},
   "source": [
    "## The Grizzly Bear Problem\n",
    "\n",
    "In 1996 and 1997 Mowat and Strobeck deployed bear traps in locations in British Columbia and Alberta, in an effort to estimate the population of grizzly bears.  They describe the experiment in \"[Estimating Population Size of Grizzly Bears Using Hair Capture, DNA Profiling, and Mark-Recapture Analysis](https://www.researchgate.net/publication/229195465_Estimating_Population_Size_of_Grizzly_Bears_Using_Hair_Capture_DNA_Profiling_and_Mark-Recapture_Analysis)\"\n",
    "\n",
    "The \"trap\" consists of  a lure and several strands of barbed wire intended to capture samples of hair from bears that visit the lure.  Using the hair samples, the researchers use DNA analysis to identify individual bears.\n",
    "\n",
    "During the first session, on June 29, 1996, the researchers deployed traps at 76 sites.  Returning 10 days later, they obtained 1043 hair samples and identified 23 different bears.  During a second 10-day session they obtained 1191 samples from 19 different bears, where 4 of the 19 were from bears they had identified in the first batch.\n",
    "\n",
    "To estimate the population of bears from this data, we need a model for the probability that each bear will be observed during each session.  As a starting place, we'll make the simplest assumption, that every bear in the population has the same (unknown) probability of being sampled during each round."
   ]
  },
  {
   "cell_type": "markdown",
   "metadata": {},
   "source": [
    "With these assumptions we can compute the probability of the data for a range of possible populations.\n",
    "\n",
    "As an example, let's suppose that the actual population of bears is 200.\n",
    "\n",
    "After the first session, 23 of the 200 bears have been identified.\n",
    "During the second session, if we choose 19 bears at random, what is the probability that 4 of them were previously identified?"
   ]
  },
  {
   "cell_type": "markdown",
   "metadata": {},
   "source": [
    "I'll define\n",
    "\n",
    "* N: actual (unknown) population size, 200.\n",
    "\n",
    "* K: number of bears identified in the first session, 23.\n",
    "\n",
    "* n: number of bears observed in the second session, 19 in the example.\n",
    "\n",
    "* k: the number of bears in the second session that had previously been identified, 4.\n",
    "\n",
    "For given values of N, K, and n, the distribution of k is described by the [hypergeometric distribution](https://en.wikipedia.org/wiki/Hypergeometric_distribution):\n",
    "\n",
    "$PMF(k) = {K \\choose k}{N-K \\choose n-k}/{N \\choose n}$"
   ]
  },
  {
   "cell_type": "markdown",
   "metadata": {},
   "source": [
    "To understand why, consider: \n",
    "\n",
    "* The denominator, ${ N \\choose n}$, is the number of subsets of $n$ we could choose from a population of $N$ bears.\n",
    "\n",
    "* The numerator is the number of subsets that contain $k$ bears from the previously identified $K$ and $n-k$ from the previously unseen $N-K$.\n",
    "\n",
    "SciPy provides `hypergeom`, which we can use to compute this PMF."
   ]
  },
  {
   "cell_type": "code",
   "execution_count": 138,
   "metadata": {},
   "outputs": [
    {
     "data": {
      "image/png": "[encoded data removed]",
      "text/plain": [
       "<Figure size 432x288 with 1 Axes>"
      ]
     },
     "metadata": {
      "needs_background": "light"
     },
     "output_type": "display_data"
    }
   ],
   "source": [
    "from scipy.stats import hypergeom\n",
    "\n",
    "N = 100\n",
    "K = 23\n",
    "n = 19\n",
    "\n",
    "ks = np.arange(12)\n",
    "ps = hypergeom(N, K, n).pmf(ks)\n",
    "\n",
    "plt.bar(ks, ps)\n",
    "\n",
    "decorate(xlabel='Number of bears observed twice',\n",
    "         ylabel='PMF',\n",
    "         title='Hypergeometric distribution of k (known population 200)')"
   ]
  },
  {
   "cell_type": "markdown",
   "metadata": {},
   "source": [
    "So that's the distribution of `k` given `N`, `K`, and `n`.\n",
    "Now let's go the other way: given `K`, `n`, and `k`, how can we estimate the total population, `N`?"
   ]
  },
  {
   "cell_type": "markdown",
   "metadata": {},
   "source": [
    "As a starting place, let's suppose that, prior to this study, an expert in this domain would have estimated that the population is between 50 and 500, and equally likely to be any value in that range."
   ]
  },
  {
   "cell_type": "code",
   "execution_count": 5,
   "metadata": {},
   "outputs": [],
   "source": [
    "Ns = np.arange(50, 501)\n",
    "prior_N = Pmf(1, Ns)\n",
    "prior_N.index.name = 'N'"
   ]
  },
  {
   "cell_type": "markdown",
   "metadata": {},
   "source": [
    "So that's our prior.\n",
    "\n",
    "To compute the likelihood of the data, we can use `hypergeom` with constants `K` and `n`, and a range of values of `N`. "
   ]
  },
  {
   "cell_type": "code",
   "execution_count": 6,
   "metadata": {},
   "outputs": [],
   "source": [
    "K = 23\n",
    "n = 19\n",
    "k = 4\n",
    "\n",
    "likelihood = hypergeom(Ns, K, n).pmf(k)"
   ]
  },
  {
   "cell_type": "markdown",
   "metadata": {},
   "source": [
    "We can compute the posterior in the usual way."
   ]
  },
  {
   "cell_type": "code",
   "execution_count": 7,
   "metadata": {},
   "outputs": [
    {
     "data": {
      "text/plain": [
       "34.97606148975133"
      ]
     },
     "execution_count": 7,
     "metadata": {},
     "output_type": "execute_result"
    }
   ],
   "source": [
    "posterior_N = prior_N * likelihood\n",
    "posterior_N.normalize()"
   ]
  },
  {
   "cell_type": "markdown",
   "metadata": {},
   "source": [
    "And here's what it looks like."
   ]
  },
  {
   "cell_type": "code",
   "execution_count": 8,
   "metadata": {},
   "outputs": [
    {
     "data": {
      "image/png": "[encoded data removed]",
      "text/plain": [
       "<Figure size 432x288 with 1 Axes>"
      ]
     },
     "metadata": {
      "needs_background": "light"
     },
     "output_type": "display_data"
    }
   ],
   "source": [
    "posterior_N.plot()\n",
    "\n",
    "decorate(xlabel='Population of bears (N)',\n",
    "         ylabel='PDF',\n",
    "         title='Posterior distribution of N')"
   ]
  },
  {
   "cell_type": "markdown",
   "metadata": {},
   "source": [
    "The most likely value is 109."
   ]
  },
  {
   "cell_type": "code",
   "execution_count": 9,
   "metadata": {},
   "outputs": [
    {
     "data": {
      "text/plain": [
       "109"
      ]
     },
     "execution_count": 9,
     "metadata": {},
     "output_type": "execute_result"
    }
   ],
   "source": [
    "posterior_N.max_prob()"
   ]
  },
  {
   "cell_type": "markdown",
   "metadata": {},
   "source": [
    "But the distribution is skewed to the right, so the posterior mean is substantially higher."
   ]
  },
  {
   "cell_type": "code",
   "execution_count": 10,
   "metadata": {},
   "outputs": [
    {
     "data": {
      "text/plain": [
       "173.79880627085643"
      ]
     },
     "execution_count": 10,
     "metadata": {},
     "output_type": "execute_result"
    }
   ],
   "source": [
    "posterior_N.mean()"
   ]
  },
  {
   "cell_type": "code",
   "execution_count": 11,
   "metadata": {},
   "outputs": [
    {
     "data": {
      "text/plain": [
       "array([ 77., 363.])"
      ]
     },
     "execution_count": 11,
     "metadata": {},
     "output_type": "execute_result"
    }
   ],
   "source": [
    "posterior_N.credible_interval(0.9)"
   ]
  },
  {
   "cell_type": "markdown",
   "metadata": {},
   "source": [
    "## Two parameter model\n"
   ]
  },
  {
   "cell_type": "code",
   "execution_count": 12,
   "metadata": {},
   "outputs": [],
   "source": [
    "ps = np.linspace(0, 1, 101)\n",
    "prior_p = Pmf(1, ps)\n",
    "prior_p.index.name = 'p'"
   ]
  },
  {
   "cell_type": "code",
   "execution_count": 13,
   "metadata": {},
   "outputs": [],
   "source": [
    "from utils import make_joint\n",
    "\n",
    "joint_prior = make_joint(prior_N, prior_p)"
   ]
  },
  {
   "cell_type": "code",
   "execution_count": 14,
   "metadata": {},
   "outputs": [
    {
     "data": {
      "text/plain": [
       "(101, 451)"
      ]
     },
     "execution_count": 14,
     "metadata": {},
     "output_type": "execute_result"
    }
   ],
   "source": [
    "N_mesh, p_mesh = np.meshgrid(Ns, ps)\n",
    "N_mesh.shape"
   ]
  },
  {
   "cell_type": "code",
   "execution_count": 15,
   "metadata": {},
   "outputs": [
    {
     "data": {
      "text/plain": [
       "229.56130903199954"
      ]
     },
     "execution_count": 15,
     "metadata": {},
     "output_type": "execute_result"
    }
   ],
   "source": [
    "from scipy.stats import binom\n",
    "\n",
    "like1 = binom.pmf(K, N_mesh, p_mesh)\n",
    "like1.sum()"
   ]
  },
  {
   "cell_type": "code",
   "execution_count": 16,
   "metadata": {},
   "outputs": [
    {
     "data": {
      "text/plain": [
       "24.771767481921685"
      ]
     },
     "execution_count": 16,
     "metadata": {},
     "output_type": "execute_result"
    }
   ],
   "source": [
    "like2 = binom.pmf(k, K, p_mesh) * binom.pmf(n-k, N_mesh-K, p_mesh)\n",
    "like2.sum()"
   ]
  },
  {
   "cell_type": "code",
   "execution_count": 17,
   "metadata": {},
   "outputs": [],
   "source": [
    "from utils import normalize\n",
    "\n",
    "joint_posterior = joint_prior * like1 * like2\n",
    "normalize(joint_posterior)"
   ]
  },
  {
   "cell_type": "code",
   "execution_count": 18,
   "metadata": {},
   "outputs": [],
   "source": [
    "def plot_contour(joint, **options):\n",
    "    \"\"\"Plot a joint distribution.\n",
    "    \n",
    "    joint: DataFrame representing a joint PMF\n",
    "    \"\"\"\n",
    "    cs = plt.contour(joint.columns, joint.index, joint, **options)\n",
    "    decorate(xlabel=joint.columns.name, \n",
    "             ylabel=joint.index.name)\n",
    "    return cs"
   ]
  },
  {
   "cell_type": "code",
   "execution_count": 19,
   "metadata": {},
   "outputs": [
    {
     "data": {
      "image/png": "[encoded data removed]",
      "text/plain": [
       "<Figure size 432x288 with 1 Axes>"
      ]
     },
     "metadata": {
      "needs_background": "light"
     },
     "output_type": "display_data"
    }
   ],
   "source": [
    "plot_contour(joint_posterior)\n",
    "\n",
    "decorate(title='Joint posterior distribution of N and p')"
   ]
  },
  {
   "cell_type": "code",
   "execution_count": 20,
   "metadata": {},
   "outputs": [
    {
     "data": {
      "image/png": "[encoded data removed]",
      "text/plain": [
       "<Figure size 432x288 with 1 Axes>"
      ]
     },
     "metadata": {
      "needs_background": "light"
     },
     "output_type": "display_data"
    }
   ],
   "source": [
    "from utils import marginal\n",
    "\n",
    "marginal_N = marginal(joint_posterior, 0)\n",
    "\n",
    "posterior_N.plot(color='gray')\n",
    "marginal_N.plot()\n",
    "\n",
    "decorate(xlabel='Population of bears (N)',\n",
    "         ylabel='PDF',\n",
    "         title='Posterior marginal distribution of N')"
   ]
  },
  {
   "cell_type": "code",
   "execution_count": 21,
   "metadata": {},
   "outputs": [
    {
     "data": {
      "text/plain": [
       "(138.7505213647261, array([ 68., 277.]))"
      ]
     },
     "execution_count": 21,
     "metadata": {},
     "output_type": "execute_result"
    }
   ],
   "source": [
    "marginal_N.mean(), marginal_N.credible_interval(0.9)"
   ]
  },
  {
   "cell_type": "code",
   "execution_count": 22,
   "metadata": {},
   "outputs": [
    {
     "data": {
      "image/png": "[encoded data removed]",
      "text/plain": [
       "<Figure size 432x288 with 1 Axes>"
      ]
     },
     "metadata": {
      "needs_background": "light"
     },
     "output_type": "display_data"
    }
   ],
   "source": [
    "marginal_p = marginal(joint_posterior, 1)\n",
    "marginal_p.plot()\n",
    "\n",
    "decorate(xlabel='Probability of observing a bear',\n",
    "         ylabel='PDF',\n",
    "         title='Posterior marginal distribution of p')"
   ]
  },
  {
   "cell_type": "code",
   "execution_count": 23,
   "metadata": {},
   "outputs": [],
   "source": [
    "from seaborn import JointGrid\n",
    "\n",
    "def joint_plot(joint, **options):\n",
    "    x = joint.columns.name\n",
    "    x = 'x' if x is None else x\n",
    "\n",
    "    y = joint.index.name\n",
    "    y = 'y' if y is None else y\n",
    "\n",
    "    # make a JointGrid with minimal data\n",
    "    data = pd.DataFrame({x:[0], y:[0]})\n",
    "    g = JointGrid(x, y, data, **options)\n",
    "\n",
    "    # replace the contour plot\n",
    "    g.ax_joint.contour(joint.columns, \n",
    "                   joint.index, \n",
    "                   joint, \n",
    "                   cmap='viridis')\n",
    "    \n",
    "    # replace the marginals\n",
    "    marginal_x = marginal(joint, 0)\n",
    "    g.ax_marg_x.plot(marginal_x.qs, marginal_x.ps)\n",
    "    \n",
    "    marginal_y = marginal(joint, 1)\n",
    "    g.ax_marg_y.plot(marginal_y.ps, marginal_y.qs)"
   ]
  },
  {
   "cell_type": "code",
   "execution_count": 24,
   "metadata": {},
   "outputs": [
    {
     "data": {
      "image/png": "[encoded data removed]",
      "text/plain": [
       "<Figure size 432x432 with 3 Axes>"
      ]
     },
     "metadata": {
      "needs_background": "light"
     },
     "output_type": "display_data"
    }
   ],
   "source": [
    "joint_plot(joint_posterior)"
   ]
  },
  {
   "cell_type": "markdown",
   "metadata": {},
   "source": [
    "## Two parameters better than one?"
   ]
  },
  {
   "cell_type": "code",
   "execution_count": 25,
   "metadata": {},
   "outputs": [
    {
     "data": {
      "text/plain": [
       "0.15217391304347827"
      ]
     },
     "execution_count": 25,
     "metadata": {},
     "output_type": "execute_result"
    }
   ],
   "source": [
    "mean = (23 + 19) / 2\n",
    "N1 = 138\n",
    "p = mean/N1\n",
    "p"
   ]
  },
  {
   "cell_type": "code",
   "execution_count": 26,
   "metadata": {},
   "outputs": [
    {
     "data": {
      "text/plain": [
       "4.219519857292647"
      ]
     },
     "execution_count": 26,
     "metadata": {},
     "output_type": "execute_result"
    }
   ],
   "source": [
    "from scipy.stats import binom\n",
    "\n",
    "binom(N1, p).std()"
   ]
  },
  {
   "cell_type": "code",
   "execution_count": 27,
   "metadata": {},
   "outputs": [
    {
     "data": {
      "text/plain": [
       "0.007113233315460428"
      ]
     },
     "execution_count": 27,
     "metadata": {},
     "output_type": "execute_result"
    }
   ],
   "source": [
    "binom(N1, p).pmf([23, 19]).prod()"
   ]
  },
  {
   "cell_type": "code",
   "execution_count": 28,
   "metadata": {},
   "outputs": [
    {
     "data": {
      "text/plain": [
       "0.12138728323699421"
      ]
     },
     "execution_count": 28,
     "metadata": {},
     "output_type": "execute_result"
    }
   ],
   "source": [
    "N2 = 173\n",
    "p = mean/N2\n",
    "p"
   ]
  },
  {
   "cell_type": "code",
   "execution_count": 29,
   "metadata": {},
   "outputs": [
    {
     "data": {
      "text/plain": [
       "4.2954472470306415"
      ]
     },
     "execution_count": 29,
     "metadata": {},
     "output_type": "execute_result"
    }
   ],
   "source": [
    "binom(N2, p).std()"
   ]
  },
  {
   "cell_type": "code",
   "execution_count": 30,
   "metadata": {},
   "outputs": [
    {
     "data": {
      "text/plain": [
       "0.006918408214247037"
      ]
     },
     "execution_count": 30,
     "metadata": {},
     "output_type": "execute_result"
    }
   ],
   "source": [
    "binom(N2, p).pmf([23, 19]).prod()"
   ]
  },
  {
   "cell_type": "markdown",
   "metadata": {},
   "source": [
    "## The Lincoln index problem\n",
    "\n",
    "A few years ago my occasional correspondent John D. Cook wrote an excellent\n",
    "blog post about the Lincoln index, which is a way to estimate the\n",
    "number of errors in a document (or program) by comparing results from\n",
    "two independent testers. \n",
    "\n",
    "http://www.johndcook.com/blog/2010/07/13/lincoln-index/\n",
    "\n",
    "Here's his presentation of the problem:\n",
    "\n",
    ">\"Suppose you have a tester who finds 20 bugs in your program. You\n",
    "want to estimate how many bugs are really in the program. You know\n",
    "there are at least 20 bugs, and if you have supreme confidence in your\n",
    "tester, you may suppose there are around 20 bugs. But maybe your\n",
    "tester isn't very good. Maybe there are hundreds of bugs. How can you\n",
    "have any idea how many bugs there are? There's no way to know with one\n",
    "tester. But if you have two testers, you can get a good idea, even if\n",
    "you don't know how skilled the testers are.\"\n",
    "\n",
    "Suppose the first tester finds 20 bugs, the second finds 15, and they\n",
    "find 3 in common; how can we estimate the number of bugs?"
   ]
  },
  {
   "cell_type": "code",
   "execution_count": 31,
   "metadata": {},
   "outputs": [],
   "source": [
    "n0 = 20\n",
    "n1 = 15\n",
    "k11 = 3"
   ]
  },
  {
   "cell_type": "code",
   "execution_count": 32,
   "metadata": {},
   "outputs": [
    {
     "data": {
      "text/plain": [
       "(17, 12)"
      ]
     },
     "execution_count": 32,
     "metadata": {},
     "output_type": "execute_result"
    }
   ],
   "source": [
    "k10 = n0 - k11\n",
    "k01 = n1 - k11\n",
    "\n",
    "k10, k01"
   ]
  },
  {
   "cell_type": "code",
   "execution_count": 33,
   "metadata": {},
   "outputs": [],
   "source": [
    "Ns = np.arange(32, 350)\n",
    "prior_N = Pmf(1, Ns)\n",
    "prior_N.index.name = 'N'"
   ]
  },
  {
   "cell_type": "code",
   "execution_count": 34,
   "metadata": {},
   "outputs": [
    {
     "data": {
      "text/plain": [
       "4.9999998675182855"
      ]
     },
     "execution_count": 34,
     "metadata": {},
     "output_type": "execute_result"
    }
   ],
   "source": [
    "p0, p1 = 0.2, 0.15\n",
    "\n",
    "like0 = binom.pmf(n0, Ns, p0)\n",
    "like0.sum()"
   ]
  },
  {
   "cell_type": "code",
   "execution_count": 35,
   "metadata": {},
   "outputs": [
    {
     "data": {
      "text/plain": [
       "1.6188593076346907"
      ]
     },
     "execution_count": 35,
     "metadata": {},
     "output_type": "execute_result"
    }
   ],
   "source": [
    "like1 = binom.pmf(k01, Ns-n0, p1) * binom.pmf(k11, n0, p1)\n",
    "like1.sum()"
   ]
  },
  {
   "cell_type": "code",
   "execution_count": 36,
   "metadata": {},
   "outputs": [
    {
     "data": {
      "text/plain": [
       "(318,)"
      ]
     },
     "execution_count": 36,
     "metadata": {},
     "output_type": "execute_result"
    }
   ],
   "source": [
    "likelihood = like0 * like1\n",
    "likelihood.shape"
   ]
  },
  {
   "cell_type": "code",
   "execution_count": 37,
   "metadata": {},
   "outputs": [
    {
     "data": {
      "text/plain": [
       "(318,)"
      ]
     },
     "execution_count": 37,
     "metadata": {},
     "output_type": "execute_result"
    }
   ],
   "source": [
    "prior_N.shape"
   ]
  },
  {
   "cell_type": "code",
   "execution_count": 38,
   "metadata": {},
   "outputs": [
    {
     "data": {
      "text/plain": [
       "0.10960645032182464"
      ]
     },
     "execution_count": 38,
     "metadata": {},
     "output_type": "execute_result"
    }
   ],
   "source": [
    "posterior_N = prior_N * likelihood\n",
    "posterior_N.normalize()"
   ]
  },
  {
   "cell_type": "code",
   "execution_count": 39,
   "metadata": {},
   "outputs": [
    {
     "data": {
      "image/png": "[encoded data removed]",
      "text/plain": [
       "<Figure size 432x288 with 1 Axes>"
      ]
     },
     "metadata": {
      "needs_background": "light"
     },
     "output_type": "display_data"
    }
   ],
   "source": [
    "posterior_N.plot()\n",
    "\n",
    "decorate(xlabel='n',\n",
    "         ylabel='PMF',\n",
    "         title='Posterior marginal distribution of n with known p1, p2')"
   ]
  },
  {
   "cell_type": "code",
   "execution_count": 40,
   "metadata": {},
   "outputs": [
    {
     "data": {
      "text/plain": [
       "102.12500000000003"
      ]
     },
     "execution_count": 40,
     "metadata": {},
     "output_type": "execute_result"
    }
   ],
   "source": [
    "posterior_N.mean()"
   ]
  },
  {
   "cell_type": "markdown",
   "metadata": {},
   "source": [
    "## Unknown probabilities"
   ]
  },
  {
   "cell_type": "code",
   "execution_count": 41,
   "metadata": {},
   "outputs": [],
   "source": [
    "p0 = np.linspace(0, 1, 61)\n",
    "prior_p0 = Pmf(1, p0)\n",
    "prior_p0.index.name = 'p0'"
   ]
  },
  {
   "cell_type": "code",
   "execution_count": 42,
   "metadata": {},
   "outputs": [],
   "source": [
    "p1 = np.linspace(0, 1, 51)\n",
    "prior_p1 = Pmf(1, p1)\n",
    "prior_p1.index.name = 'p1'"
   ]
  },
  {
   "cell_type": "code",
   "execution_count": 43,
   "metadata": {},
   "outputs": [
    {
     "data": {
      "text/plain": [
       "(51, 61)"
      ]
     },
     "execution_count": 43,
     "metadata": {},
     "output_type": "execute_result"
    }
   ],
   "source": [
    "from utils import make_joint\n",
    "\n",
    "joint = make_joint(prior_p0, prior_p1)\n",
    "joint.shape"
   ]
  },
  {
   "cell_type": "code",
   "execution_count": 44,
   "metadata": {},
   "outputs": [
    {
     "data": {
      "text/plain": [
       "p0   p1  \n",
       "0.0  0.00    1\n",
       "     0.02    1\n",
       "     0.04    1\n",
       "     0.06    1\n",
       "     0.08    1\n",
       "dtype: int64"
      ]
     },
     "execution_count": 44,
     "metadata": {},
     "output_type": "execute_result"
    }
   ],
   "source": [
    "joint_pmf = Pmf(joint.transpose().stack())\n",
    "joint_pmf.head()"
   ]
  },
  {
   "cell_type": "code",
   "execution_count": 45,
   "metadata": {},
   "outputs": [
    {
     "data": {
      "text/plain": [
       "(3111, 318)"
      ]
     },
     "execution_count": 45,
     "metadata": {},
     "output_type": "execute_result"
    }
   ],
   "source": [
    "joint_prior = make_joint(prior_N, joint_pmf)\n",
    "joint_prior.shape"
   ]
  },
  {
   "cell_type": "code",
   "execution_count": 46,
   "metadata": {},
   "outputs": [
    {
     "data": {
      "text/html": [
       "<div>\n",
       "<style scoped>\n",
       "    .dataframe tbody tr th:only-of-type {\n",
       "        vertical-align: middle;\n",
       "    }\n",
       "\n",
       "    .dataframe tbody tr th {\n",
       "        vertical-align: top;\n",
       "    }\n",
       "\n",
       "    .dataframe thead th {\n",
       "        text-align: right;\n",
       "    }\n",
       "</style>\n",
       "<table border=\"1\" class=\"dataframe\">\n",
       "  <thead>\n",
       "    <tr style=\"text-align: right;\">\n",
       "      <th></th>\n",
       "      <th>N</th>\n",
       "      <th>32</th>\n",
       "      <th>33</th>\n",
       "      <th>34</th>\n",
       "      <th>35</th>\n",
       "      <th>36</th>\n",
       "      <th>37</th>\n",
       "      <th>38</th>\n",
       "      <th>39</th>\n",
       "      <th>40</th>\n",
       "      <th>41</th>\n",
       "      <th>...</th>\n",
       "      <th>340</th>\n",
       "      <th>341</th>\n",
       "      <th>342</th>\n",
       "      <th>343</th>\n",
       "      <th>344</th>\n",
       "      <th>345</th>\n",
       "      <th>346</th>\n",
       "      <th>347</th>\n",
       "      <th>348</th>\n",
       "      <th>349</th>\n",
       "    </tr>\n",
       "    <tr>\n",
       "      <th>p0</th>\n",
       "      <th>p1</th>\n",
       "      <th></th>\n",
       "      <th></th>\n",
       "      <th></th>\n",
       "      <th></th>\n",
       "      <th></th>\n",
       "      <th></th>\n",
       "      <th></th>\n",
       "      <th></th>\n",
       "      <th></th>\n",
       "      <th></th>\n",
       "      <th></th>\n",
       "      <th></th>\n",
       "      <th></th>\n",
       "      <th></th>\n",
       "      <th></th>\n",
       "      <th></th>\n",
       "      <th></th>\n",
       "      <th></th>\n",
       "      <th></th>\n",
       "      <th></th>\n",
       "      <th></th>\n",
       "    </tr>\n",
       "  </thead>\n",
       "  <tbody>\n",
       "    <tr>\n",
       "      <th rowspan=\"5\" valign=\"top\">0.0</th>\n",
       "      <th>0.00</th>\n",
       "      <td>1</td>\n",
       "      <td>1</td>\n",
       "      <td>1</td>\n",
       "      <td>1</td>\n",
       "      <td>1</td>\n",
       "      <td>1</td>\n",
       "      <td>1</td>\n",
       "      <td>1</td>\n",
       "      <td>1</td>\n",
       "      <td>1</td>\n",
       "      <td>...</td>\n",
       "      <td>1</td>\n",
       "      <td>1</td>\n",
       "      <td>1</td>\n",
       "      <td>1</td>\n",
       "      <td>1</td>\n",
       "      <td>1</td>\n",
       "      <td>1</td>\n",
       "      <td>1</td>\n",
       "      <td>1</td>\n",
       "      <td>1</td>\n",
       "    </tr>\n",
       "    <tr>\n",
       "      <th>0.02</th>\n",
       "      <td>1</td>\n",
       "      <td>1</td>\n",
       "      <td>1</td>\n",
       "      <td>1</td>\n",
       "      <td>1</td>\n",
       "      <td>1</td>\n",
       "      <td>1</td>\n",
       "      <td>1</td>\n",
       "      <td>1</td>\n",
       "      <td>1</td>\n",
       "      <td>...</td>\n",
       "      <td>1</td>\n",
       "      <td>1</td>\n",
       "      <td>1</td>\n",
       "      <td>1</td>\n",
       "      <td>1</td>\n",
       "      <td>1</td>\n",
       "      <td>1</td>\n",
       "      <td>1</td>\n",
       "      <td>1</td>\n",
       "      <td>1</td>\n",
       "    </tr>\n",
       "    <tr>\n",
       "      <th>0.04</th>\n",
       "      <td>1</td>\n",
       "      <td>1</td>\n",
       "      <td>1</td>\n",
       "      <td>1</td>\n",
       "      <td>1</td>\n",
       "      <td>1</td>\n",
       "      <td>1</td>\n",
       "      <td>1</td>\n",
       "      <td>1</td>\n",
       "      <td>1</td>\n",
       "      <td>...</td>\n",
       "      <td>1</td>\n",
       "      <td>1</td>\n",
       "      <td>1</td>\n",
       "      <td>1</td>\n",
       "      <td>1</td>\n",
       "      <td>1</td>\n",
       "      <td>1</td>\n",
       "      <td>1</td>\n",
       "      <td>1</td>\n",
       "      <td>1</td>\n",
       "    </tr>\n",
       "    <tr>\n",
       "      <th>0.06</th>\n",
       "      <td>1</td>\n",
       "      <td>1</td>\n",
       "      <td>1</td>\n",
       "      <td>1</td>\n",
       "      <td>1</td>\n",
       "      <td>1</td>\n",
       "      <td>1</td>\n",
       "      <td>1</td>\n",
       "      <td>1</td>\n",
       "      <td>1</td>\n",
       "      <td>...</td>\n",
       "      <td>1</td>\n",
       "      <td>1</td>\n",
       "      <td>1</td>\n",
       "      <td>1</td>\n",
       "      <td>1</td>\n",
       "      <td>1</td>\n",
       "      <td>1</td>\n",
       "      <td>1</td>\n",
       "      <td>1</td>\n",
       "      <td>1</td>\n",
       "    </tr>\n",
       "    <tr>\n",
       "      <th>0.08</th>\n",
       "      <td>1</td>\n",
       "      <td>1</td>\n",
       "      <td>1</td>\n",
       "      <td>1</td>\n",
       "      <td>1</td>\n",
       "      <td>1</td>\n",
       "      <td>1</td>\n",
       "      <td>1</td>\n",
       "      <td>1</td>\n",
       "      <td>1</td>\n",
       "      <td>...</td>\n",
       "      <td>1</td>\n",
       "      <td>1</td>\n",
       "      <td>1</td>\n",
       "      <td>1</td>\n",
       "      <td>1</td>\n",
       "      <td>1</td>\n",
       "      <td>1</td>\n",
       "      <td>1</td>\n",
       "      <td>1</td>\n",
       "      <td>1</td>\n",
       "    </tr>\n",
       "  </tbody>\n",
       "</table>\n",
       "<p>5 rows × 318 columns</p>\n",
       "</div>"
      ],
      "text/plain": [
       "N         32   33   34   35   36   37   38   39   40   41   ...  340  341  \\\n",
       "p0  p1                                                      ...             \n",
       "0.0 0.00    1    1    1    1    1    1    1    1    1    1  ...    1    1   \n",
       "    0.02    1    1    1    1    1    1    1    1    1    1  ...    1    1   \n",
       "    0.04    1    1    1    1    1    1    1    1    1    1  ...    1    1   \n",
       "    0.06    1    1    1    1    1    1    1    1    1    1  ...    1    1   \n",
       "    0.08    1    1    1    1    1    1    1    1    1    1  ...    1    1   \n",
       "\n",
       "N         342  343  344  345  346  347  348  349  \n",
       "p0  p1                                            \n",
       "0.0 0.00    1    1    1    1    1    1    1    1  \n",
       "    0.02    1    1    1    1    1    1    1    1  \n",
       "    0.04    1    1    1    1    1    1    1    1  \n",
       "    0.06    1    1    1    1    1    1    1    1  \n",
       "    0.08    1    1    1    1    1    1    1    1  \n",
       "\n",
       "[5 rows x 318 columns]"
      ]
     },
     "execution_count": 46,
     "metadata": {},
     "output_type": "execute_result"
    }
   ],
   "source": [
    "joint_prior.head()"
   ]
  },
  {
   "cell_type": "code",
   "execution_count": 47,
   "metadata": {},
   "outputs": [
    {
     "data": {
      "text/plain": [
       "8.930285561728951"
      ]
     },
     "execution_count": 47,
     "metadata": {},
     "output_type": "execute_result"
    }
   ],
   "source": [
    "likelihood = joint_prior.copy()\n",
    "Ns = joint_prior.columns\n",
    "\n",
    "for (p0, p1) in joint_prior.index:\n",
    "    like0 = binom.pmf(n0, Ns, p0)\n",
    "    like1 = binom.pmf(k01, Ns-n0, p1) * binom.pmf(k11, n0, p1)\n",
    "    likelihood.loc[p0, p1] = like0 * like1\n",
    "    \n",
    "likelihood.to_numpy().sum()"
   ]
  },
  {
   "cell_type": "code",
   "execution_count": 48,
   "metadata": {},
   "outputs": [
    {
     "data": {
      "text/plain": [
       "(3111, 318)"
      ]
     },
     "execution_count": 48,
     "metadata": {},
     "output_type": "execute_result"
    }
   ],
   "source": [
    "from utils import normalize\n",
    "\n",
    "joint_posterior = joint_prior * likelihood\n",
    "normalize(joint_posterior)\n",
    "joint_posterior.shape"
   ]
  },
  {
   "cell_type": "code",
   "execution_count": 49,
   "metadata": {},
   "outputs": [
    {
     "data": {
      "image/png": "[encoded data removed]",
      "text/plain": [
       "<Figure size 432x288 with 1 Axes>"
      ]
     },
     "metadata": {
      "needs_background": "light"
     },
     "output_type": "display_data"
    }
   ],
   "source": [
    "from utils import marginal\n",
    "\n",
    "posterior_N = marginal(joint_posterior, 0)\n",
    "posterior_N.plot()"
   ]
  },
  {
   "cell_type": "code",
   "execution_count": 50,
   "metadata": {},
   "outputs": [
    {
     "data": {
      "text/plain": [
       "(3111,)"
      ]
     },
     "execution_count": 50,
     "metadata": {},
     "output_type": "execute_result"
    }
   ],
   "source": [
    "posterior_pmf = marginal(joint_posterior, 1)\n",
    "posterior_pmf.shape"
   ]
  },
  {
   "cell_type": "code",
   "execution_count": 51,
   "metadata": {},
   "outputs": [
    {
     "data": {
      "text/html": [
       "<div>\n",
       "<style scoped>\n",
       "    .dataframe tbody tr th:only-of-type {\n",
       "        vertical-align: middle;\n",
       "    }\n",
       "\n",
       "    .dataframe tbody tr th {\n",
       "        vertical-align: top;\n",
       "    }\n",
       "\n",
       "    .dataframe thead th {\n",
       "        text-align: right;\n",
       "    }\n",
       "</style>\n",
       "<table border=\"1\" class=\"dataframe\">\n",
       "  <thead>\n",
       "    <tr style=\"text-align: right;\">\n",
       "      <th>p0</th>\n",
       "      <th>0.000000</th>\n",
       "      <th>0.016667</th>\n",
       "      <th>0.033333</th>\n",
       "      <th>0.050000</th>\n",
       "      <th>0.066667</th>\n",
       "      <th>0.083333</th>\n",
       "      <th>0.100000</th>\n",
       "      <th>0.116667</th>\n",
       "      <th>0.133333</th>\n",
       "      <th>0.150000</th>\n",
       "      <th>...</th>\n",
       "      <th>0.850000</th>\n",
       "      <th>0.866667</th>\n",
       "      <th>0.883333</th>\n",
       "      <th>0.900000</th>\n",
       "      <th>0.916667</th>\n",
       "      <th>0.933333</th>\n",
       "      <th>0.950000</th>\n",
       "      <th>0.966667</th>\n",
       "      <th>0.983333</th>\n",
       "      <th>1.000000</th>\n",
       "    </tr>\n",
       "    <tr>\n",
       "      <th>p1</th>\n",
       "      <th></th>\n",
       "      <th></th>\n",
       "      <th></th>\n",
       "      <th></th>\n",
       "      <th></th>\n",
       "      <th></th>\n",
       "      <th></th>\n",
       "      <th></th>\n",
       "      <th></th>\n",
       "      <th></th>\n",
       "      <th></th>\n",
       "      <th></th>\n",
       "      <th></th>\n",
       "      <th></th>\n",
       "      <th></th>\n",
       "      <th></th>\n",
       "      <th></th>\n",
       "      <th></th>\n",
       "      <th></th>\n",
       "      <th></th>\n",
       "      <th></th>\n",
       "    </tr>\n",
       "  </thead>\n",
       "  <tbody>\n",
       "    <tr>\n",
       "      <th>0.00</th>\n",
       "      <td>0.0</td>\n",
       "      <td>0.000000e+00</td>\n",
       "      <td>0.000000</td>\n",
       "      <td>0.000000</td>\n",
       "      <td>0.000000</td>\n",
       "      <td>0.000000</td>\n",
       "      <td>0.000000</td>\n",
       "      <td>0.000000</td>\n",
       "      <td>0.000000e+00</td>\n",
       "      <td>0.000000e+00</td>\n",
       "      <td>...</td>\n",
       "      <td>0.000000e+00</td>\n",
       "      <td>0.000000e+00</td>\n",
       "      <td>0.000000e+00</td>\n",
       "      <td>0.000000e+00</td>\n",
       "      <td>0.000000e+00</td>\n",
       "      <td>0.000000e+00</td>\n",
       "      <td>0.000000e+00</td>\n",
       "      <td>0.000000e+00</td>\n",
       "      <td>0.000000e+00</td>\n",
       "      <td>0.0</td>\n",
       "    </tr>\n",
       "    <tr>\n",
       "      <th>0.02</th>\n",
       "      <td>0.0</td>\n",
       "      <td>4.015401e-10</td>\n",
       "      <td>0.000002</td>\n",
       "      <td>0.000032</td>\n",
       "      <td>0.000050</td>\n",
       "      <td>0.000025</td>\n",
       "      <td>0.000007</td>\n",
       "      <td>0.000002</td>\n",
       "      <td>5.060290e-07</td>\n",
       "      <td>1.416566e-07</td>\n",
       "      <td>...</td>\n",
       "      <td>6.400273e-25</td>\n",
       "      <td>1.228006e-25</td>\n",
       "      <td>1.958740e-26</td>\n",
       "      <td>2.449499e-27</td>\n",
       "      <td>2.193235e-28</td>\n",
       "      <td>1.207843e-29</td>\n",
       "      <td>3.077500e-31</td>\n",
       "      <td>1.914739e-33</td>\n",
       "      <td>3.786697e-37</td>\n",
       "      <td>0.0</td>\n",
       "    </tr>\n",
       "    <tr>\n",
       "      <th>0.04</th>\n",
       "      <td>0.0</td>\n",
       "      <td>1.890324e-08</td>\n",
       "      <td>0.000105</td>\n",
       "      <td>0.001978</td>\n",
       "      <td>0.004170</td>\n",
       "      <td>0.003270</td>\n",
       "      <td>0.001700</td>\n",
       "      <td>0.000760</td>\n",
       "      <td>3.213970e-04</td>\n",
       "      <td>1.333903e-04</td>\n",
       "      <td>...</td>\n",
       "      <td>1.315527e-20</td>\n",
       "      <td>2.561670e-21</td>\n",
       "      <td>4.144637e-22</td>\n",
       "      <td>5.254755e-23</td>\n",
       "      <td>4.767778e-24</td>\n",
       "      <td>2.659487e-25</td>\n",
       "      <td>6.860462e-27</td>\n",
       "      <td>4.319699e-29</td>\n",
       "      <td>8.642163e-33</td>\n",
       "      <td>0.0</td>\n",
       "    </tr>\n",
       "    <tr>\n",
       "      <th>0.06</th>\n",
       "      <td>0.0</td>\n",
       "      <td>1.196881e-08</td>\n",
       "      <td>0.000081</td>\n",
       "      <td>0.002099</td>\n",
       "      <td>0.007045</td>\n",
       "      <td>0.009668</td>\n",
       "      <td>0.008665</td>\n",
       "      <td>0.006179</td>\n",
       "      <td>3.852341e-03</td>\n",
       "      <td>2.210927e-03</td>\n",
       "      <td>...</td>\n",
       "      <td>3.588320e-18</td>\n",
       "      <td>7.090774e-19</td>\n",
       "      <td>1.163614e-19</td>\n",
       "      <td>1.495587e-20</td>\n",
       "      <td>1.375016e-21</td>\n",
       "      <td>7.768342e-23</td>\n",
       "      <td>2.028796e-24</td>\n",
       "      <td>1.292760e-26</td>\n",
       "      <td>2.616374e-30</td>\n",
       "      <td>0.0</td>\n",
       "    </tr>\n",
       "    <tr>\n",
       "      <th>0.08</th>\n",
       "      <td>0.0</td>\n",
       "      <td>1.471051e-09</td>\n",
       "      <td>0.000014</td>\n",
       "      <td>0.000600</td>\n",
       "      <td>0.003545</td>\n",
       "      <td>0.008300</td>\n",
       "      <td>0.011721</td>\n",
       "      <td>0.012207</td>\n",
       "      <td>1.046347e-02</td>\n",
       "      <td>7.875544e-03</td>\n",
       "      <td>...</td>\n",
       "      <td>1.660452e-16</td>\n",
       "      <td>3.329404e-17</td>\n",
       "      <td>5.541137e-18</td>\n",
       "      <td>7.219543e-19</td>\n",
       "      <td>6.725358e-20</td>\n",
       "      <td>3.848194e-21</td>\n",
       "      <td>1.017439e-22</td>\n",
       "      <td>6.560825e-25</td>\n",
       "      <td>1.343223e-28</td>\n",
       "      <td>0.0</td>\n",
       "    </tr>\n",
       "  </tbody>\n",
       "</table>\n",
       "<p>5 rows × 61 columns</p>\n",
       "</div>"
      ],
      "text/plain": [
       "p0    0.000000      0.016667  0.033333  0.050000  0.066667  0.083333  \\\n",
       "p1                                                                     \n",
       "0.00       0.0  0.000000e+00  0.000000  0.000000  0.000000  0.000000   \n",
       "0.02       0.0  4.015401e-10  0.000002  0.000032  0.000050  0.000025   \n",
       "0.04       0.0  1.890324e-08  0.000105  0.001978  0.004170  0.003270   \n",
       "0.06       0.0  1.196881e-08  0.000081  0.002099  0.007045  0.009668   \n",
       "0.08       0.0  1.471051e-09  0.000014  0.000600  0.003545  0.008300   \n",
       "\n",
       "p0    0.100000  0.116667      0.133333      0.150000  ...      0.850000  \\\n",
       "p1                                                    ...                 \n",
       "0.00  0.000000  0.000000  0.000000e+00  0.000000e+00  ...  0.000000e+00   \n",
       "0.02  0.000007  0.000002  5.060290e-07  1.416566e-07  ...  6.400273e-25   \n",
       "0.04  0.001700  0.000760  3.213970e-04  1.333903e-04  ...  1.315527e-20   \n",
       "0.06  0.008665  0.006179  3.852341e-03  2.210927e-03  ...  3.588320e-18   \n",
       "0.08  0.011721  0.012207  1.046347e-02  7.875544e-03  ...  1.660452e-16   \n",
       "\n",
       "p0        0.866667      0.883333      0.900000      0.916667      0.933333  \\\n",
       "p1                                                                           \n",
       "0.00  0.000000e+00  0.000000e+00  0.000000e+00  0.000000e+00  0.000000e+00   \n",
       "0.02  1.228006e-25  1.958740e-26  2.449499e-27  2.193235e-28  1.207843e-29   \n",
       "0.04  2.561670e-21  4.144637e-22  5.254755e-23  4.767778e-24  2.659487e-25   \n",
       "0.06  7.090774e-19  1.163614e-19  1.495587e-20  1.375016e-21  7.768342e-23   \n",
       "0.08  3.329404e-17  5.541137e-18  7.219543e-19  6.725358e-20  3.848194e-21   \n",
       "\n",
       "p0        0.950000      0.966667      0.983333  1.000000  \n",
       "p1                                                        \n",
       "0.00  0.000000e+00  0.000000e+00  0.000000e+00       0.0  \n",
       "0.02  3.077500e-31  1.914739e-33  3.786697e-37       0.0  \n",
       "0.04  6.860462e-27  4.319699e-29  8.642163e-33       0.0  \n",
       "0.06  2.028796e-24  1.292760e-26  2.616374e-30       0.0  \n",
       "0.08  1.017439e-22  6.560825e-25  1.343223e-28       0.0  \n",
       "\n",
       "[5 rows x 61 columns]"
      ]
     },
     "execution_count": 51,
     "metadata": {},
     "output_type": "execute_result"
    }
   ],
   "source": [
    "posterior_joint_ps = posterior_pmf.unstack().transpose()\n",
    "posterior_joint_ps.head()"
   ]
  },
  {
   "cell_type": "code",
   "execution_count": 52,
   "metadata": {},
   "outputs": [],
   "source": [
    "def plot_contour(joint, **options):\n",
    "    \"\"\"Plot a joint distribution.\n",
    "    \n",
    "    joint: DataFrame representing a joint PMF\n",
    "    \"\"\"\n",
    "    cs = plt.contour(joint.columns, joint.index, joint, **options)\n",
    "    decorate(xlabel=joint.columns.name, \n",
    "             ylabel=joint.index.name)\n",
    "    return cs"
   ]
  },
  {
   "cell_type": "code",
   "execution_count": 53,
   "metadata": {},
   "outputs": [
    {
     "data": {
      "image/png": "[encoded data removed]",
      "text/plain": [
       "<Figure size 432x288 with 1 Axes>"
      ]
     },
     "metadata": {
      "needs_background": "light"
     },
     "output_type": "display_data"
    }
   ],
   "source": [
    "plot_contour(posterior_joint_ps)\n",
    "decorate(title='Posterior joint distribution for p1 and p2')"
   ]
  },
  {
   "cell_type": "code",
   "execution_count": 54,
   "metadata": {},
   "outputs": [
    {
     "data": {
      "image/png": "[encoded data removed]",
      "text/plain": [
       "<Figure size 432x288 with 1 Axes>"
      ]
     },
     "metadata": {
      "needs_background": "light"
     },
     "output_type": "display_data"
    }
   ],
   "source": [
    "posterior_p1 = marginal(posterior_joint_ps, 0)\n",
    "posterior_p2 = marginal(posterior_joint_ps, 1)\n",
    "\n",
    "posterior_p1.plot(label='p1')\n",
    "posterior_p2.plot(label='p2')\n",
    "decorate(xlabel='Probability of finding a bug',\n",
    "         ylabel='PDF',\n",
    "         title='Posterior marginal distributions of p1 and p2')"
   ]
  },
  {
   "cell_type": "code",
   "execution_count": 55,
   "metadata": {},
   "outputs": [
    {
     "data": {
      "text/plain": [
       "(0.22970406720316164, array([0.1, 0.4]))"
      ]
     },
     "execution_count": 55,
     "metadata": {},
     "output_type": "execute_result"
    }
   ],
   "source": [
    "posterior_p1.mean(), posterior_p1.credible_interval(0.9)"
   ]
  },
  {
   "cell_type": "code",
   "execution_count": 56,
   "metadata": {},
   "outputs": [
    {
     "data": {
      "text/plain": [
       "(0.17501024717938662, array([0.06, 0.32]))"
      ]
     },
     "execution_count": 56,
     "metadata": {},
     "output_type": "execute_result"
    }
   ],
   "source": [
    "posterior_p2.mean(), posterior_p2.credible_interval(0.9)"
   ]
  },
  {
   "cell_type": "code",
   "execution_count": 57,
   "metadata": {},
   "outputs": [
    {
     "data": {
      "image/png": "[encoded data removed]",
      "text/plain": [
       "<Figure size 432x432 with 3 Axes>"
      ]
     },
     "metadata": {
      "needs_background": "light"
     },
     "output_type": "display_data"
    }
   ],
   "source": [
    "joint_plot(posterior_joint_ps)"
   ]
  },
  {
   "cell_type": "markdown",
   "metadata": {},
   "source": [
    "## Chao et al"
   ]
  },
  {
   "cell_type": "code",
   "execution_count": 58,
   "metadata": {},
   "outputs": [],
   "source": [
    "data = [-1000, 63, 55, 18, 69, 17, 21, 28]"
   ]
  },
  {
   "cell_type": "code",
   "execution_count": 59,
   "metadata": {},
   "outputs": [],
   "source": [
    "index = pd.MultiIndex.from_product([[0, 1]]*3)"
   ]
  },
  {
   "cell_type": "code",
   "execution_count": 60,
   "metadata": {},
   "outputs": [
    {
     "data": {
      "text/plain": [
       "0  0  0   -1000\n",
       "      1      63\n",
       "   1  0      55\n",
       "      1      18\n",
       "1  0  0      69\n",
       "      1      17\n",
       "   1  0      21\n",
       "      1      28\n",
       "dtype: int64"
      ]
     },
     "execution_count": 60,
     "metadata": {},
     "output_type": "execute_result"
    }
   ],
   "source": [
    "Kijk = pd.Series(data, index)\n",
    "Kijk"
   ]
  },
  {
   "cell_type": "code",
   "execution_count": 61,
   "metadata": {},
   "outputs": [
    {
     "data": {
      "text/plain": [
       "135"
      ]
     },
     "execution_count": 61,
     "metadata": {},
     "output_type": "execute_result"
    }
   ],
   "source": [
    "Kijk.xs(1, level=0).sum()"
   ]
  },
  {
   "cell_type": "code",
   "execution_count": 62,
   "metadata": {},
   "outputs": [
    {
     "data": {
      "text/plain": [
       "122"
      ]
     },
     "execution_count": 62,
     "metadata": {},
     "output_type": "execute_result"
    }
   ],
   "source": [
    "Kijk.xs(1, level=1).sum()"
   ]
  },
  {
   "cell_type": "code",
   "execution_count": 63,
   "metadata": {},
   "outputs": [
    {
     "data": {
      "text/plain": [
       "126"
      ]
     },
     "execution_count": 63,
     "metadata": {},
     "output_type": "execute_result"
    }
   ],
   "source": [
    "Kijk.xs(1, level=2).sum()"
   ]
  },
  {
   "cell_type": "code",
   "execution_count": 64,
   "metadata": {},
   "outputs": [
    {
     "data": {
      "text/plain": [
       "0    135\n",
       "1    122\n",
       "2    126\n",
       "dtype: int64"
      ]
     },
     "execution_count": 64,
     "metadata": {},
     "output_type": "execute_result"
    }
   ],
   "source": [
    "n = pd.Series(1, range(3))\n",
    "\n",
    "for level in n.index:\n",
    "    n[level] = Kijk.xs(1, level=level).sum()\n",
    "    \n",
    "n"
   ]
  },
  {
   "cell_type": "code",
   "execution_count": 65,
   "metadata": {},
   "outputs": [
    {
     "data": {
      "text/plain": [
       "0   -864\n",
       "1    135\n",
       "dtype: int64"
      ]
     },
     "execution_count": 65,
     "metadata": {},
     "output_type": "execute_result"
    }
   ],
   "source": [
    "Kixx = Kijk.sum(level=0)\n",
    "Kixx"
   ]
  },
  {
   "cell_type": "code",
   "execution_count": 66,
   "metadata": {},
   "outputs": [
    {
     "data": {
      "text/plain": [
       "0  0   -937\n",
       "   1     73\n",
       "1  0     86\n",
       "   1     49\n",
       "dtype: int64"
      ]
     },
     "execution_count": 66,
     "metadata": {},
     "output_type": "execute_result"
    }
   ],
   "source": [
    "Kijx = Kijk.sum(level=[0,1])\n",
    "Kijx"
   ]
  },
  {
   "cell_type": "code",
   "execution_count": 67,
   "metadata": {},
   "outputs": [],
   "source": [
    "def num_observed(K):\n",
    "    return np.asarray(K)[1:].sum()"
   ]
  },
  {
   "cell_type": "code",
   "execution_count": 68,
   "metadata": {},
   "outputs": [
    {
     "data": {
      "text/plain": [
       "135"
      ]
     },
     "execution_count": 68,
     "metadata": {},
     "output_type": "execute_result"
    }
   ],
   "source": [
    "s0 = num_observed(Kixx)\n",
    "s0"
   ]
  },
  {
   "cell_type": "code",
   "execution_count": 69,
   "metadata": {},
   "outputs": [
    {
     "data": {
      "text/plain": [
       "208"
      ]
     },
     "execution_count": 69,
     "metadata": {},
     "output_type": "execute_result"
    }
   ],
   "source": [
    "s1 = num_observed(Kijx)\n",
    "s1"
   ]
  },
  {
   "cell_type": "code",
   "execution_count": 70,
   "metadata": {},
   "outputs": [
    {
     "data": {
      "text/plain": [
       "271"
      ]
     },
     "execution_count": 70,
     "metadata": {},
     "output_type": "execute_result"
    }
   ],
   "source": [
    "s2 = num_observed(Kijk)\n",
    "s2"
   ]
  },
  {
   "cell_type": "code",
   "execution_count": 71,
   "metadata": {},
   "outputs": [
    {
     "data": {
      "text/plain": [
       "[135, 208, 271]"
      ]
     },
     "execution_count": 71,
     "metadata": {},
     "output_type": "execute_result"
    }
   ],
   "source": [
    "s = [s0, s1, s2]\n",
    "s"
   ]
  },
  {
   "cell_type": "code",
   "execution_count": 72,
   "metadata": {
    "scrolled": true
   },
   "outputs": [
    {
     "data": {
      "text/plain": [
       "0            -864\n",
       "1             135\n",
       "(0, 0)       -937\n",
       "(0, 1)         73\n",
       "(1, 0)         86\n",
       "(1, 1)         49\n",
       "(0, 0, 0)   -1000\n",
       "(0, 0, 1)      63\n",
       "(0, 1, 0)      55\n",
       "(0, 1, 1)      18\n",
       "(1, 0, 0)      69\n",
       "(1, 0, 1)      17\n",
       "(1, 1, 0)      21\n",
       "(1, 1, 1)      28\n",
       "dtype: int64"
      ]
     },
     "execution_count": 72,
     "metadata": {},
     "output_type": "execute_result"
    }
   ],
   "source": [
    "k = pd.concat([Kixx, Kijx, Kijk])\n",
    "k"
   ]
  },
  {
   "cell_type": "code",
   "execution_count": 73,
   "metadata": {},
   "outputs": [
    {
     "data": {
      "text/plain": [
       "135"
      ]
     },
     "execution_count": 73,
     "metadata": {},
     "output_type": "execute_result"
    }
   ],
   "source": [
    "k[1]"
   ]
  },
  {
   "cell_type": "code",
   "execution_count": 74,
   "metadata": {},
   "outputs": [
    {
     "data": {
      "text/plain": [
       "73"
      ]
     },
     "execution_count": 74,
     "metadata": {},
     "output_type": "execute_result"
    }
   ],
   "source": [
    "k[0,1]"
   ]
  },
  {
   "cell_type": "code",
   "execution_count": 75,
   "metadata": {},
   "outputs": [
    {
     "data": {
      "text/plain": [
       "63"
      ]
     },
     "execution_count": 75,
     "metadata": {},
     "output_type": "execute_result"
    }
   ],
   "source": [
    "k[0,0,1]"
   ]
  },
  {
   "cell_type": "code",
   "execution_count": 76,
   "metadata": {},
   "outputs": [
    {
     "data": {
      "text/plain": [
       "-864"
      ]
     },
     "execution_count": 76,
     "metadata": {},
     "output_type": "execute_result"
    }
   ],
   "source": [
    "k[0]"
   ]
  },
  {
   "cell_type": "code",
   "execution_count": 77,
   "metadata": {},
   "outputs": [
    {
     "data": {
      "text/plain": [
       "165"
      ]
     },
     "execution_count": 77,
     "metadata": {},
     "output_type": "execute_result"
    }
   ],
   "source": [
    "N = 300\n",
    "k0 = N - s[0]\n",
    "k0"
   ]
  },
  {
   "cell_type": "code",
   "execution_count": 78,
   "metadata": {},
   "outputs": [
    {
     "data": {
      "text/plain": [
       "92"
      ]
     },
     "execution_count": 78,
     "metadata": {},
     "output_type": "execute_result"
    }
   ],
   "source": [
    "k00 = N - s[1]\n",
    "k00"
   ]
  },
  {
   "cell_type": "code",
   "execution_count": 79,
   "metadata": {},
   "outputs": [
    {
     "data": {
      "text/plain": [
       "29"
      ]
     },
     "execution_count": 79,
     "metadata": {},
     "output_type": "execute_result"
    }
   ],
   "source": [
    "k000 = N - s[2]\n",
    "k000"
   ]
  },
  {
   "cell_type": "code",
   "execution_count": 80,
   "metadata": {},
   "outputs": [],
   "source": [
    "Ns = np.arange(s2, 500, 5)\n",
    "prior_N = Pmf(1, Ns)\n",
    "prior_N.index.name = 'N'"
   ]
  },
  {
   "cell_type": "code",
   "execution_count": 81,
   "metadata": {},
   "outputs": [],
   "source": [
    "ps = np.linspace(0, 1, 101)\n",
    "prior_p = Pmf(1, ps)\n",
    "prior_p.index.name = 'p'"
   ]
  },
  {
   "cell_type": "code",
   "execution_count": 82,
   "metadata": {},
   "outputs": [],
   "source": [
    "from utils import make_joint\n",
    "\n",
    "joint_prior = make_joint(prior_N, prior_p)"
   ]
  },
  {
   "cell_type": "code",
   "execution_count": 83,
   "metadata": {},
   "outputs": [],
   "source": [
    "def likelihood_round1(ps, n, k, s, joint_prior):\n",
    "\n",
    "    like = joint_prior.copy()\n",
    "\n",
    "    for N in joint_prior:\n",
    "        like[N] = binom.pmf(n[0], N, ps)\n",
    "    return like"
   ]
  },
  {
   "cell_type": "code",
   "execution_count": 84,
   "metadata": {},
   "outputs": [],
   "source": [
    "like1 = likelihood_round1(ps, n, k, s, joint_prior)"
   ]
  },
  {
   "cell_type": "code",
   "execution_count": 85,
   "metadata": {},
   "outputs": [],
   "source": [
    "def likelihood_round2(ps, n, k, s, joint_prior):\n",
    "    like = joint_prior.copy()\n",
    "\n",
    "    for N in joint_prior:\n",
    "        k0 = N - s[0]\n",
    "        like[N] = (binom.pmf(k[0,1], k0, ps) * \n",
    "                   binom.pmf(k[1,1], k[1], ps))\n",
    "    return like"
   ]
  },
  {
   "cell_type": "code",
   "execution_count": 86,
   "metadata": {},
   "outputs": [
    {
     "data": {
      "text/plain": [
       "0.40773670523278144"
      ]
     },
     "execution_count": 86,
     "metadata": {},
     "output_type": "execute_result"
    }
   ],
   "source": [
    "like2 = likelihood_round2(ps, n, k, s, joint_prior)\n",
    "like2.to_numpy().sum()"
   ]
  },
  {
   "cell_type": "code",
   "execution_count": 87,
   "metadata": {},
   "outputs": [],
   "source": [
    "joint_posterior2 = joint_prior * like1 * like2\n",
    "normalize(joint_posterior2)"
   ]
  },
  {
   "cell_type": "code",
   "execution_count": 88,
   "metadata": {},
   "outputs": [
    {
     "data": {
      "image/png": "[encoded data removed]",
      "text/plain": [
       "<Figure size 432x288 with 1 Axes>"
      ]
     },
     "metadata": {
      "needs_background": "light"
     },
     "output_type": "display_data"
    }
   ],
   "source": [
    "plot_contour(joint_posterior2)\n",
    "decorate(title='Joint posterior of N and p')"
   ]
  },
  {
   "cell_type": "code",
   "execution_count": 89,
   "metadata": {},
   "outputs": [
    {
     "data": {
      "image/png": "[encoded data removed]",
      "text/plain": [
       "<Figure size 432x288 with 1 Axes>"
      ]
     },
     "metadata": {
      "needs_background": "light"
     },
     "output_type": "display_data"
    }
   ],
   "source": [
    "marginal_N = marginal(joint_posterior2, 0)\n",
    "marginal_N.plot()\n",
    "\n",
    "decorate(xlabel='N',\n",
    "         ylabel='PDF',\n",
    "         title='Posterior marginal distribution of N')"
   ]
  },
  {
   "cell_type": "code",
   "execution_count": 90,
   "metadata": {},
   "outputs": [
    {
     "data": {
      "text/plain": [
       "(342.19942566476345, array([296., 396.]))"
      ]
     },
     "execution_count": 90,
     "metadata": {},
     "output_type": "execute_result"
    }
   ],
   "source": [
    "marginal_N.mean(), marginal_N.credible_interval(0.9)"
   ]
  },
  {
   "cell_type": "code",
   "execution_count": 91,
   "metadata": {},
   "outputs": [
    {
     "data": {
      "image/png": "[encoded data removed]",
      "text/plain": [
       "<Figure size 432x288 with 1 Axes>"
      ]
     },
     "metadata": {
      "needs_background": "light"
     },
     "output_type": "display_data"
    }
   ],
   "source": [
    "marginal_p = marginal(joint_posterior2, 1)\n",
    "marginal_p.plot()\n",
    "\n",
    "decorate(xlabel='p',\n",
    "         ylabel='PDF',\n",
    "         title='Posterior marginal distribution of p')"
   ]
  },
  {
   "cell_type": "code",
   "execution_count": 92,
   "metadata": {},
   "outputs": [],
   "source": [
    "def likelihood_round3(ps, n, k, s, joint_prior):\n",
    "    like = joint_prior.copy()\n",
    "\n",
    "    for N in joint_prior:\n",
    "        k00 = N - s[1]\n",
    "        like[N] = (binom.pmf(k[0,0,1], k00, ps) * \n",
    "                   binom.pmf(k[0,1,1], k[0,1], ps) * \n",
    "                   binom.pmf(k[1,0,1], k[1,0], ps) * \n",
    "                   binom.pmf(k[1,1,1], k[1,1], ps))\n",
    "    return like"
   ]
  },
  {
   "cell_type": "code",
   "execution_count": 93,
   "metadata": {},
   "outputs": [
    {
     "data": {
      "text/plain": [
       "1.7620042777092345e-07"
      ]
     },
     "execution_count": 93,
     "metadata": {},
     "output_type": "execute_result"
    }
   ],
   "source": [
    "like3 = likelihood_round3(ps, n, k, s, joint_prior)\n",
    "like3.to_numpy().sum()"
   ]
  },
  {
   "cell_type": "code",
   "execution_count": 94,
   "metadata": {},
   "outputs": [],
   "source": [
    "joint_posterior3 = joint_posterior2 * like3\n",
    "normalize(joint_posterior3)"
   ]
  },
  {
   "cell_type": "code",
   "execution_count": 95,
   "metadata": {},
   "outputs": [
    {
     "data": {
      "image/png": "[encoded data removed]",
      "text/plain": [
       "<Figure size 432x288 with 1 Axes>"
      ]
     },
     "metadata": {
      "needs_background": "light"
     },
     "output_type": "display_data"
    }
   ],
   "source": [
    "plot_contour(joint_posterior3)\n",
    "decorate(title='Joint posterior of N and p')"
   ]
  },
  {
   "cell_type": "code",
   "execution_count": 96,
   "metadata": {},
   "outputs": [
    {
     "data": {
      "image/png": "[encoded data removed]",
      "text/plain": [
       "<Figure size 432x288 with 1 Axes>"
      ]
     },
     "metadata": {
      "needs_background": "light"
     },
     "output_type": "display_data"
    }
   ],
   "source": [
    "marginal_N = marginal(joint_posterior3, 0)\n",
    "marginal_N.plot()\n",
    "\n",
    "decorate(xlabel='N',\n",
    "         ylabel='PDF',\n",
    "         title='Posterior marginal distribution of N')"
   ]
  },
  {
   "cell_type": "code",
   "execution_count": 97,
   "metadata": {},
   "outputs": [
    {
     "data": {
      "text/plain": [
       "(391.0058839098183, array([356., 431.]))"
      ]
     },
     "execution_count": 97,
     "metadata": {},
     "output_type": "execute_result"
    }
   ],
   "source": [
    "marginal_N.mean(), marginal_N.credible_interval(0.9)"
   ]
  },
  {
   "cell_type": "code",
   "execution_count": 98,
   "metadata": {},
   "outputs": [
    {
     "data": {
      "image/png": "[encoded data removed]",
      "text/plain": [
       "<Figure size 432x288 with 1 Axes>"
      ]
     },
     "metadata": {
      "needs_background": "light"
     },
     "output_type": "display_data"
    }
   ],
   "source": [
    "marginal_p = marginal(joint_posterior3, 1)\n",
    "marginal_p.plot()\n",
    "\n",
    "decorate(xlabel='p',\n",
    "         ylabel='PDF',\n",
    "         title='Posterior marginal distribution of p')"
   ]
  },
  {
   "cell_type": "code",
   "execution_count": 99,
   "metadata": {},
   "outputs": [
    {
     "data": {
      "image/png": "[encoded data removed]",
      "text/plain": [
       "<Figure size 432x432 with 3 Axes>"
      ]
     },
     "metadata": {
      "needs_background": "light"
     },
     "output_type": "display_data"
    }
   ],
   "source": [
    "joint_plot(joint_posterior3)"
   ]
  },
  {
   "cell_type": "markdown",
   "metadata": {},
   "source": [
    "## Spina bifida"
   ]
  },
  {
   "cell_type": "code",
   "execution_count": 100,
   "metadata": {},
   "outputs": [
    {
     "data": {
      "text/plain": [
       "626"
      ]
     },
     "execution_count": 100,
     "metadata": {},
     "output_type": "execute_result"
    }
   ],
   "source": [
    "data_sb = [-100, 60, 49, 4, 247, 112, 142, 12]\n",
    "num_observed(data_sb)"
   ]
  },
  {
   "cell_type": "code",
   "execution_count": 101,
   "metadata": {},
   "outputs": [],
   "source": [
    "def make_stats(data, num_rounds):\n",
    "    index = pd.MultiIndex.from_product([[0, 1]]*num_rounds)\n",
    "\n",
    "    K = pd.Series(data, index)\n",
    "\n",
    "    n = pd.Series(0, range(num_rounds))\n",
    "    for level in n.index:\n",
    "        n[level] = K.xs(1, level=level).sum()\n",
    "    \n",
    "    t = [K.sum(level=list(range(i+1)))\n",
    "         for i in range(num_rounds)]\n",
    "    \n",
    "    s = [num_observed(Kx) for Kx in t]\n",
    "        \n",
    "    k = pd.concat(t)\n",
    "    return n, k, s"
   ]
  },
  {
   "cell_type": "code",
   "execution_count": 102,
   "metadata": {},
   "outputs": [],
   "source": [
    "n, k, s = make_stats(data_sb, 3)"
   ]
  },
  {
   "cell_type": "code",
   "execution_count": 103,
   "metadata": {},
   "outputs": [
    {
     "data": {
      "text/plain": [
       "0    513\n",
       "1    207\n",
       "2    188\n",
       "dtype: int64"
      ]
     },
     "execution_count": 103,
     "metadata": {},
     "output_type": "execute_result"
    }
   ],
   "source": [
    "n"
   ]
  },
  {
   "cell_type": "code",
   "execution_count": 104,
   "metadata": {},
   "outputs": [
    {
     "data": {
      "text/plain": [
       "0             13\n",
       "1            513\n",
       "(0, 0)       -40\n",
       "(0, 1)        53\n",
       "(1, 0)       359\n",
       "(1, 1)       154\n",
       "(0, 0, 0)   -100\n",
       "(0, 0, 1)     60\n",
       "(0, 1, 0)     49\n",
       "(0, 1, 1)      4\n",
       "(1, 0, 0)    247\n",
       "(1, 0, 1)    112\n",
       "(1, 1, 0)    142\n",
       "(1, 1, 1)     12\n",
       "dtype: int64"
      ]
     },
     "execution_count": 104,
     "metadata": {},
     "output_type": "execute_result"
    }
   ],
   "source": [
    "k"
   ]
  },
  {
   "cell_type": "code",
   "execution_count": 105,
   "metadata": {},
   "outputs": [
    {
     "data": {
      "text/plain": [
       "[513, 566, 626]"
      ]
     },
     "execution_count": 105,
     "metadata": {},
     "output_type": "execute_result"
    }
   ],
   "source": [
    "s"
   ]
  },
  {
   "cell_type": "code",
   "execution_count": 106,
   "metadata": {},
   "outputs": [
    {
     "data": {
      "text/plain": [
       "(75,)"
      ]
     },
     "execution_count": 106,
     "metadata": {},
     "output_type": "execute_result"
    }
   ],
   "source": [
    "Ns = np.arange(s[2], 1000, 5)\n",
    "prior_N = Pmf(1, Ns)\n",
    "prior_N.index.name = 'N'\n",
    "prior_N.shape"
   ]
  },
  {
   "cell_type": "code",
   "execution_count": 107,
   "metadata": {},
   "outputs": [
    {
     "data": {
      "text/plain": [
       "p0\n",
       "0.50    1\n",
       "0.51    1\n",
       "0.52    1\n",
       "0.53    1\n",
       "0.54    1\n",
       "dtype: int64"
      ]
     },
     "execution_count": 107,
     "metadata": {},
     "output_type": "execute_result"
    }
   ],
   "source": [
    "probs0 = np.linspace(0.5, 1.0, 51)\n",
    "prior_p0 = Pmf(1, probs0)\n",
    "prior_p0.index.name = 'p0'\n",
    "prior_p0.head()"
   ]
  },
  {
   "cell_type": "code",
   "execution_count": 108,
   "metadata": {},
   "outputs": [
    {
     "data": {
      "text/plain": [
       "p1\n",
       "0.10    1\n",
       "0.11    1\n",
       "0.12    1\n",
       "0.13    1\n",
       "0.14    1\n",
       "dtype: int64"
      ]
     },
     "execution_count": 108,
     "metadata": {},
     "output_type": "execute_result"
    }
   ],
   "source": [
    "probs1 = np.linspace(0.1, 0.5, 41)\n",
    "prior_p1 = Pmf(1, probs1)\n",
    "prior_p1.index.name = 'p1'\n",
    "prior_p1.head()"
   ]
  },
  {
   "cell_type": "code",
   "execution_count": 109,
   "metadata": {},
   "outputs": [
    {
     "data": {
      "text/plain": [
       "p2\n",
       "0.10    1\n",
       "0.11    1\n",
       "0.12    1\n",
       "0.13    1\n",
       "0.14    1\n",
       "dtype: int64"
      ]
     },
     "execution_count": 109,
     "metadata": {},
     "output_type": "execute_result"
    }
   ],
   "source": [
    "probs2 = np.linspace(0.1, 0.4, 31)\n",
    "prior_p2 = Pmf(1, probs2)\n",
    "prior_p2.index.name = 'p2'\n",
    "prior_p2.head()"
   ]
  },
  {
   "cell_type": "code",
   "execution_count": 110,
   "metadata": {},
   "outputs": [],
   "source": [
    "def make_joint3(prior0, prior1, prior2):\n",
    "    joint2 = make_joint(prior0, prior1)\n",
    "    joint2_pmf = Pmf(joint2.transpose().stack())\n",
    "    joint3 = make_joint(prior2, joint2_pmf)\n",
    "    return joint3"
   ]
  },
  {
   "cell_type": "code",
   "execution_count": 111,
   "metadata": {},
   "outputs": [
    {
     "data": {
      "text/html": [
       "<div>\n",
       "<style scoped>\n",
       "    .dataframe tbody tr th:only-of-type {\n",
       "        vertical-align: middle;\n",
       "    }\n",
       "\n",
       "    .dataframe tbody tr th {\n",
       "        vertical-align: top;\n",
       "    }\n",
       "\n",
       "    .dataframe thead th {\n",
       "        text-align: right;\n",
       "    }\n",
       "</style>\n",
       "<table border=\"1\" class=\"dataframe\">\n",
       "  <thead>\n",
       "    <tr style=\"text-align: right;\">\n",
       "      <th></th>\n",
       "      <th>N</th>\n",
       "      <th>626</th>\n",
       "      <th>631</th>\n",
       "      <th>636</th>\n",
       "      <th>641</th>\n",
       "      <th>646</th>\n",
       "      <th>651</th>\n",
       "      <th>656</th>\n",
       "      <th>661</th>\n",
       "      <th>666</th>\n",
       "      <th>671</th>\n",
       "      <th>...</th>\n",
       "      <th>951</th>\n",
       "      <th>956</th>\n",
       "      <th>961</th>\n",
       "      <th>966</th>\n",
       "      <th>971</th>\n",
       "      <th>976</th>\n",
       "      <th>981</th>\n",
       "      <th>986</th>\n",
       "      <th>991</th>\n",
       "      <th>996</th>\n",
       "    </tr>\n",
       "    <tr>\n",
       "      <th>p0</th>\n",
       "      <th>p1</th>\n",
       "      <th></th>\n",
       "      <th></th>\n",
       "      <th></th>\n",
       "      <th></th>\n",
       "      <th></th>\n",
       "      <th></th>\n",
       "      <th></th>\n",
       "      <th></th>\n",
       "      <th></th>\n",
       "      <th></th>\n",
       "      <th></th>\n",
       "      <th></th>\n",
       "      <th></th>\n",
       "      <th></th>\n",
       "      <th></th>\n",
       "      <th></th>\n",
       "      <th></th>\n",
       "      <th></th>\n",
       "      <th></th>\n",
       "      <th></th>\n",
       "      <th></th>\n",
       "    </tr>\n",
       "  </thead>\n",
       "  <tbody>\n",
       "    <tr>\n",
       "      <th rowspan=\"5\" valign=\"top\">0.5</th>\n",
       "      <th>0.10</th>\n",
       "      <td>1</td>\n",
       "      <td>1</td>\n",
       "      <td>1</td>\n",
       "      <td>1</td>\n",
       "      <td>1</td>\n",
       "      <td>1</td>\n",
       "      <td>1</td>\n",
       "      <td>1</td>\n",
       "      <td>1</td>\n",
       "      <td>1</td>\n",
       "      <td>...</td>\n",
       "      <td>1</td>\n",
       "      <td>1</td>\n",
       "      <td>1</td>\n",
       "      <td>1</td>\n",
       "      <td>1</td>\n",
       "      <td>1</td>\n",
       "      <td>1</td>\n",
       "      <td>1</td>\n",
       "      <td>1</td>\n",
       "      <td>1</td>\n",
       "    </tr>\n",
       "    <tr>\n",
       "      <th>0.11</th>\n",
       "      <td>1</td>\n",
       "      <td>1</td>\n",
       "      <td>1</td>\n",
       "      <td>1</td>\n",
       "      <td>1</td>\n",
       "      <td>1</td>\n",
       "      <td>1</td>\n",
       "      <td>1</td>\n",
       "      <td>1</td>\n",
       "      <td>1</td>\n",
       "      <td>...</td>\n",
       "      <td>1</td>\n",
       "      <td>1</td>\n",
       "      <td>1</td>\n",
       "      <td>1</td>\n",
       "      <td>1</td>\n",
       "      <td>1</td>\n",
       "      <td>1</td>\n",
       "      <td>1</td>\n",
       "      <td>1</td>\n",
       "      <td>1</td>\n",
       "    </tr>\n",
       "    <tr>\n",
       "      <th>0.12</th>\n",
       "      <td>1</td>\n",
       "      <td>1</td>\n",
       "      <td>1</td>\n",
       "      <td>1</td>\n",
       "      <td>1</td>\n",
       "      <td>1</td>\n",
       "      <td>1</td>\n",
       "      <td>1</td>\n",
       "      <td>1</td>\n",
       "      <td>1</td>\n",
       "      <td>...</td>\n",
       "      <td>1</td>\n",
       "      <td>1</td>\n",
       "      <td>1</td>\n",
       "      <td>1</td>\n",
       "      <td>1</td>\n",
       "      <td>1</td>\n",
       "      <td>1</td>\n",
       "      <td>1</td>\n",
       "      <td>1</td>\n",
       "      <td>1</td>\n",
       "    </tr>\n",
       "    <tr>\n",
       "      <th>0.13</th>\n",
       "      <td>1</td>\n",
       "      <td>1</td>\n",
       "      <td>1</td>\n",
       "      <td>1</td>\n",
       "      <td>1</td>\n",
       "      <td>1</td>\n",
       "      <td>1</td>\n",
       "      <td>1</td>\n",
       "      <td>1</td>\n",
       "      <td>1</td>\n",
       "      <td>...</td>\n",
       "      <td>1</td>\n",
       "      <td>1</td>\n",
       "      <td>1</td>\n",
       "      <td>1</td>\n",
       "      <td>1</td>\n",
       "      <td>1</td>\n",
       "      <td>1</td>\n",
       "      <td>1</td>\n",
       "      <td>1</td>\n",
       "      <td>1</td>\n",
       "    </tr>\n",
       "    <tr>\n",
       "      <th>0.14</th>\n",
       "      <td>1</td>\n",
       "      <td>1</td>\n",
       "      <td>1</td>\n",
       "      <td>1</td>\n",
       "      <td>1</td>\n",
       "      <td>1</td>\n",
       "      <td>1</td>\n",
       "      <td>1</td>\n",
       "      <td>1</td>\n",
       "      <td>1</td>\n",
       "      <td>...</td>\n",
       "      <td>1</td>\n",
       "      <td>1</td>\n",
       "      <td>1</td>\n",
       "      <td>1</td>\n",
       "      <td>1</td>\n",
       "      <td>1</td>\n",
       "      <td>1</td>\n",
       "      <td>1</td>\n",
       "      <td>1</td>\n",
       "      <td>1</td>\n",
       "    </tr>\n",
       "  </tbody>\n",
       "</table>\n",
       "<p>5 rows × 75 columns</p>\n",
       "</div>"
      ],
      "text/plain": [
       "N         626  631  636  641  646  651  656  661  666  671  ...  951  956  \\\n",
       "p0  p1                                                      ...             \n",
       "0.5 0.10    1    1    1    1    1    1    1    1    1    1  ...    1    1   \n",
       "    0.11    1    1    1    1    1    1    1    1    1    1  ...    1    1   \n",
       "    0.12    1    1    1    1    1    1    1    1    1    1  ...    1    1   \n",
       "    0.13    1    1    1    1    1    1    1    1    1    1  ...    1    1   \n",
       "    0.14    1    1    1    1    1    1    1    1    1    1  ...    1    1   \n",
       "\n",
       "N         961  966  971  976  981  986  991  996  \n",
       "p0  p1                                            \n",
       "0.5 0.10    1    1    1    1    1    1    1    1  \n",
       "    0.11    1    1    1    1    1    1    1    1  \n",
       "    0.12    1    1    1    1    1    1    1    1  \n",
       "    0.13    1    1    1    1    1    1    1    1  \n",
       "    0.14    1    1    1    1    1    1    1    1  \n",
       "\n",
       "[5 rows x 75 columns]"
      ]
     },
     "execution_count": 111,
     "metadata": {},
     "output_type": "execute_result"
    }
   ],
   "source": [
    "joint_prior = make_joint3(prior_p0, prior_p1, prior_N)\n",
    "joint_prior.head()"
   ]
  },
  {
   "cell_type": "code",
   "execution_count": 112,
   "metadata": {},
   "outputs": [
    {
     "data": {
      "text/plain": [
       "0.018731276129625645"
      ]
     },
     "execution_count": 112,
     "metadata": {},
     "output_type": "execute_result"
    }
   ],
   "source": [
    "likelihood = joint_prior.copy()\n",
    "Ns = joint_prior.columns\n",
    "\n",
    "for (p0, p1) in joint_prior.index:\n",
    "    like0 = binom.pmf(k[1], Ns, p0)\n",
    "    k0 = Ns - s[0]\n",
    "    like1 = binom.pmf(k[0,1], k0, p1) * binom.pmf(k[1,1], k[1], p1)\n",
    "    likelihood.loc[p0, p1] = like0 * like1\n",
    "    \n",
    "likelihood.to_numpy().sum()"
   ]
  },
  {
   "cell_type": "code",
   "execution_count": 113,
   "metadata": {},
   "outputs": [
    {
     "data": {
      "text/plain": [
       "(2091, 75)"
      ]
     },
     "execution_count": 113,
     "metadata": {},
     "output_type": "execute_result"
    }
   ],
   "source": [
    "from utils import normalize\n",
    "\n",
    "joint_posterior = joint_prior * likelihood\n",
    "normalize(joint_posterior)\n",
    "joint_posterior.shape"
   ]
  },
  {
   "cell_type": "code",
   "execution_count": 114,
   "metadata": {},
   "outputs": [
    {
     "data": {
      "text/plain": [
       "(692.2431131826501, array([656., 736.]))"
      ]
     },
     "execution_count": 114,
     "metadata": {},
     "output_type": "execute_result"
    },
    {
     "data": {
      "image/png": "[encoded data removed]",
      "text/plain": [
       "<Figure size 432x288 with 1 Axes>"
      ]
     },
     "metadata": {
      "needs_background": "light"
     },
     "output_type": "display_data"
    }
   ],
   "source": [
    "from utils import marginal\n",
    "\n",
    "posterior_N = marginal(joint_posterior, 0)\n",
    "posterior_N.plot()\n",
    "decorate(xlabel='N',\n",
    "         ylabel='PDF',\n",
    "         title='Posterior for N after two rounds')\n",
    "posterior_N.mean(), posterior_N.credible_interval(0.9)"
   ]
  },
  {
   "cell_type": "code",
   "execution_count": 115,
   "metadata": {},
   "outputs": [
    {
     "data": {
      "text/plain": [
       "p0   p1  \n",
       "0.5  0.10    2.947207e-37\n",
       "     0.11    1.861223e-32\n",
       "     0.12    1.953523e-28\n",
       "     0.13    4.500420e-25\n",
       "     0.14    2.829563e-22\n",
       "dtype: float64"
      ]
     },
     "execution_count": 115,
     "metadata": {},
     "output_type": "execute_result"
    }
   ],
   "source": [
    "posterior_pmf = marginal(joint_posterior, 1)\n",
    "posterior_pmf.head()"
   ]
  },
  {
   "cell_type": "code",
   "execution_count": 116,
   "metadata": {},
   "outputs": [
    {
     "data": {
      "text/html": [
       "<div>\n",
       "<style scoped>\n",
       "    .dataframe tbody tr th:only-of-type {\n",
       "        vertical-align: middle;\n",
       "    }\n",
       "\n",
       "    .dataframe tbody tr th {\n",
       "        vertical-align: top;\n",
       "    }\n",
       "\n",
       "    .dataframe thead th {\n",
       "        text-align: right;\n",
       "    }\n",
       "</style>\n",
       "<table border=\"1\" class=\"dataframe\">\n",
       "  <thead>\n",
       "    <tr style=\"text-align: right;\">\n",
       "      <th>p0</th>\n",
       "      <th>0.50</th>\n",
       "      <th>0.51</th>\n",
       "      <th>0.52</th>\n",
       "      <th>0.53</th>\n",
       "      <th>0.54</th>\n",
       "      <th>0.55</th>\n",
       "      <th>0.56</th>\n",
       "      <th>0.57</th>\n",
       "      <th>0.58</th>\n",
       "      <th>0.59</th>\n",
       "      <th>...</th>\n",
       "      <th>0.91</th>\n",
       "      <th>0.92</th>\n",
       "      <th>0.93</th>\n",
       "      <th>0.94</th>\n",
       "      <th>0.95</th>\n",
       "      <th>0.96</th>\n",
       "      <th>0.97</th>\n",
       "      <th>0.98</th>\n",
       "      <th>0.99</th>\n",
       "      <th>1.00</th>\n",
       "    </tr>\n",
       "    <tr>\n",
       "      <th>p1</th>\n",
       "      <th></th>\n",
       "      <th></th>\n",
       "      <th></th>\n",
       "      <th></th>\n",
       "      <th></th>\n",
       "      <th></th>\n",
       "      <th></th>\n",
       "      <th></th>\n",
       "      <th></th>\n",
       "      <th></th>\n",
       "      <th></th>\n",
       "      <th></th>\n",
       "      <th></th>\n",
       "      <th></th>\n",
       "      <th></th>\n",
       "      <th></th>\n",
       "      <th></th>\n",
       "      <th></th>\n",
       "      <th></th>\n",
       "      <th></th>\n",
       "      <th></th>\n",
       "    </tr>\n",
       "  </thead>\n",
       "  <tbody>\n",
       "    <tr>\n",
       "      <th>0.10</th>\n",
       "      <td>2.947207e-37</td>\n",
       "      <td>5.752617e-37</td>\n",
       "      <td>8.229098e-37</td>\n",
       "      <td>8.950258e-37</td>\n",
       "      <td>7.768676e-37</td>\n",
       "      <td>5.687643e-37</td>\n",
       "      <td>3.693776e-37</td>\n",
       "      <td>2.201006e-37</td>\n",
       "      <td>1.222578e-37</td>\n",
       "      <td>6.363633e-38</td>\n",
       "      <td>...</td>\n",
       "      <td>1.080048e-69</td>\n",
       "      <td>4.109999e-73</td>\n",
       "      <td>2.668340e-77</td>\n",
       "      <td>1.661087e-82</td>\n",
       "      <td>4.154567e-89</td>\n",
       "      <td>9.891179e-98</td>\n",
       "      <td>1.527339e-109</td>\n",
       "      <td>3.716743e-127</td>\n",
       "      <td>6.539915e-159</td>\n",
       "      <td>0.0</td>\n",
       "    </tr>\n",
       "    <tr>\n",
       "      <th>0.11</th>\n",
       "      <td>1.861223e-32</td>\n",
       "      <td>3.784273e-32</td>\n",
       "      <td>5.733157e-32</td>\n",
       "      <td>6.751113e-32</td>\n",
       "      <td>6.508276e-32</td>\n",
       "      <td>5.417108e-32</td>\n",
       "      <td>4.059544e-32</td>\n",
       "      <td>2.805169e-32</td>\n",
       "      <td>1.804716e-32</td>\n",
       "      <td>1.084217e-32</td>\n",
       "      <td>...</td>\n",
       "      <td>3.624491e-63</td>\n",
       "      <td>1.393297e-66</td>\n",
       "      <td>9.097228e-71</td>\n",
       "      <td>5.680458e-76</td>\n",
       "      <td>1.422909e-82</td>\n",
       "      <td>3.389949e-91</td>\n",
       "      <td>5.235870e-103</td>\n",
       "      <td>1.274223e-120</td>\n",
       "      <td>2.242121e-152</td>\n",
       "      <td>0.0</td>\n",
       "    </tr>\n",
       "    <tr>\n",
       "      <th>0.12</th>\n",
       "      <td>1.953523e-28</td>\n",
       "      <td>4.172673e-28</td>\n",
       "      <td>6.771129e-28</td>\n",
       "      <td>8.748955e-28</td>\n",
       "      <td>9.488763e-28</td>\n",
       "      <td>9.058997e-28</td>\n",
       "      <td>7.861471e-28</td>\n",
       "      <td>6.298952e-28</td>\n",
       "      <td>4.686467e-28</td>\n",
       "      <td>3.243756e-28</td>\n",
       "      <td>...</td>\n",
       "      <td>2.072457e-57</td>\n",
       "      <td>8.043589e-61</td>\n",
       "      <td>5.280316e-65</td>\n",
       "      <td>3.306703e-70</td>\n",
       "      <td>8.295063e-77</td>\n",
       "      <td>1.977499e-85</td>\n",
       "      <td>3.055031e-97</td>\n",
       "      <td>7.435326e-115</td>\n",
       "      <td>1.308332e-146</td>\n",
       "      <td>0.0</td>\n",
       "    </tr>\n",
       "    <tr>\n",
       "      <th>0.13</th>\n",
       "      <td>4.500420e-25</td>\n",
       "      <td>1.020180e-24</td>\n",
       "      <td>1.796033e-24</td>\n",
       "      <td>2.581497e-24</td>\n",
       "      <td>3.185529e-24</td>\n",
       "      <td>3.509935e-24</td>\n",
       "      <td>3.532280e-24</td>\n",
       "      <td>3.278305e-24</td>\n",
       "      <td>2.815720e-24</td>\n",
       "      <td>2.241299e-24</td>\n",
       "      <td>...</td>\n",
       "      <td>2.655770e-52</td>\n",
       "      <td>1.040168e-55</td>\n",
       "      <td>6.863443e-60</td>\n",
       "      <td>4.310016e-65</td>\n",
       "      <td>1.082693e-71</td>\n",
       "      <td>2.582675e-80</td>\n",
       "      <td>3.990875e-92</td>\n",
       "      <td>9.713577e-110</td>\n",
       "      <td>1.709232e-141</td>\n",
       "      <td>0.0</td>\n",
       "    </tr>\n",
       "    <tr>\n",
       "      <th>0.14</th>\n",
       "      <td>2.829563e-22</td>\n",
       "      <td>6.888566e-22</td>\n",
       "      <td>1.333969e-21</td>\n",
       "      <td>2.160752e-21</td>\n",
       "      <td>3.060611e-21</td>\n",
       "      <td>3.905723e-21</td>\n",
       "      <td>4.557629e-21</td>\n",
       "      <td>4.892007e-21</td>\n",
       "      <td>4.841600e-21</td>\n",
       "      <td>4.424124e-21</td>\n",
       "      <td>...</td>\n",
       "      <td>9.435150e-48</td>\n",
       "      <td>3.727362e-51</td>\n",
       "      <td>2.471482e-55</td>\n",
       "      <td>1.556105e-60</td>\n",
       "      <td>3.914164e-67</td>\n",
       "      <td>9.342422e-76</td>\n",
       "      <td>1.443951e-87</td>\n",
       "      <td>3.514706e-105</td>\n",
       "      <td>6.184642e-137</td>\n",
       "      <td>0.0</td>\n",
       "    </tr>\n",
       "  </tbody>\n",
       "</table>\n",
       "<p>5 rows × 51 columns</p>\n",
       "</div>"
      ],
      "text/plain": [
       "p0            0.50          0.51          0.52          0.53          0.54  \\\n",
       "p1                                                                           \n",
       "0.10  2.947207e-37  5.752617e-37  8.229098e-37  8.950258e-37  7.768676e-37   \n",
       "0.11  1.861223e-32  3.784273e-32  5.733157e-32  6.751113e-32  6.508276e-32   \n",
       "0.12  1.953523e-28  4.172673e-28  6.771129e-28  8.748955e-28  9.488763e-28   \n",
       "0.13  4.500420e-25  1.020180e-24  1.796033e-24  2.581497e-24  3.185529e-24   \n",
       "0.14  2.829563e-22  6.888566e-22  1.333969e-21  2.160752e-21  3.060611e-21   \n",
       "\n",
       "p0            0.55          0.56          0.57          0.58          0.59  \\\n",
       "p1                                                                           \n",
       "0.10  5.687643e-37  3.693776e-37  2.201006e-37  1.222578e-37  6.363633e-38   \n",
       "0.11  5.417108e-32  4.059544e-32  2.805169e-32  1.804716e-32  1.084217e-32   \n",
       "0.12  9.058997e-28  7.861471e-28  6.298952e-28  4.686467e-28  3.243756e-28   \n",
       "0.13  3.509935e-24  3.532280e-24  3.278305e-24  2.815720e-24  2.241299e-24   \n",
       "0.14  3.905723e-21  4.557629e-21  4.892007e-21  4.841600e-21  4.424124e-21   \n",
       "\n",
       "p0    ...          0.91          0.92          0.93          0.94  \\\n",
       "p1    ...                                                           \n",
       "0.10  ...  1.080048e-69  4.109999e-73  2.668340e-77  1.661087e-82   \n",
       "0.11  ...  3.624491e-63  1.393297e-66  9.097228e-71  5.680458e-76   \n",
       "0.12  ...  2.072457e-57  8.043589e-61  5.280316e-65  3.306703e-70   \n",
       "0.13  ...  2.655770e-52  1.040168e-55  6.863443e-60  4.310016e-65   \n",
       "0.14  ...  9.435150e-48  3.727362e-51  2.471482e-55  1.556105e-60   \n",
       "\n",
       "p0            0.95          0.96           0.97           0.98           0.99  \\\n",
       "p1                                                                              \n",
       "0.10  4.154567e-89  9.891179e-98  1.527339e-109  3.716743e-127  6.539915e-159   \n",
       "0.11  1.422909e-82  3.389949e-91  5.235870e-103  1.274223e-120  2.242121e-152   \n",
       "0.12  8.295063e-77  1.977499e-85   3.055031e-97  7.435326e-115  1.308332e-146   \n",
       "0.13  1.082693e-71  2.582675e-80   3.990875e-92  9.713577e-110  1.709232e-141   \n",
       "0.14  3.914164e-67  9.342422e-76   1.443951e-87  3.514706e-105  6.184642e-137   \n",
       "\n",
       "p0    1.00  \n",
       "p1          \n",
       "0.10   0.0  \n",
       "0.11   0.0  \n",
       "0.12   0.0  \n",
       "0.13   0.0  \n",
       "0.14   0.0  \n",
       "\n",
       "[5 rows x 51 columns]"
      ]
     },
     "execution_count": 116,
     "metadata": {},
     "output_type": "execute_result"
    }
   ],
   "source": [
    "posterior_joint_ps = posterior_pmf.unstack().transpose()\n",
    "posterior_joint_ps.head()"
   ]
  },
  {
   "cell_type": "code",
   "execution_count": 117,
   "metadata": {},
   "outputs": [
    {
     "data": {
      "image/png": "[encoded data removed]",
      "text/plain": [
       "<Figure size 432x288 with 1 Axes>"
      ]
     },
     "metadata": {
      "needs_background": "light"
     },
     "output_type": "display_data"
    }
   ],
   "source": [
    "plot_contour(posterior_joint_ps)\n",
    "decorate(title='Posterior joint distribution for p1 and p2')"
   ]
  },
  {
   "cell_type": "code",
   "execution_count": 118,
   "metadata": {},
   "outputs": [
    {
     "data": {
      "image/png": "[encoded data removed]",
      "text/plain": [
       "<Figure size 432x288 with 1 Axes>"
      ]
     },
     "metadata": {
      "needs_background": "light"
     },
     "output_type": "display_data"
    }
   ],
   "source": [
    "posterior_p1 = marginal(posterior_joint_ps, 0)\n",
    "posterior_p2 = marginal(posterior_joint_ps, 1)\n",
    "\n",
    "posterior_p1.plot(label='p1')\n",
    "posterior_p2.plot(label='p2')\n",
    "decorate(xlabel='Probability of finding a bug',\n",
    "         ylabel='PDF',\n",
    "         title='Posterior marginal distributions of p1 and p2')"
   ]
  },
  {
   "cell_type": "code",
   "execution_count": 119,
   "metadata": {},
   "outputs": [
    {
     "data": {
      "text/html": [
       "<div>\n",
       "<style scoped>\n",
       "    .dataframe tbody tr th:only-of-type {\n",
       "        vertical-align: middle;\n",
       "    }\n",
       "\n",
       "    .dataframe tbody tr th {\n",
       "        vertical-align: top;\n",
       "    }\n",
       "\n",
       "    .dataframe thead th {\n",
       "        text-align: right;\n",
       "    }\n",
       "</style>\n",
       "<table border=\"1\" class=\"dataframe\">\n",
       "  <thead>\n",
       "    <tr style=\"text-align: right;\">\n",
       "      <th></th>\n",
       "      <th>p2</th>\n",
       "      <th>0.10</th>\n",
       "      <th>0.11</th>\n",
       "      <th>0.12</th>\n",
       "      <th>0.13</th>\n",
       "      <th>0.14</th>\n",
       "      <th>0.15</th>\n",
       "      <th>0.16</th>\n",
       "      <th>0.17</th>\n",
       "      <th>0.18</th>\n",
       "      <th>0.19</th>\n",
       "      <th>...</th>\n",
       "      <th>0.31</th>\n",
       "      <th>0.32</th>\n",
       "      <th>0.33</th>\n",
       "      <th>0.34</th>\n",
       "      <th>0.35</th>\n",
       "      <th>0.36</th>\n",
       "      <th>0.37</th>\n",
       "      <th>0.38</th>\n",
       "      <th>0.39</th>\n",
       "      <th>0.40</th>\n",
       "    </tr>\n",
       "    <tr>\n",
       "      <th>p0</th>\n",
       "      <th>p1</th>\n",
       "      <th></th>\n",
       "      <th></th>\n",
       "      <th></th>\n",
       "      <th></th>\n",
       "      <th></th>\n",
       "      <th></th>\n",
       "      <th></th>\n",
       "      <th></th>\n",
       "      <th></th>\n",
       "      <th></th>\n",
       "      <th></th>\n",
       "      <th></th>\n",
       "      <th></th>\n",
       "      <th></th>\n",
       "      <th></th>\n",
       "      <th></th>\n",
       "      <th></th>\n",
       "      <th></th>\n",
       "      <th></th>\n",
       "      <th></th>\n",
       "      <th></th>\n",
       "    </tr>\n",
       "  </thead>\n",
       "  <tbody>\n",
       "    <tr>\n",
       "      <th rowspan=\"5\" valign=\"top\">0.5</th>\n",
       "      <th>0.10</th>\n",
       "      <td>2.947207e-37</td>\n",
       "      <td>2.947207e-37</td>\n",
       "      <td>2.947207e-37</td>\n",
       "      <td>2.947207e-37</td>\n",
       "      <td>2.947207e-37</td>\n",
       "      <td>2.947207e-37</td>\n",
       "      <td>2.947207e-37</td>\n",
       "      <td>2.947207e-37</td>\n",
       "      <td>2.947207e-37</td>\n",
       "      <td>2.947207e-37</td>\n",
       "      <td>...</td>\n",
       "      <td>2.947207e-37</td>\n",
       "      <td>2.947207e-37</td>\n",
       "      <td>2.947207e-37</td>\n",
       "      <td>2.947207e-37</td>\n",
       "      <td>2.947207e-37</td>\n",
       "      <td>2.947207e-37</td>\n",
       "      <td>2.947207e-37</td>\n",
       "      <td>2.947207e-37</td>\n",
       "      <td>2.947207e-37</td>\n",
       "      <td>2.947207e-37</td>\n",
       "    </tr>\n",
       "    <tr>\n",
       "      <th>0.11</th>\n",
       "      <td>1.861223e-32</td>\n",
       "      <td>1.861223e-32</td>\n",
       "      <td>1.861223e-32</td>\n",
       "      <td>1.861223e-32</td>\n",
       "      <td>1.861223e-32</td>\n",
       "      <td>1.861223e-32</td>\n",
       "      <td>1.861223e-32</td>\n",
       "      <td>1.861223e-32</td>\n",
       "      <td>1.861223e-32</td>\n",
       "      <td>1.861223e-32</td>\n",
       "      <td>...</td>\n",
       "      <td>1.861223e-32</td>\n",
       "      <td>1.861223e-32</td>\n",
       "      <td>1.861223e-32</td>\n",
       "      <td>1.861223e-32</td>\n",
       "      <td>1.861223e-32</td>\n",
       "      <td>1.861223e-32</td>\n",
       "      <td>1.861223e-32</td>\n",
       "      <td>1.861223e-32</td>\n",
       "      <td>1.861223e-32</td>\n",
       "      <td>1.861223e-32</td>\n",
       "    </tr>\n",
       "    <tr>\n",
       "      <th>0.12</th>\n",
       "      <td>1.953523e-28</td>\n",
       "      <td>1.953523e-28</td>\n",
       "      <td>1.953523e-28</td>\n",
       "      <td>1.953523e-28</td>\n",
       "      <td>1.953523e-28</td>\n",
       "      <td>1.953523e-28</td>\n",
       "      <td>1.953523e-28</td>\n",
       "      <td>1.953523e-28</td>\n",
       "      <td>1.953523e-28</td>\n",
       "      <td>1.953523e-28</td>\n",
       "      <td>...</td>\n",
       "      <td>1.953523e-28</td>\n",
       "      <td>1.953523e-28</td>\n",
       "      <td>1.953523e-28</td>\n",
       "      <td>1.953523e-28</td>\n",
       "      <td>1.953523e-28</td>\n",
       "      <td>1.953523e-28</td>\n",
       "      <td>1.953523e-28</td>\n",
       "      <td>1.953523e-28</td>\n",
       "      <td>1.953523e-28</td>\n",
       "      <td>1.953523e-28</td>\n",
       "    </tr>\n",
       "    <tr>\n",
       "      <th>0.13</th>\n",
       "      <td>4.500420e-25</td>\n",
       "      <td>4.500420e-25</td>\n",
       "      <td>4.500420e-25</td>\n",
       "      <td>4.500420e-25</td>\n",
       "      <td>4.500420e-25</td>\n",
       "      <td>4.500420e-25</td>\n",
       "      <td>4.500420e-25</td>\n",
       "      <td>4.500420e-25</td>\n",
       "      <td>4.500420e-25</td>\n",
       "      <td>4.500420e-25</td>\n",
       "      <td>...</td>\n",
       "      <td>4.500420e-25</td>\n",
       "      <td>4.500420e-25</td>\n",
       "      <td>4.500420e-25</td>\n",
       "      <td>4.500420e-25</td>\n",
       "      <td>4.500420e-25</td>\n",
       "      <td>4.500420e-25</td>\n",
       "      <td>4.500420e-25</td>\n",
       "      <td>4.500420e-25</td>\n",
       "      <td>4.500420e-25</td>\n",
       "      <td>4.500420e-25</td>\n",
       "    </tr>\n",
       "    <tr>\n",
       "      <th>0.14</th>\n",
       "      <td>2.829563e-22</td>\n",
       "      <td>2.829563e-22</td>\n",
       "      <td>2.829563e-22</td>\n",
       "      <td>2.829563e-22</td>\n",
       "      <td>2.829563e-22</td>\n",
       "      <td>2.829563e-22</td>\n",
       "      <td>2.829563e-22</td>\n",
       "      <td>2.829563e-22</td>\n",
       "      <td>2.829563e-22</td>\n",
       "      <td>2.829563e-22</td>\n",
       "      <td>...</td>\n",
       "      <td>2.829563e-22</td>\n",
       "      <td>2.829563e-22</td>\n",
       "      <td>2.829563e-22</td>\n",
       "      <td>2.829563e-22</td>\n",
       "      <td>2.829563e-22</td>\n",
       "      <td>2.829563e-22</td>\n",
       "      <td>2.829563e-22</td>\n",
       "      <td>2.829563e-22</td>\n",
       "      <td>2.829563e-22</td>\n",
       "      <td>2.829563e-22</td>\n",
       "    </tr>\n",
       "  </tbody>\n",
       "</table>\n",
       "<p>5 rows × 31 columns</p>\n",
       "</div>"
      ],
      "text/plain": [
       "p2                0.10          0.11          0.12          0.13  \\\n",
       "p0  p1                                                             \n",
       "0.5 0.10  2.947207e-37  2.947207e-37  2.947207e-37  2.947207e-37   \n",
       "    0.11  1.861223e-32  1.861223e-32  1.861223e-32  1.861223e-32   \n",
       "    0.12  1.953523e-28  1.953523e-28  1.953523e-28  1.953523e-28   \n",
       "    0.13  4.500420e-25  4.500420e-25  4.500420e-25  4.500420e-25   \n",
       "    0.14  2.829563e-22  2.829563e-22  2.829563e-22  2.829563e-22   \n",
       "\n",
       "p2                0.14          0.15          0.16          0.17  \\\n",
       "p0  p1                                                             \n",
       "0.5 0.10  2.947207e-37  2.947207e-37  2.947207e-37  2.947207e-37   \n",
       "    0.11  1.861223e-32  1.861223e-32  1.861223e-32  1.861223e-32   \n",
       "    0.12  1.953523e-28  1.953523e-28  1.953523e-28  1.953523e-28   \n",
       "    0.13  4.500420e-25  4.500420e-25  4.500420e-25  4.500420e-25   \n",
       "    0.14  2.829563e-22  2.829563e-22  2.829563e-22  2.829563e-22   \n",
       "\n",
       "p2                0.18          0.19  ...          0.31          0.32  \\\n",
       "p0  p1                                ...                               \n",
       "0.5 0.10  2.947207e-37  2.947207e-37  ...  2.947207e-37  2.947207e-37   \n",
       "    0.11  1.861223e-32  1.861223e-32  ...  1.861223e-32  1.861223e-32   \n",
       "    0.12  1.953523e-28  1.953523e-28  ...  1.953523e-28  1.953523e-28   \n",
       "    0.13  4.500420e-25  4.500420e-25  ...  4.500420e-25  4.500420e-25   \n",
       "    0.14  2.829563e-22  2.829563e-22  ...  2.829563e-22  2.829563e-22   \n",
       "\n",
       "p2                0.33          0.34          0.35          0.36  \\\n",
       "p0  p1                                                             \n",
       "0.5 0.10  2.947207e-37  2.947207e-37  2.947207e-37  2.947207e-37   \n",
       "    0.11  1.861223e-32  1.861223e-32  1.861223e-32  1.861223e-32   \n",
       "    0.12  1.953523e-28  1.953523e-28  1.953523e-28  1.953523e-28   \n",
       "    0.13  4.500420e-25  4.500420e-25  4.500420e-25  4.500420e-25   \n",
       "    0.14  2.829563e-22  2.829563e-22  2.829563e-22  2.829563e-22   \n",
       "\n",
       "p2                0.37          0.38          0.39          0.40  \n",
       "p0  p1                                                            \n",
       "0.5 0.10  2.947207e-37  2.947207e-37  2.947207e-37  2.947207e-37  \n",
       "    0.11  1.861223e-32  1.861223e-32  1.861223e-32  1.861223e-32  \n",
       "    0.12  1.953523e-28  1.953523e-28  1.953523e-28  1.953523e-28  \n",
       "    0.13  4.500420e-25  4.500420e-25  4.500420e-25  4.500420e-25  \n",
       "    0.14  2.829563e-22  2.829563e-22  2.829563e-22  2.829563e-22  \n",
       "\n",
       "[5 rows x 31 columns]"
      ]
     },
     "execution_count": 119,
     "metadata": {},
     "output_type": "execute_result"
    }
   ],
   "source": [
    "joint3 = make_joint(prior_p2, posterior_pmf)\n",
    "joint3.head()"
   ]
  },
  {
   "cell_type": "code",
   "execution_count": 120,
   "metadata": {},
   "outputs": [
    {
     "data": {
      "text/plain": [
       "p0   p1   p2  \n",
       "0.5  0.1  0.10    2.947207e-37\n",
       "          0.11    2.947207e-37\n",
       "          0.12    2.947207e-37\n",
       "          0.13    2.947207e-37\n",
       "          0.14    2.947207e-37\n",
       "dtype: float64"
      ]
     },
     "execution_count": 120,
     "metadata": {},
     "output_type": "execute_result"
    }
   ],
   "source": [
    "joint3_pmf = Pmf(joint3.stack())\n",
    "joint3_pmf.head()"
   ]
  },
  {
   "cell_type": "code",
   "execution_count": 121,
   "metadata": {},
   "outputs": [
    {
     "data": {
      "text/html": [
       "<div>\n",
       "<style scoped>\n",
       "    .dataframe tbody tr th:only-of-type {\n",
       "        vertical-align: middle;\n",
       "    }\n",
       "\n",
       "    .dataframe tbody tr th {\n",
       "        vertical-align: top;\n",
       "    }\n",
       "\n",
       "    .dataframe thead th {\n",
       "        text-align: right;\n",
       "    }\n",
       "</style>\n",
       "<table border=\"1\" class=\"dataframe\">\n",
       "  <thead>\n",
       "    <tr style=\"text-align: right;\">\n",
       "      <th></th>\n",
       "      <th></th>\n",
       "      <th>N</th>\n",
       "      <th>626</th>\n",
       "      <th>631</th>\n",
       "      <th>636</th>\n",
       "      <th>641</th>\n",
       "      <th>646</th>\n",
       "      <th>651</th>\n",
       "      <th>656</th>\n",
       "      <th>661</th>\n",
       "      <th>666</th>\n",
       "      <th>671</th>\n",
       "      <th>...</th>\n",
       "      <th>951</th>\n",
       "      <th>956</th>\n",
       "      <th>961</th>\n",
       "      <th>966</th>\n",
       "      <th>971</th>\n",
       "      <th>976</th>\n",
       "      <th>981</th>\n",
       "      <th>986</th>\n",
       "      <th>991</th>\n",
       "      <th>996</th>\n",
       "    </tr>\n",
       "    <tr>\n",
       "      <th>p0</th>\n",
       "      <th>p1</th>\n",
       "      <th>p2</th>\n",
       "      <th></th>\n",
       "      <th></th>\n",
       "      <th></th>\n",
       "      <th></th>\n",
       "      <th></th>\n",
       "      <th></th>\n",
       "      <th></th>\n",
       "      <th></th>\n",
       "      <th></th>\n",
       "      <th></th>\n",
       "      <th></th>\n",
       "      <th></th>\n",
       "      <th></th>\n",
       "      <th></th>\n",
       "      <th></th>\n",
       "      <th></th>\n",
       "      <th></th>\n",
       "      <th></th>\n",
       "      <th></th>\n",
       "      <th></th>\n",
       "      <th></th>\n",
       "    </tr>\n",
       "  </thead>\n",
       "  <tbody>\n",
       "    <tr>\n",
       "      <th rowspan=\"5\" valign=\"top\">0.5</th>\n",
       "      <th rowspan=\"5\" valign=\"top\">0.1</th>\n",
       "      <th>0.10</th>\n",
       "      <td>1.110082e-40</td>\n",
       "      <td>3.145803e-40</td>\n",
       "      <td>7.660854e-40</td>\n",
       "      <td>1.632689e-39</td>\n",
       "      <td>3.092079e-39</td>\n",
       "      <td>5.271664e-39</td>\n",
       "      <td>8.181044e-39</td>\n",
       "      <td>1.166761e-38</td>\n",
       "      <td>1.541936e-38</td>\n",
       "      <td>1.901980e-38</td>\n",
       "      <td>...</td>\n",
       "      <td>1.021086e-48</td>\n",
       "      <td>5.631592e-49</td>\n",
       "      <td>3.101757e-49</td>\n",
       "      <td>1.705500e-49</td>\n",
       "      <td>9.357734e-50</td>\n",
       "      <td>5.120560e-50</td>\n",
       "      <td>2.792478e-50</td>\n",
       "      <td>1.516473e-50</td>\n",
       "      <td>8.193237e-51</td>\n",
       "      <td>4.399697e-51</td>\n",
       "    </tr>\n",
       "    <tr>\n",
       "      <th>0.11</th>\n",
       "      <td>1.110082e-40</td>\n",
       "      <td>3.145803e-40</td>\n",
       "      <td>7.660854e-40</td>\n",
       "      <td>1.632689e-39</td>\n",
       "      <td>3.092079e-39</td>\n",
       "      <td>5.271664e-39</td>\n",
       "      <td>8.181044e-39</td>\n",
       "      <td>1.166761e-38</td>\n",
       "      <td>1.541936e-38</td>\n",
       "      <td>1.901980e-38</td>\n",
       "      <td>...</td>\n",
       "      <td>1.021086e-48</td>\n",
       "      <td>5.631592e-49</td>\n",
       "      <td>3.101757e-49</td>\n",
       "      <td>1.705500e-49</td>\n",
       "      <td>9.357734e-50</td>\n",
       "      <td>5.120560e-50</td>\n",
       "      <td>2.792478e-50</td>\n",
       "      <td>1.516473e-50</td>\n",
       "      <td>8.193237e-51</td>\n",
       "      <td>4.399697e-51</td>\n",
       "    </tr>\n",
       "    <tr>\n",
       "      <th>0.12</th>\n",
       "      <td>1.110082e-40</td>\n",
       "      <td>3.145803e-40</td>\n",
       "      <td>7.660854e-40</td>\n",
       "      <td>1.632689e-39</td>\n",
       "      <td>3.092079e-39</td>\n",
       "      <td>5.271664e-39</td>\n",
       "      <td>8.181044e-39</td>\n",
       "      <td>1.166761e-38</td>\n",
       "      <td>1.541936e-38</td>\n",
       "      <td>1.901980e-38</td>\n",
       "      <td>...</td>\n",
       "      <td>1.021086e-48</td>\n",
       "      <td>5.631592e-49</td>\n",
       "      <td>3.101757e-49</td>\n",
       "      <td>1.705500e-49</td>\n",
       "      <td>9.357734e-50</td>\n",
       "      <td>5.120560e-50</td>\n",
       "      <td>2.792478e-50</td>\n",
       "      <td>1.516473e-50</td>\n",
       "      <td>8.193237e-51</td>\n",
       "      <td>4.399697e-51</td>\n",
       "    </tr>\n",
       "    <tr>\n",
       "      <th>0.13</th>\n",
       "      <td>1.110082e-40</td>\n",
       "      <td>3.145803e-40</td>\n",
       "      <td>7.660854e-40</td>\n",
       "      <td>1.632689e-39</td>\n",
       "      <td>3.092079e-39</td>\n",
       "      <td>5.271664e-39</td>\n",
       "      <td>8.181044e-39</td>\n",
       "      <td>1.166761e-38</td>\n",
       "      <td>1.541936e-38</td>\n",
       "      <td>1.901980e-38</td>\n",
       "      <td>...</td>\n",
       "      <td>1.021086e-48</td>\n",
       "      <td>5.631592e-49</td>\n",
       "      <td>3.101757e-49</td>\n",
       "      <td>1.705500e-49</td>\n",
       "      <td>9.357734e-50</td>\n",
       "      <td>5.120560e-50</td>\n",
       "      <td>2.792478e-50</td>\n",
       "      <td>1.516473e-50</td>\n",
       "      <td>8.193237e-51</td>\n",
       "      <td>4.399697e-51</td>\n",
       "    </tr>\n",
       "    <tr>\n",
       "      <th>0.14</th>\n",
       "      <td>1.110082e-40</td>\n",
       "      <td>3.145803e-40</td>\n",
       "      <td>7.660854e-40</td>\n",
       "      <td>1.632689e-39</td>\n",
       "      <td>3.092079e-39</td>\n",
       "      <td>5.271664e-39</td>\n",
       "      <td>8.181044e-39</td>\n",
       "      <td>1.166761e-38</td>\n",
       "      <td>1.541936e-38</td>\n",
       "      <td>1.901980e-38</td>\n",
       "      <td>...</td>\n",
       "      <td>1.021086e-48</td>\n",
       "      <td>5.631592e-49</td>\n",
       "      <td>3.101757e-49</td>\n",
       "      <td>1.705500e-49</td>\n",
       "      <td>9.357734e-50</td>\n",
       "      <td>5.120560e-50</td>\n",
       "      <td>2.792478e-50</td>\n",
       "      <td>1.516473e-50</td>\n",
       "      <td>8.193237e-51</td>\n",
       "      <td>4.399697e-51</td>\n",
       "    </tr>\n",
       "  </tbody>\n",
       "</table>\n",
       "<p>5 rows × 75 columns</p>\n",
       "</div>"
      ],
      "text/plain": [
       "N                      626           631           636           641  \\\n",
       "p0  p1  p2                                                             \n",
       "0.5 0.1 0.10  1.110082e-40  3.145803e-40  7.660854e-40  1.632689e-39   \n",
       "        0.11  1.110082e-40  3.145803e-40  7.660854e-40  1.632689e-39   \n",
       "        0.12  1.110082e-40  3.145803e-40  7.660854e-40  1.632689e-39   \n",
       "        0.13  1.110082e-40  3.145803e-40  7.660854e-40  1.632689e-39   \n",
       "        0.14  1.110082e-40  3.145803e-40  7.660854e-40  1.632689e-39   \n",
       "\n",
       "N                      646           651           656           661  \\\n",
       "p0  p1  p2                                                             \n",
       "0.5 0.1 0.10  3.092079e-39  5.271664e-39  8.181044e-39  1.166761e-38   \n",
       "        0.11  3.092079e-39  5.271664e-39  8.181044e-39  1.166761e-38   \n",
       "        0.12  3.092079e-39  5.271664e-39  8.181044e-39  1.166761e-38   \n",
       "        0.13  3.092079e-39  5.271664e-39  8.181044e-39  1.166761e-38   \n",
       "        0.14  3.092079e-39  5.271664e-39  8.181044e-39  1.166761e-38   \n",
       "\n",
       "N                      666           671  ...           951           956  \\\n",
       "p0  p1  p2                                ...                               \n",
       "0.5 0.1 0.10  1.541936e-38  1.901980e-38  ...  1.021086e-48  5.631592e-49   \n",
       "        0.11  1.541936e-38  1.901980e-38  ...  1.021086e-48  5.631592e-49   \n",
       "        0.12  1.541936e-38  1.901980e-38  ...  1.021086e-48  5.631592e-49   \n",
       "        0.13  1.541936e-38  1.901980e-38  ...  1.021086e-48  5.631592e-49   \n",
       "        0.14  1.541936e-38  1.901980e-38  ...  1.021086e-48  5.631592e-49   \n",
       "\n",
       "N                      961           966           971           976  \\\n",
       "p0  p1  p2                                                             \n",
       "0.5 0.1 0.10  3.101757e-49  1.705500e-49  9.357734e-50  5.120560e-50   \n",
       "        0.11  3.101757e-49  1.705500e-49  9.357734e-50  5.120560e-50   \n",
       "        0.12  3.101757e-49  1.705500e-49  9.357734e-50  5.120560e-50   \n",
       "        0.13  3.101757e-49  1.705500e-49  9.357734e-50  5.120560e-50   \n",
       "        0.14  3.101757e-49  1.705500e-49  9.357734e-50  5.120560e-50   \n",
       "\n",
       "N                      981           986           991           996  \n",
       "p0  p1  p2                                                            \n",
       "0.5 0.1 0.10  2.792478e-50  1.516473e-50  8.193237e-51  4.399697e-51  \n",
       "        0.11  2.792478e-50  1.516473e-50  8.193237e-51  4.399697e-51  \n",
       "        0.12  2.792478e-50  1.516473e-50  8.193237e-51  4.399697e-51  \n",
       "        0.13  2.792478e-50  1.516473e-50  8.193237e-51  4.399697e-51  \n",
       "        0.14  2.792478e-50  1.516473e-50  8.193237e-51  4.399697e-51  \n",
       "\n",
       "[5 rows x 75 columns]"
      ]
     },
     "execution_count": 121,
     "metadata": {},
     "output_type": "execute_result"
    }
   ],
   "source": [
    "prior4 = make_joint(posterior_N, joint3_pmf)\n",
    "prior4.head()"
   ]
  },
  {
   "cell_type": "code",
   "execution_count": 122,
   "metadata": {},
   "outputs": [
    {
     "data": {
      "text/plain": [
       "(64821, 75)"
      ]
     },
     "execution_count": 122,
     "metadata": {},
     "output_type": "execute_result"
    }
   ],
   "source": [
    "prior4.shape"
   ]
  },
  {
   "cell_type": "code",
   "execution_count": null,
   "metadata": {},
   "outputs": [],
   "source": []
  },
  {
   "cell_type": "code",
   "execution_count": 123,
   "metadata": {},
   "outputs": [
    {
     "data": {
      "text/html": [
       "<div>\n",
       "<style scoped>\n",
       "    .dataframe tbody tr th:only-of-type {\n",
       "        vertical-align: middle;\n",
       "    }\n",
       "\n",
       "    .dataframe tbody tr th {\n",
       "        vertical-align: top;\n",
       "    }\n",
       "\n",
       "    .dataframe thead th {\n",
       "        text-align: right;\n",
       "    }\n",
       "</style>\n",
       "<table border=\"1\" class=\"dataframe\">\n",
       "  <thead>\n",
       "    <tr style=\"text-align: right;\">\n",
       "      <th>N</th>\n",
       "      <th>626</th>\n",
       "      <th>631</th>\n",
       "      <th>636</th>\n",
       "      <th>641</th>\n",
       "      <th>646</th>\n",
       "      <th>651</th>\n",
       "      <th>656</th>\n",
       "      <th>661</th>\n",
       "      <th>666</th>\n",
       "      <th>671</th>\n",
       "      <th>...</th>\n",
       "      <th>951</th>\n",
       "      <th>956</th>\n",
       "      <th>961</th>\n",
       "      <th>966</th>\n",
       "      <th>971</th>\n",
       "      <th>976</th>\n",
       "      <th>981</th>\n",
       "      <th>986</th>\n",
       "      <th>991</th>\n",
       "      <th>996</th>\n",
       "    </tr>\n",
       "    <tr>\n",
       "      <th>p2</th>\n",
       "      <th></th>\n",
       "      <th></th>\n",
       "      <th></th>\n",
       "      <th></th>\n",
       "      <th></th>\n",
       "      <th></th>\n",
       "      <th></th>\n",
       "      <th></th>\n",
       "      <th></th>\n",
       "      <th></th>\n",
       "      <th></th>\n",
       "      <th></th>\n",
       "      <th></th>\n",
       "      <th></th>\n",
       "      <th></th>\n",
       "      <th></th>\n",
       "      <th></th>\n",
       "      <th></th>\n",
       "      <th></th>\n",
       "      <th></th>\n",
       "      <th></th>\n",
       "    </tr>\n",
       "  </thead>\n",
       "  <tbody>\n",
       "    <tr>\n",
       "      <th>0.10</th>\n",
       "      <td>0.000377</td>\n",
       "      <td>0.001067</td>\n",
       "      <td>0.002599</td>\n",
       "      <td>0.00554</td>\n",
       "      <td>0.010492</td>\n",
       "      <td>0.017887</td>\n",
       "      <td>0.027759</td>\n",
       "      <td>0.039589</td>\n",
       "      <td>0.052319</td>\n",
       "      <td>0.064535</td>\n",
       "      <td>...</td>\n",
       "      <td>3.464588e-12</td>\n",
       "      <td>1.910823e-12</td>\n",
       "      <td>1.052439e-12</td>\n",
       "      <td>5.786834e-13</td>\n",
       "      <td>3.175120e-13</td>\n",
       "      <td>1.737428e-13</td>\n",
       "      <td>9.475000e-14</td>\n",
       "      <td>5.145458e-14</td>\n",
       "      <td>2.780001e-14</td>\n",
       "      <td>1.492836e-14</td>\n",
       "    </tr>\n",
       "    <tr>\n",
       "      <th>0.11</th>\n",
       "      <td>0.000377</td>\n",
       "      <td>0.001067</td>\n",
       "      <td>0.002599</td>\n",
       "      <td>0.00554</td>\n",
       "      <td>0.010492</td>\n",
       "      <td>0.017887</td>\n",
       "      <td>0.027759</td>\n",
       "      <td>0.039589</td>\n",
       "      <td>0.052319</td>\n",
       "      <td>0.064535</td>\n",
       "      <td>...</td>\n",
       "      <td>3.464588e-12</td>\n",
       "      <td>1.910823e-12</td>\n",
       "      <td>1.052439e-12</td>\n",
       "      <td>5.786834e-13</td>\n",
       "      <td>3.175120e-13</td>\n",
       "      <td>1.737428e-13</td>\n",
       "      <td>9.475000e-14</td>\n",
       "      <td>5.145458e-14</td>\n",
       "      <td>2.780001e-14</td>\n",
       "      <td>1.492836e-14</td>\n",
       "    </tr>\n",
       "    <tr>\n",
       "      <th>0.12</th>\n",
       "      <td>0.000377</td>\n",
       "      <td>0.001067</td>\n",
       "      <td>0.002599</td>\n",
       "      <td>0.00554</td>\n",
       "      <td>0.010492</td>\n",
       "      <td>0.017887</td>\n",
       "      <td>0.027759</td>\n",
       "      <td>0.039589</td>\n",
       "      <td>0.052319</td>\n",
       "      <td>0.064535</td>\n",
       "      <td>...</td>\n",
       "      <td>3.464588e-12</td>\n",
       "      <td>1.910823e-12</td>\n",
       "      <td>1.052439e-12</td>\n",
       "      <td>5.786834e-13</td>\n",
       "      <td>3.175120e-13</td>\n",
       "      <td>1.737428e-13</td>\n",
       "      <td>9.475000e-14</td>\n",
       "      <td>5.145458e-14</td>\n",
       "      <td>2.780001e-14</td>\n",
       "      <td>1.492836e-14</td>\n",
       "    </tr>\n",
       "    <tr>\n",
       "      <th>0.13</th>\n",
       "      <td>0.000377</td>\n",
       "      <td>0.001067</td>\n",
       "      <td>0.002599</td>\n",
       "      <td>0.00554</td>\n",
       "      <td>0.010492</td>\n",
       "      <td>0.017887</td>\n",
       "      <td>0.027759</td>\n",
       "      <td>0.039589</td>\n",
       "      <td>0.052319</td>\n",
       "      <td>0.064535</td>\n",
       "      <td>...</td>\n",
       "      <td>3.464588e-12</td>\n",
       "      <td>1.910823e-12</td>\n",
       "      <td>1.052439e-12</td>\n",
       "      <td>5.786834e-13</td>\n",
       "      <td>3.175120e-13</td>\n",
       "      <td>1.737428e-13</td>\n",
       "      <td>9.475000e-14</td>\n",
       "      <td>5.145458e-14</td>\n",
       "      <td>2.780001e-14</td>\n",
       "      <td>1.492836e-14</td>\n",
       "    </tr>\n",
       "    <tr>\n",
       "      <th>0.14</th>\n",
       "      <td>0.000377</td>\n",
       "      <td>0.001067</td>\n",
       "      <td>0.002599</td>\n",
       "      <td>0.00554</td>\n",
       "      <td>0.010492</td>\n",
       "      <td>0.017887</td>\n",
       "      <td>0.027759</td>\n",
       "      <td>0.039589</td>\n",
       "      <td>0.052319</td>\n",
       "      <td>0.064535</td>\n",
       "      <td>...</td>\n",
       "      <td>3.464588e-12</td>\n",
       "      <td>1.910823e-12</td>\n",
       "      <td>1.052439e-12</td>\n",
       "      <td>5.786834e-13</td>\n",
       "      <td>3.175120e-13</td>\n",
       "      <td>1.737428e-13</td>\n",
       "      <td>9.475000e-14</td>\n",
       "      <td>5.145458e-14</td>\n",
       "      <td>2.780001e-14</td>\n",
       "      <td>1.492836e-14</td>\n",
       "    </tr>\n",
       "  </tbody>\n",
       "</table>\n",
       "<p>5 rows × 75 columns</p>\n",
       "</div>"
      ],
      "text/plain": [
       "N          626       631       636      641       646       651       656  \\\n",
       "p2                                                                          \n",
       "0.10  0.000377  0.001067  0.002599  0.00554  0.010492  0.017887  0.027759   \n",
       "0.11  0.000377  0.001067  0.002599  0.00554  0.010492  0.017887  0.027759   \n",
       "0.12  0.000377  0.001067  0.002599  0.00554  0.010492  0.017887  0.027759   \n",
       "0.13  0.000377  0.001067  0.002599  0.00554  0.010492  0.017887  0.027759   \n",
       "0.14  0.000377  0.001067  0.002599  0.00554  0.010492  0.017887  0.027759   \n",
       "\n",
       "N          661       666       671  ...           951           956  \\\n",
       "p2                                  ...                               \n",
       "0.10  0.039589  0.052319  0.064535  ...  3.464588e-12  1.910823e-12   \n",
       "0.11  0.039589  0.052319  0.064535  ...  3.464588e-12  1.910823e-12   \n",
       "0.12  0.039589  0.052319  0.064535  ...  3.464588e-12  1.910823e-12   \n",
       "0.13  0.039589  0.052319  0.064535  ...  3.464588e-12  1.910823e-12   \n",
       "0.14  0.039589  0.052319  0.064535  ...  3.464588e-12  1.910823e-12   \n",
       "\n",
       "N              961           966           971           976           981  \\\n",
       "p2                                                                           \n",
       "0.10  1.052439e-12  5.786834e-13  3.175120e-13  1.737428e-13  9.475000e-14   \n",
       "0.11  1.052439e-12  5.786834e-13  3.175120e-13  1.737428e-13  9.475000e-14   \n",
       "0.12  1.052439e-12  5.786834e-13  3.175120e-13  1.737428e-13  9.475000e-14   \n",
       "0.13  1.052439e-12  5.786834e-13  3.175120e-13  1.737428e-13  9.475000e-14   \n",
       "0.14  1.052439e-12  5.786834e-13  3.175120e-13  1.737428e-13  9.475000e-14   \n",
       "\n",
       "N              986           991           996  \n",
       "p2                                              \n",
       "0.10  5.145458e-14  2.780001e-14  1.492836e-14  \n",
       "0.11  5.145458e-14  2.780001e-14  1.492836e-14  \n",
       "0.12  5.145458e-14  2.780001e-14  1.492836e-14  \n",
       "0.13  5.145458e-14  2.780001e-14  1.492836e-14  \n",
       "0.14  5.145458e-14  2.780001e-14  1.492836e-14  \n",
       "\n",
       "[5 rows x 75 columns]"
      ]
     },
     "execution_count": 123,
     "metadata": {},
     "output_type": "execute_result"
    }
   ],
   "source": [
    "joint2 = make_joint(posterior_N, prior_p2)\n",
    "joint2.head()"
   ]
  },
  {
   "cell_type": "code",
   "execution_count": 124,
   "metadata": {},
   "outputs": [
    {
     "data": {
      "text/plain": [
       "2.874211433485911e-13"
      ]
     },
     "execution_count": 124,
     "metadata": {},
     "output_type": "execute_result"
    }
   ],
   "source": [
    "like2 = joint2.copy()\n",
    "Ns = joint2.columns\n",
    "\n",
    "for p2 in joint2.index:\n",
    "    k00 = Ns - s[1]\n",
    "    like = (binom.pmf(k[0,0,1], k00, p2) *\n",
    "            binom.pmf(k[0,1,1], k[0,1], p2) *\n",
    "            binom.pmf(k[1,0,1], k[1,0], p2) *\n",
    "            binom.pmf(k[1,1,1], k[1,1], p2))\n",
    "    \n",
    "    like2.loc[p2] = like\n",
    "\n",
    "like2.to_numpy().sum()"
   ]
  },
  {
   "cell_type": "code",
   "execution_count": 125,
   "metadata": {},
   "outputs": [
    {
     "data": {
      "text/html": [
       "<div>\n",
       "<style scoped>\n",
       "    .dataframe tbody tr th:only-of-type {\n",
       "        vertical-align: middle;\n",
       "    }\n",
       "\n",
       "    .dataframe tbody tr th {\n",
       "        vertical-align: top;\n",
       "    }\n",
       "\n",
       "    .dataframe thead th {\n",
       "        text-align: right;\n",
       "    }\n",
       "</style>\n",
       "<table border=\"1\" class=\"dataframe\">\n",
       "  <thead>\n",
       "    <tr style=\"text-align: right;\">\n",
       "      <th>N</th>\n",
       "      <th>626</th>\n",
       "      <th>631</th>\n",
       "      <th>636</th>\n",
       "      <th>641</th>\n",
       "      <th>646</th>\n",
       "      <th>651</th>\n",
       "      <th>656</th>\n",
       "      <th>661</th>\n",
       "      <th>666</th>\n",
       "      <th>671</th>\n",
       "      <th>...</th>\n",
       "      <th>951</th>\n",
       "      <th>956</th>\n",
       "      <th>961</th>\n",
       "      <th>966</th>\n",
       "      <th>971</th>\n",
       "      <th>976</th>\n",
       "      <th>981</th>\n",
       "      <th>986</th>\n",
       "      <th>991</th>\n",
       "      <th>996</th>\n",
       "    </tr>\n",
       "    <tr>\n",
       "      <th>p2</th>\n",
       "      <th></th>\n",
       "      <th></th>\n",
       "      <th></th>\n",
       "      <th></th>\n",
       "      <th></th>\n",
       "      <th></th>\n",
       "      <th></th>\n",
       "      <th></th>\n",
       "      <th></th>\n",
       "      <th></th>\n",
       "      <th></th>\n",
       "      <th></th>\n",
       "      <th></th>\n",
       "      <th></th>\n",
       "      <th></th>\n",
       "      <th></th>\n",
       "      <th></th>\n",
       "      <th></th>\n",
       "      <th></th>\n",
       "      <th></th>\n",
       "      <th></th>\n",
       "    </tr>\n",
       "  </thead>\n",
       "  <tbody>\n",
       "    <tr>\n",
       "      <th>0.10</th>\n",
       "      <td>1.703221e-90</td>\n",
       "      <td>8.307258e-84</td>\n",
       "      <td>2.355935e-79</td>\n",
       "      <td>7.995505e-76</td>\n",
       "      <td>7.320646e-73</td>\n",
       "      <td>2.668800e-70</td>\n",
       "      <td>4.860121e-68</td>\n",
       "      <td>5.122132e-66</td>\n",
       "      <td>3.460629e-64</td>\n",
       "      <td>1.615036e-62</td>\n",
       "      <td>...</td>\n",
       "      <td>2.879404e-34</td>\n",
       "      <td>3.938314e-34</td>\n",
       "      <td>5.324392e-34</td>\n",
       "      <td>7.117373e-34</td>\n",
       "      <td>9.410051e-34</td>\n",
       "      <td>1.230875e-33</td>\n",
       "      <td>1.593338e-33</td>\n",
       "      <td>2.041697e-33</td>\n",
       "      <td>2.590460e-33</td>\n",
       "      <td>3.255168e-33</td>\n",
       "    </tr>\n",
       "    <tr>\n",
       "      <th>0.11</th>\n",
       "      <td>7.721462e-85</td>\n",
       "      <td>3.561425e-78</td>\n",
       "      <td>9.551394e-74</td>\n",
       "      <td>3.065398e-70</td>\n",
       "      <td>2.654165e-67</td>\n",
       "      <td>9.150232e-65</td>\n",
       "      <td>1.575798e-62</td>\n",
       "      <td>1.570514e-60</td>\n",
       "      <td>1.003422e-58</td>\n",
       "      <td>4.428414e-57</td>\n",
       "      <td>...</td>\n",
       "      <td>3.456749e-30</td>\n",
       "      <td>4.471086e-30</td>\n",
       "      <td>5.716236e-30</td>\n",
       "      <td>7.225990e-30</td>\n",
       "      <td>9.034562e-30</td>\n",
       "      <td>1.117549e-29</td>\n",
       "      <td>1.368038e-29</td>\n",
       "      <td>1.657750e-29</td>\n",
       "      <td>1.989033e-29</td>\n",
       "      <td>2.363611e-29</td>\n",
       "    </tr>\n",
       "    <tr>\n",
       "      <th>0.12</th>\n",
       "      <td>6.958834e-80</td>\n",
       "      <td>3.033360e-73</td>\n",
       "      <td>7.688301e-69</td>\n",
       "      <td>2.331921e-65</td>\n",
       "      <td>1.908175e-62</td>\n",
       "      <td>6.217069e-60</td>\n",
       "      <td>1.011853e-57</td>\n",
       "      <td>9.530637e-56</td>\n",
       "      <td>5.754759e-54</td>\n",
       "      <td>2.400242e-52</td>\n",
       "      <td>...</td>\n",
       "      <td>7.918101e-27</td>\n",
       "      <td>9.678980e-27</td>\n",
       "      <td>1.169473e-26</td>\n",
       "      <td>1.397142e-26</td>\n",
       "      <td>1.650873e-26</td>\n",
       "      <td>1.929908e-26</td>\n",
       "      <td>2.232705e-26</td>\n",
       "      <td>2.556910e-26</td>\n",
       "      <td>2.899358e-26</td>\n",
       "      <td>3.256111e-26</td>\n",
       "    </tr>\n",
       "    <tr>\n",
       "      <th>0.13</th>\n",
       "      <td>1.598949e-75</td>\n",
       "      <td>6.582716e-69</td>\n",
       "      <td>1.575776e-64</td>\n",
       "      <td>4.513992e-61</td>\n",
       "      <td>3.488575e-58</td>\n",
       "      <td>1.073491e-55</td>\n",
       "      <td>1.650111e-53</td>\n",
       "      <td>1.467914e-51</td>\n",
       "      <td>8.371216e-50</td>\n",
       "      <td>3.297611e-48</td>\n",
       "      <td>...</td>\n",
       "      <td>4.434125e-24</td>\n",
       "      <td>5.119168e-24</td>\n",
       "      <td>5.841747e-24</td>\n",
       "      <td>6.591377e-24</td>\n",
       "      <td>7.355838e-24</td>\n",
       "      <td>8.121531e-24</td>\n",
       "      <td>8.873921e-24</td>\n",
       "      <td>9.598042e-24</td>\n",
       "      <td>1.027903e-23</td>\n",
       "      <td>1.090265e-23</td>\n",
       "    </tr>\n",
       "    <tr>\n",
       "      <th>0.14</th>\n",
       "      <td>1.136172e-71</td>\n",
       "      <td>4.414796e-65</td>\n",
       "      <td>9.974608e-61</td>\n",
       "      <td>2.696859e-57</td>\n",
       "      <td>1.967168e-54</td>\n",
       "      <td>5.713311e-52</td>\n",
       "      <td>8.288932e-50</td>\n",
       "      <td>6.959562e-48</td>\n",
       "      <td>3.745985e-46</td>\n",
       "      <td>1.392749e-44</td>\n",
       "      <td>...</td>\n",
       "      <td>7.356258e-22</td>\n",
       "      <td>8.015754e-22</td>\n",
       "      <td>8.633437e-22</td>\n",
       "      <td>9.194183e-22</td>\n",
       "      <td>9.684231e-22</td>\n",
       "      <td>1.009176e-21</td>\n",
       "      <td>1.040736e-21</td>\n",
       "      <td>1.062438e-21</td>\n",
       "      <td>1.073913e-21</td>\n",
       "      <td>1.075091e-21</td>\n",
       "    </tr>\n",
       "  </tbody>\n",
       "</table>\n",
       "<p>5 rows × 75 columns</p>\n",
       "</div>"
      ],
      "text/plain": [
       "N              626           631           636           641           646  \\\n",
       "p2                                                                           \n",
       "0.10  1.703221e-90  8.307258e-84  2.355935e-79  7.995505e-76  7.320646e-73   \n",
       "0.11  7.721462e-85  3.561425e-78  9.551394e-74  3.065398e-70  2.654165e-67   \n",
       "0.12  6.958834e-80  3.033360e-73  7.688301e-69  2.331921e-65  1.908175e-62   \n",
       "0.13  1.598949e-75  6.582716e-69  1.575776e-64  4.513992e-61  3.488575e-58   \n",
       "0.14  1.136172e-71  4.414796e-65  9.974608e-61  2.696859e-57  1.967168e-54   \n",
       "\n",
       "N              651           656           661           666           671  \\\n",
       "p2                                                                           \n",
       "0.10  2.668800e-70  4.860121e-68  5.122132e-66  3.460629e-64  1.615036e-62   \n",
       "0.11  9.150232e-65  1.575798e-62  1.570514e-60  1.003422e-58  4.428414e-57   \n",
       "0.12  6.217069e-60  1.011853e-57  9.530637e-56  5.754759e-54  2.400242e-52   \n",
       "0.13  1.073491e-55  1.650111e-53  1.467914e-51  8.371216e-50  3.297611e-48   \n",
       "0.14  5.713311e-52  8.288932e-50  6.959562e-48  3.745985e-46  1.392749e-44   \n",
       "\n",
       "N     ...           951           956           961           966  \\\n",
       "p2    ...                                                           \n",
       "0.10  ...  2.879404e-34  3.938314e-34  5.324392e-34  7.117373e-34   \n",
       "0.11  ...  3.456749e-30  4.471086e-30  5.716236e-30  7.225990e-30   \n",
       "0.12  ...  7.918101e-27  9.678980e-27  1.169473e-26  1.397142e-26   \n",
       "0.13  ...  4.434125e-24  5.119168e-24  5.841747e-24  6.591377e-24   \n",
       "0.14  ...  7.356258e-22  8.015754e-22  8.633437e-22  9.194183e-22   \n",
       "\n",
       "N              971           976           981           986           991  \\\n",
       "p2                                                                           \n",
       "0.10  9.410051e-34  1.230875e-33  1.593338e-33  2.041697e-33  2.590460e-33   \n",
       "0.11  9.034562e-30  1.117549e-29  1.368038e-29  1.657750e-29  1.989033e-29   \n",
       "0.12  1.650873e-26  1.929908e-26  2.232705e-26  2.556910e-26  2.899358e-26   \n",
       "0.13  7.355838e-24  8.121531e-24  8.873921e-24  9.598042e-24  1.027903e-23   \n",
       "0.14  9.684231e-22  1.009176e-21  1.040736e-21  1.062438e-21  1.073913e-21   \n",
       "\n",
       "N              996  \n",
       "p2                  \n",
       "0.10  3.255168e-33  \n",
       "0.11  2.363611e-29  \n",
       "0.12  3.256111e-26  \n",
       "0.13  1.090265e-23  \n",
       "0.14  1.075091e-21  \n",
       "\n",
       "[5 rows x 75 columns]"
      ]
     },
     "execution_count": 125,
     "metadata": {},
     "output_type": "execute_result"
    }
   ],
   "source": [
    "like2.head()"
   ]
  },
  {
   "cell_type": "code",
   "execution_count": 126,
   "metadata": {},
   "outputs": [
    {
     "data": {
      "text/plain": [
       "6.009976107419042e-10"
      ]
     },
     "execution_count": 126,
     "metadata": {},
     "output_type": "execute_result"
    }
   ],
   "source": [
    "like4 = prior4.copy()\n",
    "\n",
    "for (p0, p1, p2) in prior4.index:\n",
    "    like4.loc[p0, p1, p2] = like2.loc[p2]\n",
    "    \n",
    "like4.to_numpy().sum()"
   ]
  },
  {
   "cell_type": "code",
   "execution_count": 127,
   "metadata": {},
   "outputs": [],
   "source": [
    "posterior4 = prior4 * like4\n",
    "normalize(posterior4)"
   ]
  },
  {
   "cell_type": "code",
   "execution_count": 128,
   "metadata": {},
   "outputs": [
    {
     "data": {
      "text/plain": [
       "(764.7788307540033, array([731., 801.]))"
      ]
     },
     "execution_count": 128,
     "metadata": {},
     "output_type": "execute_result"
    },
    {
     "data": {
      "image/png": "[encoded data removed]",
      "text/plain": [
       "<Figure size 432x288 with 1 Axes>"
      ]
     },
     "metadata": {
      "needs_background": "light"
     },
     "output_type": "display_data"
    }
   ],
   "source": [
    "marginal_N = marginal(posterior4, 0)\n",
    "marginal_N.plot()\n",
    "\n",
    "decorate(xlabel='N',\n",
    "         ylabel='PDF',\n",
    "         title='Posterior for N after three rounds')\n",
    "\n",
    "marginal_N.mean(), marginal_N.credible_interval(0.9)"
   ]
  },
  {
   "cell_type": "code",
   "execution_count": 129,
   "metadata": {},
   "outputs": [
    {
     "data": {
      "text/html": [
       "<div>\n",
       "<style scoped>\n",
       "    .dataframe tbody tr th:only-of-type {\n",
       "        vertical-align: middle;\n",
       "    }\n",
       "\n",
       "    .dataframe tbody tr th {\n",
       "        vertical-align: top;\n",
       "    }\n",
       "\n",
       "    .dataframe thead th {\n",
       "        text-align: right;\n",
       "    }\n",
       "</style>\n",
       "<table border=\"1\" class=\"dataframe\">\n",
       "  <thead>\n",
       "    <tr style=\"text-align: right;\">\n",
       "      <th></th>\n",
       "      <th>p2</th>\n",
       "      <th>0.10</th>\n",
       "      <th>0.11</th>\n",
       "      <th>0.12</th>\n",
       "      <th>0.13</th>\n",
       "      <th>0.14</th>\n",
       "      <th>0.15</th>\n",
       "      <th>0.16</th>\n",
       "      <th>0.17</th>\n",
       "      <th>0.18</th>\n",
       "      <th>0.19</th>\n",
       "      <th>...</th>\n",
       "      <th>0.31</th>\n",
       "      <th>0.32</th>\n",
       "      <th>0.33</th>\n",
       "      <th>0.34</th>\n",
       "      <th>0.35</th>\n",
       "      <th>0.36</th>\n",
       "      <th>0.37</th>\n",
       "      <th>0.38</th>\n",
       "      <th>0.39</th>\n",
       "      <th>0.40</th>\n",
       "    </tr>\n",
       "    <tr>\n",
       "      <th>p0</th>\n",
       "      <th>p1</th>\n",
       "      <th></th>\n",
       "      <th></th>\n",
       "      <th></th>\n",
       "      <th></th>\n",
       "      <th></th>\n",
       "      <th></th>\n",
       "      <th></th>\n",
       "      <th></th>\n",
       "      <th></th>\n",
       "      <th></th>\n",
       "      <th></th>\n",
       "      <th></th>\n",
       "      <th></th>\n",
       "      <th></th>\n",
       "      <th></th>\n",
       "      <th></th>\n",
       "      <th></th>\n",
       "      <th></th>\n",
       "      <th></th>\n",
       "      <th></th>\n",
       "      <th></th>\n",
       "    </tr>\n",
       "  </thead>\n",
       "  <tbody>\n",
       "    <tr>\n",
       "      <th rowspan=\"5\" valign=\"top\">0.5</th>\n",
       "      <th>0.10</th>\n",
       "      <td>1.418302e-63</td>\n",
       "      <td>4.240113e-59</td>\n",
       "      <td>2.774674e-55</td>\n",
       "      <td>5.057520e-52</td>\n",
       "      <td>3.092954e-49</td>\n",
       "      <td>7.348184e-47</td>\n",
       "      <td>7.626764e-45</td>\n",
       "      <td>3.804192e-43</td>\n",
       "      <td>9.862481e-42</td>\n",
       "      <td>1.418366e-40</td>\n",
       "      <td>...</td>\n",
       "      <td>1.122851e-40</td>\n",
       "      <td>1.468367e-41</td>\n",
       "      <td>1.495120e-42</td>\n",
       "      <td>1.193693e-43</td>\n",
       "      <td>7.517753e-45</td>\n",
       "      <td>3.753762e-46</td>\n",
       "      <td>1.492334e-47</td>\n",
       "      <td>4.740089e-49</td>\n",
       "      <td>1.206188e-50</td>\n",
       "      <td>2.464024e-52</td>\n",
       "    </tr>\n",
       "    <tr>\n",
       "      <th>0.11</th>\n",
       "      <td>8.956875e-59</td>\n",
       "      <td>2.677720e-54</td>\n",
       "      <td>1.752265e-50</td>\n",
       "      <td>3.193929e-47</td>\n",
       "      <td>1.953265e-44</td>\n",
       "      <td>4.640531e-42</td>\n",
       "      <td>4.816461e-40</td>\n",
       "      <td>2.402427e-38</td>\n",
       "      <td>6.228362e-37</td>\n",
       "      <td>8.957275e-36</td>\n",
       "      <td>...</td>\n",
       "      <td>7.091039e-36</td>\n",
       "      <td>9.273043e-37</td>\n",
       "      <td>9.441997e-38</td>\n",
       "      <td>7.538418e-39</td>\n",
       "      <td>4.747618e-40</td>\n",
       "      <td>2.370579e-41</td>\n",
       "      <td>9.424402e-43</td>\n",
       "      <td>2.993465e-44</td>\n",
       "      <td>7.617326e-46</td>\n",
       "      <td>1.556082e-47</td>\n",
       "    </tr>\n",
       "    <tr>\n",
       "      <th>0.12</th>\n",
       "      <td>9.401057e-55</td>\n",
       "      <td>2.810511e-50</td>\n",
       "      <td>1.839162e-46</td>\n",
       "      <td>3.352320e-43</td>\n",
       "      <td>2.050129e-40</td>\n",
       "      <td>4.870661e-38</td>\n",
       "      <td>5.055315e-36</td>\n",
       "      <td>2.521566e-34</td>\n",
       "      <td>6.537234e-33</td>\n",
       "      <td>9.401477e-32</td>\n",
       "      <td>...</td>\n",
       "      <td>7.442692e-32</td>\n",
       "      <td>9.732904e-33</td>\n",
       "      <td>9.910237e-34</td>\n",
       "      <td>7.912257e-35</td>\n",
       "      <td>4.983058e-36</td>\n",
       "      <td>2.488139e-37</td>\n",
       "      <td>9.891769e-39</td>\n",
       "      <td>3.141915e-40</td>\n",
       "      <td>7.995078e-42</td>\n",
       "      <td>1.633250e-43</td>\n",
       "    </tr>\n",
       "    <tr>\n",
       "      <th>0.13</th>\n",
       "      <td>2.165764e-51</td>\n",
       "      <td>6.474703e-47</td>\n",
       "      <td>4.236960e-43</td>\n",
       "      <td>7.722893e-40</td>\n",
       "      <td>4.722977e-37</td>\n",
       "      <td>1.122076e-34</td>\n",
       "      <td>1.164616e-32</td>\n",
       "      <td>5.809046e-31</td>\n",
       "      <td>1.506012e-29</td>\n",
       "      <td>2.165861e-28</td>\n",
       "      <td>...</td>\n",
       "      <td>1.714607e-28</td>\n",
       "      <td>2.242213e-29</td>\n",
       "      <td>2.283067e-30</td>\n",
       "      <td>1.822783e-31</td>\n",
       "      <td>1.147970e-32</td>\n",
       "      <td>5.732038e-34</td>\n",
       "      <td>2.278812e-35</td>\n",
       "      <td>7.238172e-37</td>\n",
       "      <td>1.841863e-38</td>\n",
       "      <td>3.762593e-40</td>\n",
       "    </tr>\n",
       "    <tr>\n",
       "      <th>0.14</th>\n",
       "      <td>1.361688e-48</td>\n",
       "      <td>4.070860e-44</td>\n",
       "      <td>2.663917e-40</td>\n",
       "      <td>4.855638e-37</td>\n",
       "      <td>2.969492e-34</td>\n",
       "      <td>7.054865e-32</td>\n",
       "      <td>7.322325e-30</td>\n",
       "      <td>3.652339e-28</td>\n",
       "      <td>9.468798e-27</td>\n",
       "      <td>1.361748e-25</td>\n",
       "      <td>...</td>\n",
       "      <td>1.078030e-25</td>\n",
       "      <td>1.409754e-26</td>\n",
       "      <td>1.435439e-27</td>\n",
       "      <td>1.146044e-28</td>\n",
       "      <td>7.217665e-30</td>\n",
       "      <td>3.603922e-31</td>\n",
       "      <td>1.432764e-32</td>\n",
       "      <td>4.550878e-34</td>\n",
       "      <td>1.158040e-35</td>\n",
       "      <td>2.365667e-37</td>\n",
       "    </tr>\n",
       "  </tbody>\n",
       "</table>\n",
       "<p>5 rows × 31 columns</p>\n",
       "</div>"
      ],
      "text/plain": [
       "p2                0.10          0.11          0.12          0.13  \\\n",
       "p0  p1                                                             \n",
       "0.5 0.10  1.418302e-63  4.240113e-59  2.774674e-55  5.057520e-52   \n",
       "    0.11  8.956875e-59  2.677720e-54  1.752265e-50  3.193929e-47   \n",
       "    0.12  9.401057e-55  2.810511e-50  1.839162e-46  3.352320e-43   \n",
       "    0.13  2.165764e-51  6.474703e-47  4.236960e-43  7.722893e-40   \n",
       "    0.14  1.361688e-48  4.070860e-44  2.663917e-40  4.855638e-37   \n",
       "\n",
       "p2                0.14          0.15          0.16          0.17  \\\n",
       "p0  p1                                                             \n",
       "0.5 0.10  3.092954e-49  7.348184e-47  7.626764e-45  3.804192e-43   \n",
       "    0.11  1.953265e-44  4.640531e-42  4.816461e-40  2.402427e-38   \n",
       "    0.12  2.050129e-40  4.870661e-38  5.055315e-36  2.521566e-34   \n",
       "    0.13  4.722977e-37  1.122076e-34  1.164616e-32  5.809046e-31   \n",
       "    0.14  2.969492e-34  7.054865e-32  7.322325e-30  3.652339e-28   \n",
       "\n",
       "p2                0.18          0.19  ...          0.31          0.32  \\\n",
       "p0  p1                                ...                               \n",
       "0.5 0.10  9.862481e-42  1.418366e-40  ...  1.122851e-40  1.468367e-41   \n",
       "    0.11  6.228362e-37  8.957275e-36  ...  7.091039e-36  9.273043e-37   \n",
       "    0.12  6.537234e-33  9.401477e-32  ...  7.442692e-32  9.732904e-33   \n",
       "    0.13  1.506012e-29  2.165861e-28  ...  1.714607e-28  2.242213e-29   \n",
       "    0.14  9.468798e-27  1.361748e-25  ...  1.078030e-25  1.409754e-26   \n",
       "\n",
       "p2                0.33          0.34          0.35          0.36  \\\n",
       "p0  p1                                                             \n",
       "0.5 0.10  1.495120e-42  1.193693e-43  7.517753e-45  3.753762e-46   \n",
       "    0.11  9.441997e-38  7.538418e-39  4.747618e-40  2.370579e-41   \n",
       "    0.12  9.910237e-34  7.912257e-35  4.983058e-36  2.488139e-37   \n",
       "    0.13  2.283067e-30  1.822783e-31  1.147970e-32  5.732038e-34   \n",
       "    0.14  1.435439e-27  1.146044e-28  7.217665e-30  3.603922e-31   \n",
       "\n",
       "p2                0.37          0.38          0.39          0.40  \n",
       "p0  p1                                                            \n",
       "0.5 0.10  1.492334e-47  4.740089e-49  1.206188e-50  2.464024e-52  \n",
       "    0.11  9.424402e-43  2.993465e-44  7.617326e-46  1.556082e-47  \n",
       "    0.12  9.891769e-39  3.141915e-40  7.995078e-42  1.633250e-43  \n",
       "    0.13  2.278812e-35  7.238172e-37  1.841863e-38  3.762593e-40  \n",
       "    0.14  1.432764e-32  4.550878e-34  1.158040e-35  2.365667e-37  \n",
       "\n",
       "[5 rows x 31 columns]"
      ]
     },
     "execution_count": 129,
     "metadata": {},
     "output_type": "execute_result"
    }
   ],
   "source": [
    "posterior_p012 = marginal(posterior4, 1)\n",
    "posterior_p012.unstack().head()"
   ]
  },
  {
   "cell_type": "code",
   "execution_count": 130,
   "metadata": {},
   "outputs": [
    {
     "data": {
      "image/png": "[encoded data removed]",
      "text/plain": [
       "<Figure size 432x288 with 1 Axes>"
      ]
     },
     "metadata": {
      "needs_background": "light"
     },
     "output_type": "display_data"
    }
   ],
   "source": [
    "posterior_p2 = marginal(posterior_p012.unstack(), 0)\n",
    "posterior_p2.plot()"
   ]
  },
  {
   "cell_type": "code",
   "execution_count": 131,
   "metadata": {},
   "outputs": [
    {
     "data": {
      "image/png": "[encoded data removed]",
      "text/plain": [
       "<Figure size 432x432 with 3 Axes>"
      ]
     },
     "metadata": {
      "needs_background": "light"
     },
     "output_type": "display_data"
    }
   ],
   "source": [
    "posterior_p01 = marginal(posterior_p012.unstack(), 1)\n",
    "joint_plot(posterior_p01.unstack().transpose())"
   ]
  },
  {
   "cell_type": "markdown",
   "metadata": {},
   "source": [
    "## Diabetes"
   ]
  },
  {
   "cell_type": "code",
   "execution_count": 132,
   "metadata": {},
   "outputs": [
    {
     "data": {
      "text/plain": [
       "2069"
      ]
     },
     "execution_count": 132,
     "metadata": {},
     "output_type": "execute_result"
    }
   ],
   "source": [
    "data4 = [-10000, 10, 182, 8, 74, 7, 20, 14, 709, 12, 650, 46, 104, 18, 157, 58]\n",
    "num_observed(data4)"
   ]
  },
  {
   "cell_type": "code",
   "execution_count": 133,
   "metadata": {},
   "outputs": [],
   "source": [
    "n, k, s = make_stats(data4, 4)"
   ]
  },
  {
   "cell_type": "code",
   "execution_count": 134,
   "metadata": {},
   "outputs": [
    {
     "data": {
      "text/plain": [
       "0    1754\n",
       "1     452\n",
       "2    1135\n",
       "3     173\n",
       "dtype: int64"
      ]
     },
     "execution_count": 134,
     "metadata": {},
     "output_type": "execute_result"
    }
   ],
   "source": [
    "n"
   ]
  },
  {
   "cell_type": "code",
   "execution_count": 135,
   "metadata": {},
   "outputs": [
    {
     "data": {
      "text/plain": [
       "0               -9685\n",
       "1                1754\n",
       "(0, 0)          -9800\n",
       "(0, 1)            115\n",
       "(1, 0)           1417\n",
       "(1, 1)            337\n",
       "(0, 0, 0)       -9990\n",
       "(0, 0, 1)         190\n",
       "(0, 1, 0)          81\n",
       "(0, 1, 1)          34\n",
       "(1, 0, 0)         721\n",
       "(1, 0, 1)         696\n",
       "(1, 1, 0)         122\n",
       "(1, 1, 1)         215\n",
       "(0, 0, 0, 0)   -10000\n",
       "(0, 0, 0, 1)       10\n",
       "(0, 0, 1, 0)      182\n",
       "(0, 0, 1, 1)        8\n",
       "(0, 1, 0, 0)       74\n",
       "(0, 1, 0, 1)        7\n",
       "(0, 1, 1, 0)       20\n",
       "(0, 1, 1, 1)       14\n",
       "(1, 0, 0, 0)      709\n",
       "(1, 0, 0, 1)       12\n",
       "(1, 0, 1, 0)      650\n",
       "(1, 0, 1, 1)       46\n",
       "(1, 1, 0, 0)      104\n",
       "(1, 1, 0, 1)       18\n",
       "(1, 1, 1, 0)      157\n",
       "(1, 1, 1, 1)       58\n",
       "dtype: int64"
      ]
     },
     "execution_count": 135,
     "metadata": {},
     "output_type": "execute_result"
    }
   ],
   "source": [
    "k"
   ]
  },
  {
   "cell_type": "code",
   "execution_count": 136,
   "metadata": {},
   "outputs": [
    {
     "data": {
      "text/plain": [
       "[1754, 1869, 2059, 2069]"
      ]
     },
     "execution_count": 136,
     "metadata": {},
     "output_type": "execute_result"
    }
   ],
   "source": [
    "s"
   ]
  }
 ],
 "metadata": {
  "kernelspec": {
   "display_name": "Python 3",
   "language": "python",
   "name": "python3"
  },
  "language_info": {
   "codemirror_mode": {
    "name": "ipython",
    "version": 3
   },
   "file_extension": ".py",
   "mimetype": "text/x-python",
   "name": "python",
   "nbconvert_exporter": "python",
   "pygments_lexer": "ipython3",
   "version": "3.8.2"
  }
 },
 "nbformat": 4,
 "nbformat_minor": 1
}
