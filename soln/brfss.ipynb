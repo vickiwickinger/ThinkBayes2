{
 "cells": [
  {
   "cell_type": "code",
   "execution_count": 9,
   "metadata": {},
   "outputs": [],
   "source": [
    "import numpy as np\n",
    "import pandas as pd\n",
    "\n",
    "from scipy.stats import norm"
   ]
  },
  {
   "cell_type": "code",
   "execution_count": 10,
   "metadata": {},
   "outputs": [
    {
     "name": "stdout",
     "output_type": "stream",
     "text": [
      "../../data/LLCP2018.XPT\n"
     ]
    }
   ],
   "source": [
    "!ls ../../data/LLCP2018.XPT"
   ]
  },
  {
   "cell_type": "code",
   "execution_count": 11,
   "metadata": {},
   "outputs": [
    {
     "data": {
      "text/html": [
       "<div>\n",
       "<style scoped>\n",
       "    .dataframe tbody tr th:only-of-type {\n",
       "        vertical-align: middle;\n",
       "    }\n",
       "\n",
       "    .dataframe tbody tr th {\n",
       "        vertical-align: top;\n",
       "    }\n",
       "\n",
       "    .dataframe thead th {\n",
       "        text-align: right;\n",
       "    }\n",
       "</style>\n",
       "<table border=\"1\" class=\"dataframe\">\n",
       "  <thead>\n",
       "    <tr style=\"text-align: right;\">\n",
       "      <th></th>\n",
       "      <th>_STATE</th>\n",
       "      <th>FMONTH</th>\n",
       "      <th>IDATE</th>\n",
       "      <th>IMONTH</th>\n",
       "      <th>IDAY</th>\n",
       "      <th>IYEAR</th>\n",
       "      <th>DISPCODE</th>\n",
       "      <th>SEQNO</th>\n",
       "      <th>_PSU</th>\n",
       "      <th>CTELENM1</th>\n",
       "      <th>...</th>\n",
       "      <th>_MAM5022</th>\n",
       "      <th>_RFPAP34</th>\n",
       "      <th>_RFPSA22</th>\n",
       "      <th>_RFBLDS3</th>\n",
       "      <th>_COL10YR</th>\n",
       "      <th>_HFOB3YR</th>\n",
       "      <th>_FS5YR</th>\n",
       "      <th>_FOBTFS</th>\n",
       "      <th>_CRCREC</th>\n",
       "      <th>_AIDTST3</th>\n",
       "    </tr>\n",
       "  </thead>\n",
       "  <tbody>\n",
       "    <tr>\n",
       "      <th>0</th>\n",
       "      <td>1.0</td>\n",
       "      <td>1.0</td>\n",
       "      <td>b'01052018'</td>\n",
       "      <td>b'01'</td>\n",
       "      <td>b'05'</td>\n",
       "      <td>b'2018'</td>\n",
       "      <td>1100.0</td>\n",
       "      <td>b'2018000001'</td>\n",
       "      <td>2.018000e+09</td>\n",
       "      <td>1.0</td>\n",
       "      <td>...</td>\n",
       "      <td>NaN</td>\n",
       "      <td>NaN</td>\n",
       "      <td>NaN</td>\n",
       "      <td>NaN</td>\n",
       "      <td>NaN</td>\n",
       "      <td>NaN</td>\n",
       "      <td>NaN</td>\n",
       "      <td>NaN</td>\n",
       "      <td>NaN</td>\n",
       "      <td>2.0</td>\n",
       "    </tr>\n",
       "    <tr>\n",
       "      <th>1</th>\n",
       "      <td>1.0</td>\n",
       "      <td>1.0</td>\n",
       "      <td>b'01122018'</td>\n",
       "      <td>b'01'</td>\n",
       "      <td>b'12'</td>\n",
       "      <td>b'2018'</td>\n",
       "      <td>1100.0</td>\n",
       "      <td>b'2018000002'</td>\n",
       "      <td>2.018000e+09</td>\n",
       "      <td>1.0</td>\n",
       "      <td>...</td>\n",
       "      <td>NaN</td>\n",
       "      <td>1.0</td>\n",
       "      <td>NaN</td>\n",
       "      <td>NaN</td>\n",
       "      <td>NaN</td>\n",
       "      <td>NaN</td>\n",
       "      <td>NaN</td>\n",
       "      <td>NaN</td>\n",
       "      <td>NaN</td>\n",
       "      <td>2.0</td>\n",
       "    </tr>\n",
       "    <tr>\n",
       "      <th>2</th>\n",
       "      <td>1.0</td>\n",
       "      <td>1.0</td>\n",
       "      <td>b'01082018'</td>\n",
       "      <td>b'01'</td>\n",
       "      <td>b'08'</td>\n",
       "      <td>b'2018'</td>\n",
       "      <td>1100.0</td>\n",
       "      <td>b'2018000003'</td>\n",
       "      <td>2.018000e+09</td>\n",
       "      <td>1.0</td>\n",
       "      <td>...</td>\n",
       "      <td>NaN</td>\n",
       "      <td>NaN</td>\n",
       "      <td>NaN</td>\n",
       "      <td>NaN</td>\n",
       "      <td>NaN</td>\n",
       "      <td>NaN</td>\n",
       "      <td>NaN</td>\n",
       "      <td>NaN</td>\n",
       "      <td>NaN</td>\n",
       "      <td>2.0</td>\n",
       "    </tr>\n",
       "    <tr>\n",
       "      <th>3</th>\n",
       "      <td>1.0</td>\n",
       "      <td>1.0</td>\n",
       "      <td>b'01032018'</td>\n",
       "      <td>b'01'</td>\n",
       "      <td>b'03'</td>\n",
       "      <td>b'2018'</td>\n",
       "      <td>1100.0</td>\n",
       "      <td>b'2018000004'</td>\n",
       "      <td>2.018000e+09</td>\n",
       "      <td>1.0</td>\n",
       "      <td>...</td>\n",
       "      <td>NaN</td>\n",
       "      <td>NaN</td>\n",
       "      <td>2.0</td>\n",
       "      <td>2.0</td>\n",
       "      <td>2.0</td>\n",
       "      <td>2.0</td>\n",
       "      <td>2.0</td>\n",
       "      <td>2.0</td>\n",
       "      <td>2.0</td>\n",
       "      <td>2.0</td>\n",
       "    </tr>\n",
       "    <tr>\n",
       "      <th>4</th>\n",
       "      <td>1.0</td>\n",
       "      <td>1.0</td>\n",
       "      <td>b'01122018'</td>\n",
       "      <td>b'01'</td>\n",
       "      <td>b'12'</td>\n",
       "      <td>b'2018'</td>\n",
       "      <td>1100.0</td>\n",
       "      <td>b'2018000005'</td>\n",
       "      <td>2.018000e+09</td>\n",
       "      <td>1.0</td>\n",
       "      <td>...</td>\n",
       "      <td>NaN</td>\n",
       "      <td>NaN</td>\n",
       "      <td>NaN</td>\n",
       "      <td>NaN</td>\n",
       "      <td>NaN</td>\n",
       "      <td>NaN</td>\n",
       "      <td>NaN</td>\n",
       "      <td>NaN</td>\n",
       "      <td>NaN</td>\n",
       "      <td>2.0</td>\n",
       "    </tr>\n",
       "  </tbody>\n",
       "</table>\n",
       "<p>5 rows × 275 columns</p>\n",
       "</div>"
      ],
      "text/plain": [
       "   _STATE  FMONTH        IDATE IMONTH   IDAY    IYEAR  DISPCODE  \\\n",
       "0     1.0     1.0  b'01052018'  b'01'  b'05'  b'2018'    1100.0   \n",
       "1     1.0     1.0  b'01122018'  b'01'  b'12'  b'2018'    1100.0   \n",
       "2     1.0     1.0  b'01082018'  b'01'  b'08'  b'2018'    1100.0   \n",
       "3     1.0     1.0  b'01032018'  b'01'  b'03'  b'2018'    1100.0   \n",
       "4     1.0     1.0  b'01122018'  b'01'  b'12'  b'2018'    1100.0   \n",
       "\n",
       "           SEQNO          _PSU  CTELENM1  ...  _MAM5022  _RFPAP34  _RFPSA22  \\\n",
       "0  b'2018000001'  2.018000e+09       1.0  ...       NaN       NaN       NaN   \n",
       "1  b'2018000002'  2.018000e+09       1.0  ...       NaN       1.0       NaN   \n",
       "2  b'2018000003'  2.018000e+09       1.0  ...       NaN       NaN       NaN   \n",
       "3  b'2018000004'  2.018000e+09       1.0  ...       NaN       NaN       2.0   \n",
       "4  b'2018000005'  2.018000e+09       1.0  ...       NaN       NaN       NaN   \n",
       "\n",
       "   _RFBLDS3  _COL10YR  _HFOB3YR  _FS5YR  _FOBTFS  _CRCREC  _AIDTST3  \n",
       "0       NaN       NaN       NaN     NaN      NaN      NaN       2.0  \n",
       "1       NaN       NaN       NaN     NaN      NaN      NaN       2.0  \n",
       "2       NaN       NaN       NaN     NaN      NaN      NaN       2.0  \n",
       "3       2.0       2.0       2.0     2.0      2.0      2.0       2.0  \n",
       "4       NaN       NaN       NaN     NaN      NaN      NaN       2.0  \n",
       "\n",
       "[5 rows x 275 columns]"
      ]
     },
     "execution_count": 11,
     "metadata": {},
     "output_type": "execute_result"
    }
   ],
   "source": [
    "filename = '../../data/LLCP2018.XPT'\n",
    "df = pd.read_sas(filename)\n",
    "df.head()"
   ]
  },
  {
   "cell_type": "code",
   "execution_count": 12,
   "metadata": {},
   "outputs": [
    {
     "data": {
      "text/plain": [
       "2.0    238911\n",
       "1.0    197412\n",
       "9.0       682\n",
       "7.0       431\n",
       "Name: SEX1, dtype: int64"
      ]
     },
     "execution_count": 12,
     "metadata": {},
     "output_type": "execute_result"
    }
   ],
   "source": [
    "df['SEX1'].value_counts()"
   ]
  },
  {
   "cell_type": "code",
   "execution_count": 13,
   "metadata": {},
   "outputs": [
    {
     "data": {
      "text/plain": [
       "197412"
      ]
     },
     "execution_count": 13,
     "metadata": {},
     "output_type": "execute_result"
    }
   ],
   "source": [
    "male = df['SEX1'] == 1\n",
    "male.sum()"
   ]
  },
  {
   "cell_type": "code",
   "execution_count": 14,
   "metadata": {},
   "outputs": [
    {
     "data": {
      "text/plain": [
       "238911"
      ]
     },
     "execution_count": 14,
     "metadata": {},
     "output_type": "execute_result"
    }
   ],
   "source": [
    "female = df['SEX1'] == 2\n",
    "female.sum()"
   ]
  },
  {
   "cell_type": "code",
   "execution_count": 15,
   "metadata": {},
   "outputs": [
    {
     "data": {
      "text/plain": [
       "count    420974.000000\n",
       "mean        169.895887\n",
       "std          10.721788\n",
       "min          91.000000\n",
       "25%         163.000000\n",
       "50%         170.000000\n",
       "75%         178.000000\n",
       "max         241.000000\n",
       "Name: HTM4, dtype: float64"
      ]
     },
     "execution_count": 15,
     "metadata": {},
     "output_type": "execute_result"
    }
   ],
   "source": [
    "df['HTM4'].describe()"
   ]
  },
  {
   "cell_type": "code",
   "execution_count": 37,
   "metadata": {},
   "outputs": [
    {
     "data": {
      "text/plain": [
       "(178.015133313527, 8.272961809579046)"
      ]
     },
     "execution_count": 37,
     "metadata": {},
     "output_type": "execute_result"
    }
   ],
   "source": [
    "height_male = df.loc[male, 'HTM4']\n",
    "height_male += np.random.normal(0, 2, male.sum())\n",
    "\n",
    "height_male.mean(), height_male.std()"
   ]
  },
  {
   "cell_type": "code",
   "execution_count": 43,
   "metadata": {},
   "outputs": [
    {
     "data": {
      "text/plain": [
       "0.04647336243603734"
      ]
     },
     "execution_count": 43,
     "metadata": {},
     "output_type": "execute_result"
    }
   ],
   "source": [
    "height_male.std() / height_male.mean()"
   ]
  },
  {
   "cell_type": "code",
   "execution_count": 41,
   "metadata": {},
   "outputs": [
    {
     "data": {
      "text/plain": [
       "(163.11558651312797, 7.753027176098179)"
      ]
     },
     "execution_count": 41,
     "metadata": {},
     "output_type": "execute_result"
    }
   ],
   "source": [
    "height_female = df.loc[female, 'HTM4']\n",
    "height_female += np.random.normal(0, 2, female.sum())\n",
    "\n",
    "height_female.mean(), height_female.std()"
   ]
  },
  {
   "cell_type": "code",
   "execution_count": 44,
   "metadata": {},
   "outputs": [
    {
     "data": {
      "text/plain": [
       "0.047530878819322366"
      ]
     },
     "execution_count": 44,
     "metadata": {},
     "output_type": "execute_result"
    }
   ],
   "source": [
    "height_female.std() / height_female.mean()"
   ]
  },
  {
   "cell_type": "code",
   "execution_count": 39,
   "metadata": {},
   "outputs": [],
   "source": [
    "def estimate_std(series, num_sigmas):\n",
    "    ps = norm.cdf([-num_sigmas/2, num_sigmas/2])\n",
    "    ipr = series.quantile(ps)\n",
    "    std = np.diff(ipr) / num_sigmas\n",
    "    return std"
   ]
  },
  {
   "cell_type": "code",
   "execution_count": 45,
   "metadata": {},
   "outputs": [
    {
     "data": {
      "text/plain": [
       "<matplotlib.axes._subplots.AxesSubplot at 0x7f51e555bf70>"
      ]
     },
     "execution_count": 45,
     "metadata": {},
     "output_type": "execute_result"
    },
    {
     "data": {
      "image/png": "[encoded data removed]",
      "text/plain": [
       "<Figure size 432x288 with 1 Axes>"
      ]
     },
     "metadata": {
      "needs_background": "light"
     },
     "output_type": "display_data"
    }
   ],
   "source": [
    "index = np.linspace(1, 6, 51)\n",
    "std_series_male = pd.Series(1.0, index=index)\n",
    "\n",
    "for num_sigmas in index:\n",
    "    std_series_male[num_sigmas] = estimate_std(height_male, num_sigmas)\n",
    "    \n",
    "std_series_male.plot()"
   ]
  },
  {
   "cell_type": "code",
   "execution_count": 42,
   "metadata": {},
   "outputs": [
    {
     "data": {
      "text/plain": [
       "<matplotlib.axes._subplots.AxesSubplot at 0x7f51e56adfd0>"
      ]
     },
     "execution_count": 42,
     "metadata": {},
     "output_type": "execute_result"
    },
    {
     "data": {
      "image/png": "[encoded data removed]",
      "text/plain": [
       "<Figure size 432x288 with 1 Axes>"
      ]
     },
     "metadata": {
      "needs_background": "light"
     },
     "output_type": "display_data"
    }
   ],
   "source": [
    "index = np.linspace(1, 5, 51)\n",
    "std_series_female = pd.Series(1.0, index=index)\n",
    "\n",
    "for num_sigmas in index:\n",
    "    std_series_female[num_sigmas] = estimate_std(height_female, num_sigmas)\n",
    "    \n",
    "std_series_female.plot()"
   ]
  },
  {
   "cell_type": "code",
   "execution_count": 20,
   "metadata": {},
   "outputs": [
    {
     "data": {
      "text/plain": [
       "0.066807    152.117512\n",
       "0.933193    174.271321\n",
       "Name: HTM4, dtype: float64"
      ]
     },
     "execution_count": 20,
     "metadata": {},
     "output_type": "execute_result"
    }
   ],
   "source": [
    "ipr_female = height_female.quantile(ps)\n",
    "ipr_female"
   ]
  },
  {
   "cell_type": "code",
   "execution_count": 21,
   "metadata": {},
   "outputs": [
    {
     "data": {
      "text/plain": [
       "array([7.81866273])"
      ]
     },
     "execution_count": 21,
     "metadata": {},
     "output_type": "execute_result"
    }
   ],
   "source": [
    "np.diff(ipr_male) / 3"
   ]
  },
  {
   "cell_type": "code",
   "execution_count": 22,
   "metadata": {},
   "outputs": [
    {
     "data": {
      "text/plain": [
       "array([7.38460301])"
      ]
     },
     "execution_count": 22,
     "metadata": {},
     "output_type": "execute_result"
    }
   ],
   "source": [
    "np.diff(ipr_female) / 3"
   ]
  },
  {
   "cell_type": "code",
   "execution_count": 23,
   "metadata": {},
   "outputs": [
    {
     "data": {
      "image/png": "[encoded data removed]",
      "text/plain": [
       "<Figure size 432x288 with 1 Axes>"
      ]
     },
     "metadata": {
      "needs_background": "light"
     },
     "output_type": "display_data"
    }
   ],
   "source": [
    "from empiricaldist import Cdf\n",
    "\n",
    "cdf_male = Cdf.from_seq(height_male)\n",
    "cdf_male.plot()\n",
    "\n",
    "cdf_female = Cdf.from_seq(height_female)\n",
    "cdf_female.plot()"
   ]
  },
  {
   "cell_type": "code",
   "execution_count": null,
   "metadata": {},
   "outputs": [],
   "source": []
  }
 ],
 "metadata": {
  "kernelspec": {
   "display_name": "Python 3",
   "language": "python",
   "name": "python3"
  },
  "language_info": {
   "codemirror_mode": {
    "name": "ipython",
    "version": 3
   },
   "file_extension": ".py",
   "mimetype": "text/x-python",
   "name": "python",
   "nbconvert_exporter": "python",
   "pygments_lexer": "ipython3",
   "version": "3.8.2"
  }
 },
 "nbformat": 4,
 "nbformat_minor": 4
}
