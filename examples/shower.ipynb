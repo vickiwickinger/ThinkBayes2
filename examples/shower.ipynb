{
 "cells": [
  {
   "cell_type": "markdown",
   "metadata": {},
   "source": [
    "# The Shower Problem"
   ]
  },
  {
   "cell_type": "markdown",
   "metadata": {},
   "source": [
    "This notebook is one of the examples in the second edition of [*Think Bayes*](https://greenteapress.com/wp/think-bayes/).\n",
    "\n",
    "[Click here to run this notebook on Colab](https://colab.research.google.com/github/AllenDowney/ThinkBayes2/blob/master/examples/shower.ipynb)."
   ]
  },
  {
   "cell_type": "markdown",
   "metadata": {},
   "source": [
    "Recently I [posted an article](https://t.co/MZgb3845Ol?amp=1) about an optimal (maybe) strategy for plugging in a USB connector.\n",
    "\n",
    "I tweeted about the article and got [a reply from Cameron Davidson-Pilon](https://twitter.com/Cmrn_DP/status/1407159305904795658) that pointed me to [a related problem posted by Chris Said](https://chris-said.io/2020/02/08/the-shower-problem/):\n",
    "\n",
    "> #### The Shower Problem\n",
    ">\n",
    "> Here’s the setup: You’re at your friend’s place and you need to take a shower. The shower knob is unlabeled. One direction is hot and the other direction is cold, and you don’t know which is which.\n",
    ">\n",
    "> You turn it to the left. It’s cold. You wait.\n",
    ">\n",
    ">At what point do you switch over to the right?\n",
    ">\n",
    "> Let’s make this more explicit.\n",
    ">\n",
    "> * Your goal is to find a policy that minimizes the expected amount of time it takes to get hot water flowing out of the shower head. To simplify things, assume that the water coming out of the head is either hot or cold, and that the lukewarm transition time is effectively zero.\n",
    ">\n",
    "> * You know that the shower has a Time-To-Hot constant called $\\tau$. This value is defined as the time it takes for hot water to arrive, assuming you have turned the knob to the hot direction and keep it there.\n",
    ">\n",
    "> * The constant is a fixed property of the shower and is sampled once from a known distribution. You have certain knowledge of the distribution, but you don’t know $\\tau$.\n",
    ">\n",
    "> * The shower is memoryless, such that every time you turn the knob to the hot direction, it will take $\\tau$ seconds until the hot water arrives, regardless of your prior actions. Every time you turn it to the cold direction, only cold water will come out.\n",
    ">\n",
    "> I don’t know how to solve this problem. But as a starting point I realize it’s possible to keep track of the probability that the hot direction is to the left or to the right. In the animation above, the probability that the hot direction is to the right is just the unexplored white area under the right curve, divided by the total unexplored white area of both curves.\n",
    ">\n",
    "> But how do you turn that into a policy for exploring the space? Does anybody know?\n",
    "\n",
    "Chris provides [a sample of 20,000 values for the time constant](https://gist.github.com/csaid/a57c4ebaa1c7b0671cdc9692638ea4c4) and the additional information that the distribution of $tau$ is Weibull with parameters $\\lambda=50$ and $k=1.5$.\n",
    "\n",
    "Also, Chris keeps track of the leader board for best strategy. At the moment, the leader is Cameron Davidson-Pilon himself, with an average duration of 111.365 seconds."
   ]
  },
  {
   "cell_type": "markdown",
   "metadata": {},
   "source": [
    "So let's see if we can do any better. As in the previous problem, I'm going to start with the conjecture that the optimal strategy is to stay on the first side until the probability that you are on the right side drops below some threshold, then switch to the second side and stay until the probability drops below the same threshold.\n",
    "\n",
    "I am not confident that this strategy is actually optimal, but let's see if it does a decent job.\n",
    "\n",
    "Suppose we try on the first side for $t_1$ seconds and then try on the second side for $t_2$ seconds. At that point, we can use the survival function of the Weibull distribution to compute the log odds that the second side is correct:\n",
    "\n",
    "$$ LO = \\left( \\frac{t_1}{\\lambda} \\right)^k - \\left( \\frac{t_2}{\\lambda} \\right)^k$$\n",
    "\n",
    "Now suppose we want to stay on the current side until the log odds we're on the wrong side exceeds some threshold, `x`, and the time we've spent on the other side is `other`. \n",
    "The following function computes how long we should stay."
   ]
  },
  {
   "cell_type": "code",
   "execution_count": 1,
   "metadata": {},
   "outputs": [],
   "source": [
    "def wait_time(x, other, lam, k):\n",
    "    term = (other / lam) ** k\n",
    "    total = lam * (x + term) ** (1/k)\n",
    "    return total"
   ]
  },
  {
   "cell_type": "markdown",
   "metadata": {},
   "source": [
    "Starting with $t_1=0$ and $t_2=0$, when $x=1$, the time we wait turns out to be $\\lambda$. "
   ]
  },
  {
   "cell_type": "code",
   "execution_count": 2,
   "metadata": {},
   "outputs": [
    {
     "data": {
      "text/plain": [
       "50.0"
      ]
     },
     "execution_count": 2,
     "metadata": {},
     "output_type": "execute_result"
    }
   ],
   "source": [
    "right = 0\n",
    "left = 0\n",
    "x = 1\n",
    "lam = 50\n",
    "k = 1.5\n",
    "\n",
    "right = wait_time(x, left, lam, k)\n",
    "right"
   ]
  },
  {
   "cell_type": "markdown",
   "metadata": {},
   "source": [
    "Now suppose we've waited 50 seconds on the left and we switch to the right. How long should we stay?"
   ]
  },
  {
   "cell_type": "code",
   "execution_count": 3,
   "metadata": {},
   "outputs": [
    {
     "data": {
      "text/plain": [
       "79.37005259840997"
      ]
     },
     "execution_count": 3,
     "metadata": {},
     "output_type": "execute_result"
    }
   ],
   "source": [
    "left = wait_time(x, right, lam, k)\n",
    "left"
   ]
  },
  {
   "cell_type": "markdown",
   "metadata": {},
   "source": [
    "And now if we've spent `left` second on the left and switch to the right, how long should we stay."
   ]
  },
  {
   "cell_type": "code",
   "execution_count": 4,
   "metadata": {},
   "outputs": [
    {
     "data": {
      "text/plain": [
       "104.00419115259521"
      ]
     },
     "execution_count": 4,
     "metadata": {},
     "output_type": "execute_result"
    }
   ],
   "source": [
    "right = wait_time(x, left, lam, k)\n",
    "right"
   ]
  },
  {
   "cell_type": "markdown",
   "metadata": {},
   "source": [
    "But all of that is based on the assumption that `x=1`. Let's see what happens to the average total time as we vary `x`."
   ]
  },
  {
   "cell_type": "markdown",
   "metadata": {},
   "source": [
    "## Simulation\n",
    "\n",
    "The following function simulates the strategy I just outlined.\n",
    "It takes as parameters:\n",
    "\n",
    "* `correct`: A Boolean indicating if we're on the right side.\n",
    "* `tau`: The actual time to get hot water.\n",
    "* `this`: The longest time we've tried on the current side.\n",
    "* `that`: The longest time we've tried on the other side..\n",
    "* `lam`: The scale parameter for the distribution of time until success.\n",
    "* `k`: The shape parameter for the distribution of time until success.\n",
    "* `x`: The threshold for the posterior log odds.\n",
    "* `trace`: A list that indicates how much time we have spent, so far, trying and flipping.\n",
    "\n",
    "It runs the simulation and returns a sequence of waiting times. The sum of this sequence is the total time it took to connect."
   ]
  },
  {
   "cell_type": "code",
   "execution_count": 5,
   "metadata": {},
   "outputs": [],
   "source": [
    "def simulate(correct, tau, this, that, lam, k, x, trace):\n",
    "    if len(trace) > 20:\n",
    "        return 'Too many recursions'\n",
    "    \n",
    "    # print(correct, tau, this, that, lam, k, x, trace)\n",
    "    \n",
    "    # figure out the maximum time we should try before flipping\n",
    "    wait = wait_time(x, that, lam, k)\n",
    "    \n",
    "    # if we're on the correct side, see if we succeed before time's up\n",
    "    if correct and tau < wait:\n",
    "        # if so, update and return the trace\n",
    "        return trace + [tau]\n",
    "    \n",
    "    # if time expired, add the wait time to the trace  \n",
    "    # and make a recursive call to continue the simulation\n",
    "    return simulate(not correct, tau, that, wait, lam, k, x, trace + [wait])"
   ]
  },
  {
   "cell_type": "markdown",
   "metadata": {},
   "source": [
    "Here are a few test runs with `x=0.5` and various values of `correct` and `tau`."
   ]
  },
  {
   "cell_type": "code",
   "execution_count": 6,
   "metadata": {},
   "outputs": [
    {
     "data": {
      "text/plain": [
       "[20]"
      ]
     },
     "execution_count": 6,
     "metadata": {},
     "output_type": "execute_result"
    }
   ],
   "source": [
    "x = 0.5\n",
    "simulate(True, 20, 0, 0, lam, k, x, [])"
   ]
  },
  {
   "cell_type": "code",
   "execution_count": 7,
   "metadata": {},
   "outputs": [
    {
     "data": {
      "text/plain": [
       "[31.49802624737183, 20]"
      ]
     },
     "execution_count": 7,
     "metadata": {},
     "output_type": "execute_result"
    }
   ],
   "source": [
    "simulate(False, 20, 0, 0, lam, k, x, [])"
   ]
  },
  {
   "cell_type": "code",
   "execution_count": 8,
   "metadata": {},
   "outputs": [
    {
     "data": {
      "text/plain": [
       "[31.49802624737183, 50.0, 40]"
      ]
     },
     "execution_count": 8,
     "metadata": {},
     "output_type": "execute_result"
    }
   ],
   "source": [
    "simulate(True, 40, 0, 0, lam, k, x, [])"
   ]
  },
  {
   "cell_type": "code",
   "execution_count": 9,
   "metadata": {},
   "outputs": [
    {
     "data": {
      "text/plain": [
       "[31.49802624737183, 40]"
      ]
     },
     "execution_count": 9,
     "metadata": {},
     "output_type": "execute_result"
    }
   ],
   "source": [
    "simulate(False, 40, 0, 0, lam, k, x, [])"
   ]
  },
  {
   "cell_type": "code",
   "execution_count": 10,
   "metadata": {},
   "outputs": [
    {
     "data": {
      "text/plain": [
       "[31.49802624737183, 50.0, 60]"
      ]
     },
     "execution_count": 10,
     "metadata": {},
     "output_type": "execute_result"
    }
   ],
   "source": [
    "simulate(True, 60, 0, 0, lam, k, x, [])"
   ]
  },
  {
   "cell_type": "code",
   "execution_count": 11,
   "metadata": {},
   "outputs": [
    {
     "data": {
      "text/plain": [
       "[31.49802624737183, 50.0, 65.51853485522241, 60]"
      ]
     },
     "execution_count": 11,
     "metadata": {},
     "output_type": "execute_result"
    }
   ],
   "source": [
    "simulate(False, 60, 0, 0, lam, k, x, [])"
   ]
  },
  {
   "cell_type": "code",
   "execution_count": 12,
   "metadata": {},
   "outputs": [
    {
     "data": {
      "text/plain": [
       "[31.49802624737183,\n",
       " 50.0,\n",
       " 65.51853485522241,\n",
       " 79.37005259840997,\n",
       " 92.10078746600966,\n",
       " 104.00419115259518,\n",
       " 115.26090730146115,\n",
       " 125.9921049894873,\n",
       " 120]"
      ]
     },
     "execution_count": 12,
     "metadata": {},
     "output_type": "execute_result"
    }
   ],
   "source": [
    "simulate(True, 120, 0, 0, lam, k, x, [])"
   ]
  },
  {
   "cell_type": "code",
   "execution_count": 13,
   "metadata": {},
   "outputs": [
    {
     "data": {
      "text/plain": [
       "[31.49802624737183,\n",
       " 50.0,\n",
       " 65.51853485522241,\n",
       " 79.37005259840997,\n",
       " 92.10078746600966,\n",
       " 104.00419115259518,\n",
       " 115.26090730146115,\n",
       " 120]"
      ]
     },
     "execution_count": 13,
     "metadata": {},
     "output_type": "execute_result"
    }
   ],
   "source": [
    "simulate(False, 120, 0, 0, lam, k, x, [])"
   ]
  },
  {
   "cell_type": "markdown",
   "metadata": {},
   "source": [
    "Let's get the test data from Chris."
   ]
  },
  {
   "cell_type": "code",
   "execution_count": 14,
   "metadata": {},
   "outputs": [],
   "source": [
    "import os\n",
    "\n",
    "if not os.path.exists('shower_problem_tau_samples.csv'):\n",
    "    !wget https://gist.github.com/csaid/a57c4ebaa1c7b0671cdc9692638ea4c4/raw/ad1709938834d7bc88b62ff0763733502eb6a329/shower_problem_tau_samples.csv"
   ]
  },
  {
   "cell_type": "code",
   "execution_count": 15,
   "metadata": {},
   "outputs": [
    {
     "data": {
      "text/html": [
       "<div>\n",
       "<style scoped>\n",
       "    .dataframe tbody tr th:only-of-type {\n",
       "        vertical-align: middle;\n",
       "    }\n",
       "\n",
       "    .dataframe tbody tr th {\n",
       "        vertical-align: top;\n",
       "    }\n",
       "\n",
       "    .dataframe thead th {\n",
       "        text-align: right;\n",
       "    }\n",
       "</style>\n",
       "<table border=\"1\" class=\"dataframe\">\n",
       "  <thead>\n",
       "    <tr style=\"text-align: right;\">\n",
       "      <th></th>\n",
       "      <th>direction</th>\n",
       "      <th>tau</th>\n",
       "    </tr>\n",
       "  </thead>\n",
       "  <tbody>\n",
       "    <tr>\n",
       "      <th>0</th>\n",
       "      <td>1.0</td>\n",
       "      <td>44.173094</td>\n",
       "    </tr>\n",
       "    <tr>\n",
       "      <th>1</th>\n",
       "      <td>1.0</td>\n",
       "      <td>39.133131</td>\n",
       "    </tr>\n",
       "    <tr>\n",
       "      <th>2</th>\n",
       "      <td>1.0</td>\n",
       "      <td>2.229446</td>\n",
       "    </tr>\n",
       "    <tr>\n",
       "      <th>3</th>\n",
       "      <td>1.0</td>\n",
       "      <td>45.518857</td>\n",
       "    </tr>\n",
       "    <tr>\n",
       "      <th>4</th>\n",
       "      <td>1.0</td>\n",
       "      <td>32.463695</td>\n",
       "    </tr>\n",
       "  </tbody>\n",
       "</table>\n",
       "</div>"
      ],
      "text/plain": [
       "   direction        tau\n",
       "0        1.0  44.173094\n",
       "1        1.0  39.133131\n",
       "2        1.0   2.229446\n",
       "3        1.0  45.518857\n",
       "4        1.0  32.463695"
      ]
     },
     "execution_count": 15,
     "metadata": {},
     "output_type": "execute_result"
    }
   ],
   "source": [
    "import pandas as pd\n",
    "\n",
    "test_set = pd.read_csv('shower_problem_tau_samples.csv')\n",
    "test_set.head()"
   ]
  },
  {
   "cell_type": "code",
   "execution_count": 16,
   "metadata": {},
   "outputs": [
    {
     "data": {
      "text/html": [
       "<div>\n",
       "<style scoped>\n",
       "    .dataframe tbody tr th:only-of-type {\n",
       "        vertical-align: middle;\n",
       "    }\n",
       "\n",
       "    .dataframe tbody tr th {\n",
       "        vertical-align: top;\n",
       "    }\n",
       "\n",
       "    .dataframe thead th {\n",
       "        text-align: right;\n",
       "    }\n",
       "</style>\n",
       "<table border=\"1\" class=\"dataframe\">\n",
       "  <thead>\n",
       "    <tr style=\"text-align: right;\">\n",
       "      <th></th>\n",
       "      <th>direction</th>\n",
       "      <th>tau</th>\n",
       "    </tr>\n",
       "  </thead>\n",
       "  <tbody>\n",
       "    <tr>\n",
       "      <th>count</th>\n",
       "      <td>20000.000000</td>\n",
       "      <td>20000.000000</td>\n",
       "    </tr>\n",
       "    <tr>\n",
       "      <th>mean</th>\n",
       "      <td>0.503050</td>\n",
       "      <td>45.159284</td>\n",
       "    </tr>\n",
       "    <tr>\n",
       "      <th>std</th>\n",
       "      <td>0.500003</td>\n",
       "      <td>30.668965</td>\n",
       "    </tr>\n",
       "    <tr>\n",
       "      <th>min</th>\n",
       "      <td>0.000000</td>\n",
       "      <td>0.030405</td>\n",
       "    </tr>\n",
       "    <tr>\n",
       "      <th>25%</th>\n",
       "      <td>0.000000</td>\n",
       "      <td>21.942625</td>\n",
       "    </tr>\n",
       "    <tr>\n",
       "      <th>50%</th>\n",
       "      <td>1.000000</td>\n",
       "      <td>39.133399</td>\n",
       "    </tr>\n",
       "    <tr>\n",
       "      <th>75%</th>\n",
       "      <td>1.000000</td>\n",
       "      <td>62.153967</td>\n",
       "    </tr>\n",
       "    <tr>\n",
       "      <th>max</th>\n",
       "      <td>1.000000</td>\n",
       "      <td>289.412577</td>\n",
       "    </tr>\n",
       "  </tbody>\n",
       "</table>\n",
       "</div>"
      ],
      "text/plain": [
       "          direction           tau\n",
       "count  20000.000000  20000.000000\n",
       "mean       0.503050     45.159284\n",
       "std        0.500003     30.668965\n",
       "min        0.000000      0.030405\n",
       "25%        0.000000     21.942625\n",
       "50%        1.000000     39.133399\n",
       "75%        1.000000     62.153967\n",
       "max        1.000000    289.412577"
      ]
     },
     "execution_count": 16,
     "metadata": {},
     "output_type": "execute_result"
    }
   ],
   "source": [
    "test_set.describe()"
   ]
  },
  {
   "cell_type": "markdown",
   "metadata": {},
   "source": [
    "The following function uses the samples to run simulations and returns the average total time."
   ]
  },
  {
   "cell_type": "code",
   "execution_count": 17,
   "metadata": {},
   "outputs": [],
   "source": [
    "import numpy as np\n",
    "\n",
    "def run_simulations(samples, lam, k, x):\n",
    "    res = []\n",
    "    for i, (direction, tau) in samples.iterrows():\n",
    "        # print(direction, tau)\n",
    "        trace = simulate(direction, tau, 0, 0, lam, k, x, [])\n",
    "        res.append((len(trace), sum(trace)))\n",
    "        \n",
    "    return np.transpose(res)"
   ]
  },
  {
   "cell_type": "markdown",
   "metadata": {},
   "source": [
    "I'll train the algorithm with a different sample from the same distribution."
   ]
  },
  {
   "cell_type": "code",
   "execution_count": 18,
   "metadata": {},
   "outputs": [],
   "source": [
    "from scipy.stats import weibull_min\n",
    "\n",
    "train_set = test_set.copy()\n",
    "train_set['tau'] = weibull_min.rvs(k, scale=lam, size=20000)"
   ]
  },
  {
   "cell_type": "code",
   "execution_count": 19,
   "metadata": {},
   "outputs": [
    {
     "data": {
      "text/html": [
       "<div>\n",
       "<style scoped>\n",
       "    .dataframe tbody tr th:only-of-type {\n",
       "        vertical-align: middle;\n",
       "    }\n",
       "\n",
       "    .dataframe tbody tr th {\n",
       "        vertical-align: top;\n",
       "    }\n",
       "\n",
       "    .dataframe thead th {\n",
       "        text-align: right;\n",
       "    }\n",
       "</style>\n",
       "<table border=\"1\" class=\"dataframe\">\n",
       "  <thead>\n",
       "    <tr style=\"text-align: right;\">\n",
       "      <th></th>\n",
       "      <th>direction</th>\n",
       "      <th>tau</th>\n",
       "    </tr>\n",
       "  </thead>\n",
       "  <tbody>\n",
       "    <tr>\n",
       "      <th>count</th>\n",
       "      <td>20000.000000</td>\n",
       "      <td>20000.000000</td>\n",
       "    </tr>\n",
       "    <tr>\n",
       "      <th>mean</th>\n",
       "      <td>0.503050</td>\n",
       "      <td>44.557424</td>\n",
       "    </tr>\n",
       "    <tr>\n",
       "      <th>std</th>\n",
       "      <td>0.500003</td>\n",
       "      <td>30.313085</td>\n",
       "    </tr>\n",
       "    <tr>\n",
       "      <th>min</th>\n",
       "      <td>0.000000</td>\n",
       "      <td>0.066406</td>\n",
       "    </tr>\n",
       "    <tr>\n",
       "      <th>25%</th>\n",
       "      <td>0.000000</td>\n",
       "      <td>21.373571</td>\n",
       "    </tr>\n",
       "    <tr>\n",
       "      <th>50%</th>\n",
       "      <td>1.000000</td>\n",
       "      <td>38.453915</td>\n",
       "    </tr>\n",
       "    <tr>\n",
       "      <th>75%</th>\n",
       "      <td>1.000000</td>\n",
       "      <td>61.319590</td>\n",
       "    </tr>\n",
       "    <tr>\n",
       "      <th>max</th>\n",
       "      <td>1.000000</td>\n",
       "      <td>214.395690</td>\n",
       "    </tr>\n",
       "  </tbody>\n",
       "</table>\n",
       "</div>"
      ],
      "text/plain": [
       "          direction           tau\n",
       "count  20000.000000  20000.000000\n",
       "mean       0.503050     44.557424\n",
       "std        0.500003     30.313085\n",
       "min        0.000000      0.066406\n",
       "25%        0.000000     21.373571\n",
       "50%        1.000000     38.453915\n",
       "75%        1.000000     61.319590\n",
       "max        1.000000    214.395690"
      ]
     },
     "execution_count": 19,
     "metadata": {},
     "output_type": "execute_result"
    }
   ],
   "source": [
    "train_set.describe()"
   ]
  },
  {
   "cell_type": "markdown",
   "metadata": {},
   "source": [
    "Here's a test run with `x=1`."
   ]
  },
  {
   "cell_type": "code",
   "execution_count": 20,
   "metadata": {},
   "outputs": [],
   "source": [
    "x = 1\n",
    "lengths, totals = run_simulations(train_set, lam, k, x)"
   ]
  },
  {
   "cell_type": "markdown",
   "metadata": {},
   "source": [
    "On average it takes about two tries and 116 seconds."
   ]
  },
  {
   "cell_type": "code",
   "execution_count": 21,
   "metadata": {},
   "outputs": [
    {
     "data": {
      "text/plain": [
       "2.06775"
      ]
     },
     "execution_count": 21,
     "metadata": {},
     "output_type": "execute_result"
    }
   ],
   "source": [
    "lengths.mean()"
   ]
  },
  {
   "cell_type": "code",
   "execution_count": 22,
   "metadata": {},
   "outputs": [
    {
     "data": {
      "text/plain": [
       "114.42226252245712"
      ]
     },
     "execution_count": 22,
     "metadata": {},
     "output_type": "execute_result"
    }
   ],
   "source": [
    "totals.mean()"
   ]
  },
  {
   "cell_type": "markdown",
   "metadata": {},
   "source": [
    "## Optimization\n",
    "\n",
    "Now let's see how the average duration varies as we sweep through a range of values for the threshold probability, `r`:"
   ]
  },
  {
   "cell_type": "code",
   "execution_count": 23,
   "metadata": {},
   "outputs": [
    {
     "data": {
      "text/plain": [
       "array([1.        , 1.10526316, 1.21052632, 1.31578947, 1.42105263,\n",
       "       1.52631579, 1.63157895, 1.73684211, 1.84210526, 1.94736842,\n",
       "       2.05263158, 2.15789474, 2.26315789, 2.36842105, 2.47368421,\n",
       "       2.57894737, 2.68421053, 2.78947368, 2.89473684, 3.        ])"
      ]
     },
     "execution_count": 23,
     "metadata": {},
     "output_type": "execute_result"
    }
   ],
   "source": [
    "xs = np.linspace(1, 3, 20)\n",
    "xs"
   ]
  },
  {
   "cell_type": "code",
   "execution_count": 24,
   "metadata": {},
   "outputs": [],
   "source": [
    "res = []\n",
    "for x in xs:\n",
    "    lengths, totals = run_simulations(train_set, lam, k, x)\n",
    "    res.append((x, totals.mean()))"
   ]
  },
  {
   "cell_type": "code",
   "execution_count": 25,
   "metadata": {
    "tags": [
     "hide-cell"
    ]
   },
   "outputs": [],
   "source": [
    "from statsmodels.nonparametric.smoothers_lowess import lowess\n",
    "\n",
    "def make_lowess(series):\n",
    "    \"\"\"Use LOWESS to compute a smooth line.\n",
    "\n",
    "    series: pd.Series\n",
    "\n",
    "    returns: pd.Series\n",
    "    \"\"\"\n",
    "    endog = series.values\n",
    "    exog = series.index.values\n",
    "\n",
    "    smooth = lowess(endog, exog)\n",
    "    index, data = np.transpose(smooth)\n",
    "\n",
    "    return pd.Series(data, index=index)"
   ]
  },
  {
   "cell_type": "code",
   "execution_count": 26,
   "metadata": {
    "tags": [
     "hide-cell"
    ]
   },
   "outputs": [],
   "source": [
    "def plot_series_lowess(series, color):\n",
    "    \"\"\"Plots a series of data points and a smooth line.\n",
    "\n",
    "    series: pd.Series\n",
    "    color: string or tuple\n",
    "    \"\"\"\n",
    "    series.plot(lw=0, marker='o', color=color, alpha=0.5)\n",
    "    smooth = make_lowess(series)\n",
    "    smooth.plot(label='_', color=color)"
   ]
  },
  {
   "cell_type": "markdown",
   "metadata": {},
   "source": [
    "Here's what the results look like."
   ]
  },
  {
   "cell_type": "code",
   "execution_count": 27,
   "metadata": {},
   "outputs": [
    {
     "data": {
      "image/png": "[encoded data removed]",
      "text/plain": [
       "<Figure size 432x288 with 1 Axes>"
      ]
     },
     "metadata": {
      "needs_background": "light"
     },
     "output_type": "display_data"
    }
   ],
   "source": [
    "import matplotlib.pyplot as plt\n",
    "\n",
    "rs, ts = np.transpose(res)\n",
    "series = pd.Series(ts, rs)\n",
    "\n",
    "plot_series_lowess(series, 'C1')\n",
    "\n",
    "plt.xlabel(\"Threshold log odds where you flip (x)\")\n",
    "plt.ylabel(\"Average total duration (seconds)\");"
   ]
  },
  {
   "cell_type": "markdown",
   "metadata": {},
   "source": [
    "It looks like the optimal value of `x` is about 2."
   ]
  },
  {
   "cell_type": "markdown",
   "metadata": {},
   "source": [
    "## Testing\n",
    "\n",
    "Now let's run the simulations with the optimal value of `x` and see what the average total time is for the test data."
   ]
  },
  {
   "cell_type": "code",
   "execution_count": 28,
   "metadata": {},
   "outputs": [],
   "source": [
    "lengths, totals = run_simulations(test_set, lam, k, 2)"
   ]
  },
  {
   "cell_type": "markdown",
   "metadata": {},
   "source": [
    "The average total time is about 102 seconds, so it looks like this strategy is better than the current leader (assuming I haven't made a mistake in the simulation)."
   ]
  },
  {
   "cell_type": "code",
   "execution_count": 29,
   "metadata": {},
   "outputs": [
    {
     "data": {
      "text/plain": [
       "101.8357533856479"
      ]
     },
     "execution_count": 29,
     "metadata": {},
     "output_type": "execute_result"
    }
   ],
   "source": [
    "totals.mean()"
   ]
  },
  {
   "cell_type": "markdown",
   "metadata": {},
   "source": [
    "Here's the distribution of total time, represented as a CDF."
   ]
  },
  {
   "cell_type": "code",
   "execution_count": 30,
   "metadata": {
    "tags": [
     "hide-cell"
    ]
   },
   "outputs": [],
   "source": [
    "try:\n",
    "    import empiricaldist\n",
    "except ImportError:\n",
    "    !pip install empiricaldist"
   ]
  },
  {
   "cell_type": "code",
   "execution_count": 31,
   "metadata": {},
   "outputs": [
    {
     "data": {
      "image/png": "[encoded data removed]",
      "text/plain": [
       "<Figure size 432x288 with 1 Axes>"
      ]
     },
     "metadata": {
      "needs_background": "light"
     },
     "output_type": "display_data"
    }
   ],
   "source": [
    "from empiricaldist import Cdf\n",
    "\n",
    "Cdf.from_seq(totals).plot(lw=2)\n",
    "\n",
    "plt.xlabel('Total time to connect (seconds)')\n",
    "plt.ylabel('CDF')\n",
    "plt.title('Distribution of total time to connect');"
   ]
  },
  {
   "cell_type": "code",
   "execution_count": 32,
   "metadata": {},
   "outputs": [
    {
     "data": {
      "text/plain": [
       "177.15320163579483"
      ]
     },
     "execution_count": 32,
     "metadata": {},
     "output_type": "execute_result"
    }
   ],
   "source": [
    "np.percentile(totals, 90)"
   ]
  },
  {
   "cell_type": "markdown",
   "metadata": {},
   "source": [
    "And here's the distribution of flips."
   ]
  },
  {
   "cell_type": "code",
   "execution_count": 33,
   "metadata": {},
   "outputs": [
    {
     "data": {
      "image/png": "[encoded data removed]",
      "text/plain": [
       "<Figure size 432x288 with 1 Axes>"
      ]
     },
     "metadata": {
      "needs_background": "light"
     },
     "output_type": "display_data"
    }
   ],
   "source": [
    "from empiricaldist import Pmf\n",
    "\n",
    "pmf1 = Pmf.from_seq(lengths-1)\n",
    "pmf1.bar(alpha=0.7)\n",
    "\n",
    "plt.xlabel('How many times you have to flip')\n",
    "plt.ylabel('PMF')\n",
    "plt.title('Distribution of number of flips');"
   ]
  },
  {
   "cell_type": "markdown",
   "metadata": {},
   "source": [
    "Fortunately, we don't have to flip more than once very often."
   ]
  },
  {
   "cell_type": "markdown",
   "metadata": {},
   "source": [
    "*If you like this article, you might also like the second edition of [*Think Bayes*](https://greenteapress.com/wp/think-bayes/).*\n",
    "\n",
    "Copyright 2021 Allen Downey\n",
    "\n",
    "Code: [MIT License](https://opensource.org/licenses/MIT)\n",
    "\n",
    "Text: [Attribution-NonCommercial-ShareAlike 4.0 International (CC BY-NC-SA 4.0)](https://creativecommons.org/licenses/by-nc-sa/4.0/)"
   ]
  },
  {
   "cell_type": "code",
   "execution_count": null,
   "metadata": {},
   "outputs": [],
   "source": []
  }
 ],
 "metadata": {
  "celltoolbar": "Tags",
  "kernelspec": {
   "display_name": "Python 3",
   "language": "python",
   "name": "python3"
  },
  "language_info": {
   "codemirror_mode": {
    "name": "ipython",
    "version": 3
   },
   "file_extension": ".py",
   "mimetype": "text/x-python",
   "name": "python",
   "nbconvert_exporter": "python",
   "pygments_lexer": "ipython3",
   "version": "3.8.8"
  }
 },
 "nbformat": 4,
 "nbformat_minor": 4
}
