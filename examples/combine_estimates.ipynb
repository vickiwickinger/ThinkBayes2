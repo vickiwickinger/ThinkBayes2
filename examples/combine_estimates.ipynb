{
 "cells": [
  {
   "cell_type": "markdown",
   "metadata": {},
   "source": [
    "# Think Bayes\n",
    "\n",
    "Second Edition\n",
    "\n",
    "Copyright 2020 Allen B. Downey\n",
    "\n",
    "License: [Attribution-NonCommercial-ShareAlike 4.0 International (CC BY-NC-SA 4.0)](https://creativecommons.org/licenses/by-nc-sa/4.0/)"
   ]
  },
  {
   "cell_type": "code",
   "execution_count": 1,
   "metadata": {},
   "outputs": [],
   "source": [
    "# If we're running on Colab, install empiricaldist\n",
    "# https://pypi.org/project/empiricaldist/\n",
    "\n",
    "import sys\n",
    "IN_COLAB = 'google.colab' in sys.modules\n",
    "\n",
    "if IN_COLAB:\n",
    "    !pip install empiricaldist"
   ]
  },
  {
   "cell_type": "code",
   "execution_count": 2,
   "metadata": {},
   "outputs": [],
   "source": [
    "import numpy as np\n",
    "import pandas as pd\n",
    "import matplotlib.pyplot as plt\n",
    "\n",
    "from empiricaldist import Pmf"
   ]
  },
  {
   "cell_type": "markdown",
   "metadata": {},
   "source": [
    "## The Decision-Making Box\n",
    "\n",
    "One day Alice tells her friend, Bob, \"I bought a random decision-making box.  Every time you press this button, it says 'yes' or 'no'.  I've tried it a few times, and I think it says 'yes' 90% of the time.\"\n",
    "\n",
    "Bob says he has some important decisions to make and asks if he can borrow the box.  The next day, he returns the box to Alice and says, \"I used the box several times, and I also think it says 'yes' 90% of the time.\"\n",
    "\n",
    "Alice says, \"It sounds like we agree, but just to make sure, we should compare our predictions.  Suppose I press the button twice; what do you think is the probability it says 'yes' both times?\"\n",
    "\n",
    "Bob does some calculations and reports the predictive probability 81.56%.\n",
    "\n",
    "Alice says, \"That's interesting.  I got a slightly different result, 81.79%.  So maybe we don't agree after all.\""
   ]
  },
  {
   "cell_type": "markdown",
   "metadata": {},
   "source": [
    "Bob says, \"Well let's see what happens if we combine our data.  I can tell you how many times I pressed the button and how many times it said 'yes'.\"\n",
    "\n",
    "Alice says, \"That's ok, I don't actually need your data; it's enough if you tell me what prior distribution you used.\"\n",
    "\n",
    "Bob tells her he used a Jeffreys prior.\n",
    "\n",
    "Alice does some calculations and says, \"Ok, I've updated my beliefs to take into account your data as well as mine.  Now I think the probability of 'yes' is 91.67%.\""
   ]
  },
  {
   "cell_type": "markdown",
   "metadata": {},
   "source": [
    "Bob says, \"That's interesting.  Based on your data, you thought the probability was 90%, and based on my data, I thought it was 90%, but when we combine the data, we get a different result.  Tell me what data you saw, and let me see what I get.\"\n",
    "\n",
    "Alice tells him she pressed the button 8 times and it always said 'yes'.\n",
    "\n",
    "\"So,\" says Bob, \"I guess you used a uniform prior.\"\n",
    "\n",
    "Bob does some calculations and reports, \"Taking into account all of the data, I think the probability of 'yes' is 93.45%.\""
   ]
  },
  {
   "cell_type": "markdown",
   "metadata": {},
   "source": [
    "Alice says, \"So when we started, we had seen different data, but we came to the same conclusion.\"\n",
    "\n",
    "\"Sort of,\" says Bob, \"we had the same posterior mean, but our posterior distributions were different; that's why we made different predictions for pressing the button twice.\" \n",
    "\n",
    "Alice says, \"And now we're using the same data, but we have different posterior means.  Which makes sense, because we started with different priors.\"\n",
    "\n",
    "\"That's true,\" says Bob, \"but if we collect enough data, eventually our posterior distributions will converge, at least approximately.\"\n",
    "\n",
    "\"Well that's good,\" says Alice.  \"Anyway, how did those decisions work out yesterday?\"\n",
    "\n",
    "\"Mostly bad,\" says Bob.  \"It turns out that saying 'yes' 93% of the time is a terrible way to make decisions.\""
   ]
  },
  {
   "cell_type": "markdown",
   "metadata": {},
   "source": [
    "## Explanation\n",
    "\n",
    "Suppose Alice starts with a uniform prior, with is a beta distribution with parameters (1, 1).  She presses the button 8 times and it says 'yes' every time.  Her posterior distribution is a beta distribution with parameters (9, 1); the posterior mean is 90%.\n",
    "\n",
    "For this example I'm using distributions we can compute analytically, but the entire conversation works for arbitrary distributions."
   ]
  },
  {
   "cell_type": "code",
   "execution_count": 3,
   "metadata": {},
   "outputs": [
    {
     "data": {
      "text/plain": [
       "0.9"
      ]
     },
     "execution_count": 3,
     "metadata": {},
     "output_type": "execute_result"
    }
   ],
   "source": [
    "from scipy.stats import beta\n",
    "\n",
    "yes = 8\n",
    "no = 0\n",
    "posterior_beta_alice = beta(yes+1, no+1)\n",
    "posterior_beta_alice.mean()"
   ]
  },
  {
   "cell_type": "markdown",
   "metadata": {},
   "source": [
    "Bob never said so, but he pressed the button 13 times and got 'yes' 12 times.  He used a Jeffreys prior, with is a beta distribution with parameters (1/2, 1/2), so his posterior is a beta distribution with parameters (13.5, 1.5), and his posterior mean is 90%."
   ]
  },
  {
   "cell_type": "code",
   "execution_count": 4,
   "metadata": {},
   "outputs": [
    {
     "data": {
      "text/plain": [
       "0.9"
      ]
     },
     "execution_count": 4,
     "metadata": {},
     "output_type": "execute_result"
    }
   ],
   "source": [
    "yes = 13\n",
    "no = 1\n",
    "posterior_beta_bob = beta(yes+1/2, no+1/2)\n",
    "posterior_beta_bob.mean()"
   ]
  },
  {
   "cell_type": "markdown",
   "metadata": {},
   "source": [
    "Now, if we press the button twice, what's the chance of getting 'yes' both times?  We could compute it analytically, but it will be convenient to approximate these distributions with a discrete PMF.\n",
    "\n",
    "The following function takes a `beta` object that represents a beta distribution and returns a `Pmf` object that represents a discrete approximation."
   ]
  },
  {
   "cell_type": "code",
   "execution_count": 5,
   "metadata": {},
   "outputs": [],
   "source": [
    "def make_beta(dist, **options):\n",
    "    \"\"\"PMF to approximate a beta distribution.\n",
    "    \n",
    "    dist: `beta` object\n",
    "    \n",
    "    returns: Pmf\n",
    "    \"\"\"\n",
    "    qs = np.linspace(0.4, 1, 1000, endpoint=False)\n",
    "    ps = dist.pdf(qs)\n",
    "    pmf = Pmf(ps, qs)\n",
    "    pmf.normalize()\n",
    "    return pmf"
   ]
  },
  {
   "cell_type": "markdown",
   "metadata": {},
   "source": [
    "`qs` is the range of possible probabilities, from 0.4 to (almost) 1.0.  I omitted the end point, 1.0, because the Jeffreys prior goes to infinity at 0 and 1.\n",
    "\n",
    "Here's what the posterior distributions look like for Alice and Bob."
   ]
  },
  {
   "cell_type": "code",
   "execution_count": 6,
   "metadata": {},
   "outputs": [
    {
     "data": {
      "image/png": "[encoded data removed]",
      "text/plain": [
       "<Figure size 432x288 with 1 Axes>"
      ]
     },
     "metadata": {
      "needs_background": "light"
     },
     "output_type": "display_data"
    }
   ],
   "source": [
    "posterior_pmf_alice = make_beta(posterior_beta_alice)\n",
    "posterior_pmf_alice.plot(label='Alice')\n",
    "\n",
    "posterior_pmf_bob = make_beta(posterior_beta_bob)\n",
    "posterior_pmf_bob.plot(label='Bob')\n",
    "\n",
    "plt.xlabel('Probablity of yes')\n",
    "plt.ylabel('PDF')\n",
    "plt.title(\"Posterior distributions for Alice and Bob\")\n",
    "plt.legend();"
   ]
  },
  {
   "cell_type": "markdown",
   "metadata": {},
   "source": [
    "Even though they have the same posterior mean, they are substantially different, especially for probabilities greater than 90%.\n",
    "\n",
    "Just to check, here are the posterior means for the discrete PMFs."
   ]
  },
  {
   "cell_type": "code",
   "execution_count": 7,
   "metadata": {},
   "outputs": [
    {
     "data": {
      "text/plain": [
       "0.8998707783503778"
      ]
     },
     "execution_count": 7,
     "metadata": {},
     "output_type": "execute_result"
    }
   ],
   "source": [
    "mean_alice = posterior_pmf_alice.mean()\n",
    "mean_alice"
   ]
  },
  {
   "cell_type": "code",
   "execution_count": 8,
   "metadata": {},
   "outputs": [
    {
     "data": {
      "text/plain": [
       "0.8999899487704509"
      ]
     },
     "execution_count": 8,
     "metadata": {},
     "output_type": "execute_result"
    }
   ],
   "source": [
    "mean_bob = posterior_pmf_bob.mean()\n",
    "mean_bob"
   ]
  },
  {
   "cell_type": "markdown",
   "metadata": {},
   "source": [
    "They are close to 90%.\n",
    "\n",
    "Now, when Bob offers to share his data, Alice says it's not necessary as long as she knows what prior he used.\n",
    "\n",
    "Since he used a beta prior, she knows his posterior is also a beta distribution.  She knows the mean is 90%; she also knows that the predictive probability for getting 'yes' twice is 81.56%.  And that's enough to figure out Bob's posterior distribution.\n",
    "\n",
    "The key is to realize that the predictive probability is the second moment of the posterior distribution:\n",
    "\n",
    "$ \\sum p_i q_i^2 $\n",
    "\n",
    "where each $q_i$ is a quantity in the posterior distribution (possible probabilities of 'yes') and each $p_i$ is the corresponding probability.\n",
    "\n",
    "This summation is the expectation of $q^2$, written $E[q^2]$, which is related to the variance of the posterior distribution:\n",
    "\n",
    "$ \\mathrm{var}(q) = E[q^2] - E[q]^2 $\n",
    "\n",
    "where $E[q]$ is the mean of the posterior distribution.\n",
    "\n",
    "To show that's true, here's Bob's predictive probability:"
   ]
  },
  {
   "cell_type": "code",
   "execution_count": 9,
   "metadata": {},
   "outputs": [
    {
     "data": {
      "text/plain": [
       "0.8156022529251691"
      ]
     },
     "execution_count": 9,
     "metadata": {},
     "output_type": "execute_result"
    }
   ],
   "source": [
    "pred_bob = np.sum(posterior_pmf_bob.ps * posterior_pmf_bob.qs**2)\n",
    "pred_bob"
   ]
  },
  {
   "cell_type": "markdown",
   "metadata": {},
   "source": [
    "Here's the variance Alice computes:"
   ]
  },
  {
   "cell_type": "code",
   "execution_count": 10,
   "metadata": {},
   "outputs": [
    {
     "data": {
      "text/plain": [
       "0.005620345037330221"
      ]
     },
     "execution_count": 10,
     "metadata": {},
     "output_type": "execute_result"
    }
   ],
   "source": [
    "pred_bob - mean_bob**2"
   ]
  },
  {
   "cell_type": "markdown",
   "metadata": {},
   "source": [
    "And here's the actual variance of Bob's posterior distribution."
   ]
  },
  {
   "cell_type": "code",
   "execution_count": 11,
   "metadata": {},
   "outputs": [
    {
     "data": {
      "text/plain": [
       "0.005620345037330041"
      ]
     },
     "execution_count": 11,
     "metadata": {},
     "output_type": "execute_result"
    }
   ],
   "source": [
    "posterior_pmf_bob.var()"
   ]
  },
  {
   "cell_type": "markdown",
   "metadata": {},
   "source": [
    "Pretty close.\n",
    "\n",
    "Now, knowing the mean and variance, Alice can do some algebra to figure out the parameters of Bob's distribution.  So let's assume she knows `posterior_pmf_bob`.\n",
    "\n",
    "Bob told her he used a Jeffrey's prior, so Alice can make a `Pmf` to approximate it."
   ]
  },
  {
   "cell_type": "code",
   "execution_count": 12,
   "metadata": {},
   "outputs": [
    {
     "data": {
      "image/png": "[encoded data removed]",
      "text/plain": [
       "<Figure size 432x288 with 1 Axes>"
      ]
     },
     "metadata": {
      "needs_background": "light"
     },
     "output_type": "display_data"
    }
   ],
   "source": [
    "prior_beta_bob = beta(0.5, 0.5)\n",
    "prior_pmf_bob = make_beta(prior_beta_bob)\n",
    "prior_pmf_bob.plot(color='C1')\n",
    "plt.xlabel('Probability of yes')\n",
    "plt.ylabel('PDF')\n",
    "plt.title('Jeffreys prior');"
   ]
  },
  {
   "cell_type": "markdown",
   "metadata": {},
   "source": [
    "At this point, Alice knows Bob's prior and posterior distributions, so she can use Bayes's Theorem to compute the likelihood of the data."
   ]
  },
  {
   "cell_type": "code",
   "execution_count": 13,
   "metadata": {},
   "outputs": [],
   "source": [
    "likelihood_bob = posterior_pmf_bob / prior_pmf_bob"
   ]
  },
  {
   "cell_type": "markdown",
   "metadata": {},
   "source": [
    "Alice still hasn't seen Bob's data, but she doesn't have to; now that she knows the likelihood of Bob's data, she can use it to do a Bayesian update in the usual way:"
   ]
  },
  {
   "cell_type": "code",
   "execution_count": 14,
   "metadata": {},
   "outputs": [
    {
     "data": {
      "text/plain": [
       "1.7823064349467608"
      ]
     },
     "execution_count": 14,
     "metadata": {},
     "output_type": "execute_result"
    }
   ],
   "source": [
    "posterior2_pmf_alice = posterior_pmf_alice * likelihood_bob\n",
    "posterior2_pmf_alice.normalize()"
   ]
  },
  {
   "cell_type": "markdown",
   "metadata": {},
   "source": [
    "The result is a posterior that combines Alice's prior with data from both Alice and Bob.  And here's the posterior mean."
   ]
  },
  {
   "cell_type": "code",
   "execution_count": 15,
   "metadata": {},
   "outputs": [
    {
     "data": {
      "text/plain": [
       "0.9166654148151903"
      ]
     },
     "execution_count": 15,
     "metadata": {},
     "output_type": "execute_result"
    }
   ],
   "source": [
    "posterior2_pmf_alice.mean()"
   ]
  },
  {
   "cell_type": "markdown",
   "metadata": {},
   "source": [
    "To check it, we can compute her posterior mean if she had used all of the data."
   ]
  },
  {
   "cell_type": "code",
   "execution_count": 16,
   "metadata": {},
   "outputs": [
    {
     "data": {
      "text/plain": [
       "0.9166666666666666"
      ]
     },
     "execution_count": 16,
     "metadata": {},
     "output_type": "execute_result"
    }
   ],
   "source": [
    "yes = 21\n",
    "no = 1\n",
    "posterior2_beta_alice = beta(yes+1, no+1)\n",
    "posterior2_beta_alice.mean()"
   ]
  },
  {
   "cell_type": "markdown",
   "metadata": {},
   "source": [
    "Pretty close.\n",
    "\n",
    "Now, Alice tells Bob she pressed the button 8 times and got 'yes' every time.\n",
    "\n",
    "That's enough for Bob to figure out what prior she used.  He knows the mean and second moment of her posterior distribution, which is enough to approximate it with a beta distribution.\n",
    "\n",
    "And since he knows what data she saw, he can figure out the likelihood she applied.  Here it is:"
   ]
  },
  {
   "cell_type": "code",
   "execution_count": 17,
   "metadata": {},
   "outputs": [],
   "source": [
    "from scipy.stats import binom\n",
    "\n",
    "ps = posterior_pmf_alice.qs\n",
    "likelihood_alice = binom.pmf(8, 8, ps)"
   ]
  },
  {
   "cell_type": "code",
   "execution_count": 18,
   "metadata": {},
   "outputs": [
    {
     "data": {
      "image/png": "[encoded data removed]",
      "text/plain": [
       "<Figure size 432x288 with 1 Axes>"
      ]
     },
     "metadata": {
      "needs_background": "light"
     },
     "output_type": "display_data"
    }
   ],
   "source": [
    "plt.plot(ps, likelihood_alice)\n",
    "plt.xlabel('Probablity of yes')\n",
    "plt.ylabel('Likelihood')\n",
    "plt.title(\"Likelihood based on Alice's data\");"
   ]
  },
  {
   "cell_type": "markdown",
   "metadata": {},
   "source": [
    "Now Bob can compute Alice's prior distribution."
   ]
  },
  {
   "cell_type": "code",
   "execution_count": 19,
   "metadata": {},
   "outputs": [
    {
     "data": {
      "text/plain": [
       "5.416021773464143"
      ]
     },
     "execution_count": 19,
     "metadata": {},
     "output_type": "execute_result"
    }
   ],
   "source": [
    "implied_prior = posterior_pmf_alice / likelihood_alice\n",
    "implied_prior.normalize()"
   ]
  },
  {
   "cell_type": "markdown",
   "metadata": {},
   "source": [
    "And it sure looks uniform."
   ]
  },
  {
   "cell_type": "code",
   "execution_count": 20,
   "metadata": {},
   "outputs": [
    {
     "data": {
      "image/png": "[encoded data removed]",
      "text/plain": [
       "<Figure size 432x288 with 1 Axes>"
      ]
     },
     "metadata": {
      "needs_background": "light"
     },
     "output_type": "display_data"
    }
   ],
   "source": [
    "implied_prior.plot()\n",
    "plt.ylim([0, 0.002])\n",
    "\n",
    "plt.xlabel('Probablity of yes')\n",
    "plt.ylabel('PDF')\n",
    "plt.title(\"Prior implied by Alice's data and posterior distribution\");"
   ]
  },
  {
   "cell_type": "markdown",
   "metadata": {},
   "source": [
    "Finally, Bob can update his posterior distribution with the likelihood of Alice's data."
   ]
  },
  {
   "cell_type": "code",
   "execution_count": 21,
   "metadata": {},
   "outputs": [
    {
     "data": {
      "text/plain": [
       "0.9347598645600801"
      ]
     },
     "execution_count": 21,
     "metadata": {},
     "output_type": "execute_result"
    }
   ],
   "source": [
    "posterior2_pmf_bob = posterior_pmf_bob * likelihood_alice\n",
    "posterior2_pmf_bob.normalize()\n",
    "posterior2_pmf_bob.mean()"
   ]
  },
  {
   "cell_type": "markdown",
   "metadata": {},
   "source": [
    "The result takes into account Bob's prior, Bob's data, and Alice's data, which we can confirm by computing the posterior distribution with a Jeffreys prior and all of the data."
   ]
  },
  {
   "cell_type": "code",
   "execution_count": 22,
   "metadata": {},
   "outputs": [
    {
     "data": {
      "text/plain": [
       "0.9347826086956522"
      ]
     },
     "execution_count": 22,
     "metadata": {},
     "output_type": "execute_result"
    }
   ],
   "source": [
    "yes = 21\n",
    "no = 1\n",
    "posterior2_beta_bob = beta(yes+1/2, no+1/2)\n",
    "posterior2_beta_bob.mean()"
   ]
  },
  {
   "cell_type": "markdown",
   "metadata": {},
   "source": [
    "Pretty close."
   ]
  },
  {
   "cell_type": "markdown",
   "metadata": {},
   "source": [
    "## Summary\n",
    "\n",
    "* If two people have different priors OR they see different data, they will generally have different posterior distributions.\n",
    "\n",
    "* If two posterior distributions have the same mean, some of their predictions will be the same, but many others will not.\n",
    "\n",
    "* If you are given summary statistics from a posterior distribution, you might be able to figure out the rest of the distribution, depending on what other information you have. For example, if you know the posterior is a two-parameter beta distribution (or is well-modeled by one) you can recover it from the mean and second moment, or the mean and a credible interval, or almost any other pair of statistics.\n",
    "\n",
    "* If someone has done a Bayesian update using data you don't have access to, you might be able to \"back out\" their likelihood function by dividing their posterior distribution by the prior.\n",
    "\n",
    "* If you are given a posterior distribution and the data used to compute it, you can back out the prior by dividing the posterior by the likelihood of the data (unless the prior contains values with zero likelihood).\n",
    "\n",
    "* If you are given summary statistics from two posterior distributions, you might be able to combine them.  In general, you need enough information to recover both posterior distributions and at least one prior."
   ]
  },
  {
   "cell_type": "code",
   "execution_count": null,
   "metadata": {},
   "outputs": [],
   "source": []
  }
 ],
 "metadata": {
  "kernelspec": {
   "display_name": "Python 3",
   "language": "python",
   "name": "python3"
  },
  "language_info": {
   "codemirror_mode": {
    "name": "ipython",
    "version": 3
   },
   "file_extension": ".py",
   "mimetype": "text/x-python",
   "name": "python",
   "nbconvert_exporter": "python",
   "pygments_lexer": "ipython3",
   "version": "3.7.7"
  }
 },
 "nbformat": 4,
 "nbformat_minor": 4
}
