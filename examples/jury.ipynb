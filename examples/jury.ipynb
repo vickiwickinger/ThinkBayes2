{
 "cells": [
  {
   "cell_type": "markdown",
   "metadata": {},
   "source": [
    "# Bayesian analysis of the Curtis Flowers trials\n",
    "\n",
    "Copyright 2020 Allen B. Downey\n",
    "\n",
    "License: [Attribution-NonCommercial-ShareAlike 4.0 International (CC BY-NC-SA 4.0)](https://creativecommons.org/licenses/by-nc-sa/4.0/)"
   ]
  },
  {
   "cell_type": "code",
   "execution_count": 1,
   "metadata": {},
   "outputs": [],
   "source": [
    "# If we're running on Colab, install empiricaldist\n",
    "# https://pypi.org/project/empiricaldist/\n",
    "\n",
    "import sys\n",
    "IN_COLAB = 'google.colab' in sys.modules\n",
    "\n",
    "if IN_COLAB:\n",
    "    !pip install empiricaldist"
   ]
  },
  {
   "cell_type": "code",
   "execution_count": 2,
   "metadata": {},
   "outputs": [],
   "source": [
    "# Get utils.py\n",
    "\n",
    "import os\n",
    "\n",
    "if not os.path.exists('utils.py'):\n",
    "    !wget https://github.com/AllenDowney/ThinkBayes2/raw/master/code/soln/utils.py"
   ]
  },
  {
   "cell_type": "code",
   "execution_count": 3,
   "metadata": {},
   "outputs": [],
   "source": [
    "import numpy as np\n",
    "import pandas as pd\n",
    "import matplotlib.pyplot as plt\n",
    "\n",
    "from empiricaldist import Pmf\n",
    "from utils import decorate, savefig"
   ]
  },
  {
   "cell_type": "markdown",
   "metadata": {},
   "source": [
    "On September 5, 2020, prosecutors in Mississippi dropped charges against [Curtis Flowers](https://en.wikipedia.org/wiki/Curtis_Flowers), freeing him after 23 years of incarceration.\n",
    "\n",
    "Flowers had been tried six times for a 1996 multiple murder.  Two trials ended in a mistrial due to a hung jury; four trials ended in convictions.  \n",
    "\n",
    "According to [this NPR report](https://www.npr.org/2020/09/05/910061573/after-6-trials-prosecutors-drop-charges-against-curtis-flowers)\n",
    "\n",
    "> After each conviction, a higher court struck down the initial ruling. The latest ruling invalidating Flowers' conviction, and death sentence, came from the U.S. Supreme Court in June of last year. The justices noted the Mississippi Supreme Court had found that in three prior convictions the prosecution had misrepresented evidence and deliberately eliminated Black jurors.\n",
    "\n",
    "Since the racial composition of the juries was the noted reason the last conviction was invalidated, the purpose of this article is to explore the relationship between the composition of the juries and the outcome of the trials.\n",
    "\n",
    "Flowers' trials were the subject of the [In the Dark](https://www.apmreports.org/episode/2018/05/01/in-the-dark-s2e1) podcast, which reported the racial composition of the juries and the outcomes:\n",
    "\n",
    "```\n",
    "Trial         Jury                     Outcome\n",
    "  1           All white                Guilty\n",
    "  2           11 white, 1 black        Guilty\n",
    "  3           11 white, 1 black        Guilty\n",
    "  4           7 white, 5 black         Hung jury\n",
    "  5           9 white, 3 black         Hung jury\n",
    "  6           11 white, 1 black        Guilty\n",
    "```\n",
    "\n",
    "We can use this data to estimate the probability that white and black jurors would vote to convict, and then use those estimates to compute the probability of a guilty verdict.\n",
    "\n",
    "As a modeling simplification, I'll assume:\n",
    "\n",
    "* The six juries were presented with essentially the same evidence, prosecution case, and defense;\n",
    "\n",
    "* The probabilities of conviction did not change over the years of the trials (from 1997 to 2010); and\n",
    "\n",
    "* Each juror votes independently of the others; that is, I ignore interactions between jurors.\n",
    "\n",
    "I'll use the same prior distribution for white and black jurors, a uniform distribution from 0 to 1."
   ]
  },
  {
   "cell_type": "code",
   "execution_count": 4,
   "metadata": {},
   "outputs": [],
   "source": [
    "ps = np.linspace(0, 1, 101)\n",
    "prior_p1 = Pmf(1.0, ps)\n",
    "prior_p1.index.name = 'p1'"
   ]
  },
  {
   "cell_type": "code",
   "execution_count": 5,
   "metadata": {},
   "outputs": [],
   "source": [
    "prior_p2 = Pmf(1.0, ps)\n",
    "prior_p2.index.name = 'p2'"
   ]
  },
  {
   "cell_type": "markdown",
   "metadata": {},
   "source": [
    "To prepare for the updates, I'll form a joint distribution of the two probabilities."
   ]
  },
  {
   "cell_type": "code",
   "execution_count": 6,
   "metadata": {},
   "outputs": [],
   "source": [
    "from utils import make_joint\n",
    "\n",
    "joint = make_joint(prior_p2, prior_p1)"
   ]
  },
  {
   "cell_type": "code",
   "execution_count": 7,
   "metadata": {},
   "outputs": [
    {
     "data": {
      "text/plain": [
       "p1   p2  \n",
       "0.0  0.00    1.0\n",
       "     0.01    1.0\n",
       "     0.02    1.0\n",
       "     0.03    1.0\n",
       "     0.04    1.0\n",
       "dtype: float64"
      ]
     },
     "execution_count": 7,
     "metadata": {},
     "output_type": "execute_result"
    }
   ],
   "source": [
    "prior_pmf = Pmf(joint.stack())\n",
    "prior_pmf.head()"
   ]
  },
  {
   "cell_type": "markdown",
   "metadata": {},
   "source": [
    "Here's how we compute the update.\n",
    "\n",
    "Assuming that a guilty verdict must be unanimous, the probability of conviction is\n",
    "\n",
    "$ p = p_1^{n_1} ~ p_2^{n_2}$\n",
    "\n",
    "where\n",
    "\n",
    "* $p_1$ is the probability a white juror votes to convict\n",
    "* $p_2$ is the probability a black juror votes to convict\n",
    "* $n_1$ is the number of white jurors\n",
    "* $n_2$ is the number of black jurors\n",
    "\n",
    "The probability of an acquittal or hung jury is the complement of $p$.\n",
    "\n",
    "The following function performs a Bayesian update given the composition of the jury and the outcome, either `'guilty'` or `'hung'`.  We could also do an update for an acquittal, but since that didn't happen, I didn't implement it."
   ]
  },
  {
   "cell_type": "code",
   "execution_count": 8,
   "metadata": {},
   "outputs": [],
   "source": [
    "def update(prior, data):\n",
    "    n1, n2, outcome = data\n",
    "    likelihood = prior.copy()\n",
    "\n",
    "    for p1, p2 in prior.index:\n",
    "        like = p1**n1 * p2**n2\n",
    "        if outcome == 'guilty':\n",
    "            likelihood.loc[p1, p2] = like\n",
    "        elif outcome == 'hung':\n",
    "            likelihood.loc[p1, p2] = 1-like\n",
    "        else:\n",
    "            raise ValueError()\n",
    "            \n",
    "    posterior = prior * likelihood\n",
    "    posterior.normalize()\n",
    "    return posterior"
   ]
  },
  {
   "cell_type": "markdown",
   "metadata": {},
   "source": [
    "I'll use the following function to plot the marginal posterior distributions after each update."
   ]
  },
  {
   "cell_type": "code",
   "execution_count": 9,
   "metadata": {},
   "outputs": [],
   "source": [
    "from utils import pmf_marginal\n",
    "\n",
    "def plot_marginals(posterior):\n",
    "    marginal0 = pmf_marginal(posterior, 0)\n",
    "    marginal0.plot(label='white')\n",
    "    \n",
    "    marginal1 = pmf_marginal(posterior, 1)\n",
    "    marginal1.plot(label='black')\n",
    "\n",
    "    decorate(xlabel='Probability of voting to convict',\n",
    "             ylabel='PDF',\n",
    "             title='Marginal posterior distributions')"
   ]
  },
  {
   "cell_type": "markdown",
   "metadata": {},
   "source": [
    "Here's the update for the first trial."
   ]
  },
  {
   "cell_type": "code",
   "execution_count": 10,
   "metadata": {},
   "outputs": [
    {
     "data": {
      "image/png": "[encoded data removed]",
      "text/plain": [
       "<Figure size 432x288 with 1 Axes>"
      ]
     },
     "metadata": {
      "needs_background": "light"
     },
     "output_type": "display_data"
    }
   ],
   "source": [
    "data1 = 12, 0, 'guilty'\n",
    "posterior1 = update(prior_pmf, data1)\n",
    "plot_marginals(posterior1)"
   ]
  },
  {
   "cell_type": "markdown",
   "metadata": {},
   "source": [
    "Since there were no black jurors for the first trial, we learn nothing about their probability of conviction, so the posterior distribution is the same as the prior.\n",
    "\n",
    "The posterior distribution for white voters reflects the data that 12 of them voted to convict.\n",
    "\n",
    "Here are the posterior distributions after the second trial."
   ]
  },
  {
   "cell_type": "code",
   "execution_count": 11,
   "metadata": {},
   "outputs": [
    {
     "data": {
      "image/png": "[encoded data removed]",
      "text/plain": [
       "<Figure size 432x288 with 1 Axes>"
      ]
     },
     "metadata": {
      "needs_background": "light"
     },
     "output_type": "display_data"
    }
   ],
   "source": [
    "data2 = 11, 1, 'guilty'\n",
    "posterior2 = update(posterior1, data2)\n",
    "plot_marginals(posterior2)"
   ]
  },
  {
   "cell_type": "markdown",
   "metadata": {},
   "source": [
    "And the third."
   ]
  },
  {
   "cell_type": "code",
   "execution_count": 12,
   "metadata": {},
   "outputs": [
    {
     "data": {
      "image/png": "[encoded data removed]",
      "text/plain": [
       "<Figure size 432x288 with 1 Axes>"
      ]
     },
     "metadata": {
      "needs_background": "light"
     },
     "output_type": "display_data"
    }
   ],
   "source": [
    "data3 = 11, 1, 'guilty'\n",
    "posterior3 = update(posterior2, data3)\n",
    "plot_marginals(posterior3)"
   ]
  },
  {
   "cell_type": "markdown",
   "metadata": {},
   "source": [
    "Since the first three verdicts were guilty, we infer that all 36 jurors voted to convict, so the estimated probabilities for both groups are high.\n",
    "\n",
    "The fourth trials ended in a mistrial due to a hung jury, which implies that at least one juror refused to vote to convict.  That decreases the estimated probabilities for both juror pools, but it has a bigger effect on the estimate for black jurors because the total prior data pertaining to black jurors is less, so the same amount of new data moves the needle more."
   ]
  },
  {
   "cell_type": "code",
   "execution_count": 13,
   "metadata": {},
   "outputs": [
    {
     "data": {
      "image/png": "[encoded data removed]",
      "text/plain": [
       "<Figure size 432x288 with 1 Axes>"
      ]
     },
     "metadata": {
      "needs_background": "light"
     },
     "output_type": "display_data"
    }
   ],
   "source": [
    "data4 = 7, 5, 'hung'\n",
    "posterior4 = update(posterior3, data4)\n",
    "plot_marginals(posterior4)"
   ]
  },
  {
   "cell_type": "markdown",
   "metadata": {},
   "source": [
    "The effect of the fifth trial is similar; it decreases the estimates for both pools, but the effect on the estimate for black jurors is greater."
   ]
  },
  {
   "cell_type": "code",
   "execution_count": 14,
   "metadata": {},
   "outputs": [
    {
     "data": {
      "image/png": "[encoded data removed]",
      "text/plain": [
       "<Figure size 432x288 with 1 Axes>"
      ]
     },
     "metadata": {
      "needs_background": "light"
     },
     "output_type": "display_data"
    }
   ],
   "source": [
    "data5 = 9, 3, 'hung'\n",
    "posterior5 = update(posterior4, data5)\n",
    "plot_marginals(posterior5)"
   ]
  },
  {
   "cell_type": "markdown",
   "metadata": {},
   "source": [
    "Finally, here are the posterior distributions after all six trials."
   ]
  },
  {
   "cell_type": "code",
   "execution_count": 15,
   "metadata": {},
   "outputs": [
    {
     "data": {
      "image/png": "[encoded data removed]",
      "text/plain": [
       "<Figure size 432x288 with 1 Axes>"
      ]
     },
     "metadata": {
      "needs_background": "light"
     },
     "output_type": "display_data"
    }
   ],
   "source": [
    "data6 = 11, 1, 'guilty'\n",
    "posterior6 = update(posterior5, data6)\n",
    "plot_marginals(posterior6)"
   ]
  },
  {
   "cell_type": "markdown",
   "metadata": {},
   "source": [
    "The posterior distributions for the two pools are substantially different.  Here are the posterior means."
   ]
  },
  {
   "cell_type": "code",
   "execution_count": 16,
   "metadata": {},
   "outputs": [
    {
     "data": {
      "text/plain": [
       "(0.9795476889311339, 0.6802593488434)"
      ]
     },
     "execution_count": 16,
     "metadata": {},
     "output_type": "execute_result"
    }
   ],
   "source": [
    "marginal_p1 = pmf_marginal(posterior6, 0)\n",
    "marginal_p2 = pmf_marginal(posterior6, 1)\n",
    "\n",
    "marginal_p1.mean(), marginal_p2.mean(), "
   ]
  },
  {
   "cell_type": "markdown",
   "metadata": {},
   "source": [
    "Based on the outcomes of all six trials, we estimate that the probability is 98% that a white juror would vote to convict, and the probability is 68% that a black juror would vote to convict.\n",
    "\n",
    "Again, those results are based on the modeling simplifications that\n",
    "\n",
    "* All six juries saw essentially the same evidence,\n",
    "\n",
    "* The probabilities we're estimating did not change over the period of the trials, and\n",
    "\n",
    "* Interactions between jurors did not have substantial effects on their votes."
   ]
  },
  {
   "cell_type": "markdown",
   "metadata": {},
   "source": [
    "## Prediction\n",
    "\n",
    "Now we can use the joint posterior distribution to estimate the probability of conviction as a function of the composition of the jury.\n",
    "\n",
    "I'll draw a sample from the joint posterior distribution."
   ]
  },
  {
   "cell_type": "code",
   "execution_count": 17,
   "metadata": {},
   "outputs": [],
   "source": [
    "sample = posterior6.sample(1000)"
   ]
  },
  {
   "cell_type": "markdown",
   "metadata": {},
   "source": [
    "Here's the probability that white jurors were more likely to convict."
   ]
  },
  {
   "cell_type": "code",
   "execution_count": 18,
   "metadata": {},
   "outputs": [
    {
     "data": {
      "text/plain": [
       "0.889"
      ]
     },
     "execution_count": 18,
     "metadata": {},
     "output_type": "execute_result"
    }
   ],
   "source": [
    "np.mean([p1 > p2 for p1, p2 in sample])"
   ]
  },
  {
   "cell_type": "markdown",
   "metadata": {},
   "source": [
    "The following function takes this sample and a hypothetical composition and returns the posterior predictive distribution for the probability of conviction."
   ]
  },
  {
   "cell_type": "code",
   "execution_count": 19,
   "metadata": {},
   "outputs": [],
   "source": [
    "def prob_guilty(sample, n1, n2):\n",
    "    ps = [p1**n1 * p2**n2 for p1, p2 in sample]\n",
    "    return Pmf.from_seq(ps)"
   ]
  },
  {
   "cell_type": "markdown",
   "metadata": {},
   "source": [
    "According to [Wikipedia](https://en.wikipedia.org/wiki/Montgomery_County,_Mississippi):\n",
    "\n",
    "> As of the 2010 United States Census, there were 10,925 people living in the county. 53.0% were White, 45.5% Black or African American, 0.4% Asian, 0.1% Native American, 0.5% of some other race and 0.5% of two or more races. 0.9% were Hispanic or Latino (of any race).\n",
    "\n",
    "A jury drawn at random from the population of Montgomery County would be expected to have 5 or 6 black jurors.\n",
    "\n",
    "Here's the probability of conviction with a panel of 7 white and 5 black jurors."
   ]
  },
  {
   "cell_type": "code",
   "execution_count": 20,
   "metadata": {},
   "outputs": [
    {
     "data": {
      "text/plain": [
       "(0.1536247710661592, array([2.47609900e-04, 5.72165499e-01]))"
      ]
     },
     "execution_count": 20,
     "metadata": {},
     "output_type": "execute_result"
    }
   ],
   "source": [
    "pmf = prob_guilty(sample, 7, 5)\n",
    "pmf.mean(), pmf.credible_interval(0.9)"
   ]
  },
  {
   "cell_type": "markdown",
   "metadata": {},
   "source": [
    "And with 6 white and 6 black jurors."
   ]
  },
  {
   "cell_type": "code",
   "execution_count": 21,
   "metadata": {},
   "outputs": [
    {
     "data": {
      "text/plain": [
       "(0.14068070740861993, array([5.00964985e-05, 5.70871197e-01]))"
      ]
     },
     "execution_count": 21,
     "metadata": {},
     "output_type": "execute_result"
    }
   ],
   "source": [
    "pmf = prob_guilty(sample, 6, 6)\n",
    "pmf.mean(), pmf.credible_interval(0.9)"
   ]
  },
  {
   "cell_type": "markdown",
   "metadata": {},
   "source": [
    "With a jury that represents the population of Montgomery County, the probability Flowers would be convicted is 14-15%.\n",
    "\n",
    "However, notice that the credible intervals for these estimates are quite wide.  Based on the data, the actual probabilities could be in the range from near 0 to 50%."
   ]
  },
  {
   "cell_type": "markdown",
   "metadata": {},
   "source": [
    "The following figure shows the probability of conviction as a function of the number of black jurors.\n",
    "\n",
    "The probability of conviction is highest with an all-white jury, and drops quickly if there are a few black jurors.  After that, the addition of more black jurors has a relatively small effect.\n",
    "\n",
    "These results suggest that all-white juries have a substantially higher probability of convicting a defendant, compared to a jury with even a few non-white jurors."
   ]
  },
  {
   "cell_type": "code",
   "execution_count": 22,
   "metadata": {},
   "outputs": [],
   "source": [
    "pmf_seq = []\n",
    "n2s = range(0, 13)\n",
    "\n",
    "for n2 in n2s:\n",
    "    n1 = 12 - n2\n",
    "    pmf = prob_guilty(sample, n1, n2)\n",
    "    pmf_seq.append(pmf)"
   ]
  },
  {
   "cell_type": "code",
   "execution_count": 23,
   "metadata": {},
   "outputs": [
    {
     "data": {
      "text/plain": [
       "[0.5538327053225913,\n",
       " 0.3418368780199899,\n",
       " 0.25039614520645626,\n",
       " 0.20187886989068096,\n",
       " 0.1726469824064479,\n",
       " 0.1536247710661592,\n",
       " 0.14068070740861993,\n",
       " 0.13168895287399013,\n",
       " 0.12545481771765174,\n",
       " 0.12126313084374142,\n",
       " 0.1186668473680227,\n",
       " 0.11737944315539342,\n",
       " 0.11721642419343986]"
      ]
     },
     "execution_count": 23,
     "metadata": {},
     "output_type": "execute_result"
    }
   ],
   "source": [
    "means = [pmf.mean() for pmf in pmf_seq]\n",
    "lows = [pmf.quantile(0.05) for pmf in pmf_seq]\n",
    "highs = [pmf.quantile(0.95) for pmf in pmf_seq]\n",
    "\n",
    "means"
   ]
  },
  {
   "cell_type": "code",
   "execution_count": 24,
   "metadata": {},
   "outputs": [
    {
     "data": {
      "image/png": "[encoded data removed]",
      "text/plain": [
       "<Figure size 432x288 with 1 Axes>"
      ]
     },
     "metadata": {
      "needs_background": "light"
     },
     "output_type": "display_data"
    }
   ],
   "source": [
    "plt.plot(n2s, means)\n",
    "plt.fill_between(n2s, lows, highs, color='C0', alpha=0.1)\n",
    "\n",
    "decorate(xlabel='Number of black jurors',\n",
    "         ylabel='Probability of a guilty verdict',\n",
    "         title='Probability of a guilty verdict vs jury composition',\n",
    "         ylim=[0, 1])"
   ]
  },
  {
   "cell_type": "markdown",
   "metadata": {},
   "source": [
    "## Double Check\n",
    "\n",
    "Let's compute the results a different way to double check.\n",
    "\n",
    "For the four guilty verdicts, we don't need to make or update the joint distribution; we can update the distributions for the two pools separately."
   ]
  },
  {
   "cell_type": "code",
   "execution_count": 25,
   "metadata": {},
   "outputs": [],
   "source": [
    "from scipy.stats import binom\n",
    "\n",
    "k1 = 12 + 11 + 11 + 11\n",
    "like1 = binom(k1, ps).pmf(k1)\n",
    "prior_p1 = Pmf(like1, ps)"
   ]
  },
  {
   "cell_type": "code",
   "execution_count": 26,
   "metadata": {},
   "outputs": [],
   "source": [
    "k2 = 0 + 1 + 1 + 1\n",
    "like2 = binom(k2, ps).pmf(k2)\n",
    "prior_p2 = Pmf(like2, ps)"
   ]
  },
  {
   "cell_type": "code",
   "execution_count": 27,
   "metadata": {},
   "outputs": [
    {
     "data": {
      "image/png": "[encoded data removed]",
      "text/plain": [
       "<Figure size 432x288 with 1 Axes>"
      ]
     },
     "metadata": {
      "needs_background": "light"
     },
     "output_type": "display_data"
    }
   ],
   "source": [
    "prior_p1.plot()\n",
    "prior_p2.plot()"
   ]
  },
  {
   "cell_type": "markdown",
   "metadata": {},
   "source": [
    "We can use the posteriors from those updates as priors and update them based on the two trials that resulted in a hung jury."
   ]
  },
  {
   "cell_type": "code",
   "execution_count": 28,
   "metadata": {},
   "outputs": [],
   "source": [
    "prior = Pmf(make_joint(prior_p2, prior_p1).stack())\n",
    "posterior = update(prior, data4)\n",
    "posterior = update(posterior, data5)"
   ]
  },
  {
   "cell_type": "markdown",
   "metadata": {},
   "source": [
    "The posterior marginals look the same."
   ]
  },
  {
   "cell_type": "code",
   "execution_count": 29,
   "metadata": {},
   "outputs": [
    {
     "data": {
      "image/png": "[encoded data removed]",
      "text/plain": [
       "<Figure size 432x288 with 1 Axes>"
      ]
     },
     "metadata": {
      "needs_background": "light"
     },
     "output_type": "display_data"
    }
   ],
   "source": [
    "plot_marginals(posterior)"
   ]
  },
  {
   "cell_type": "markdown",
   "metadata": {},
   "source": [
    "And yield the same posterior means."
   ]
  },
  {
   "cell_type": "code",
   "execution_count": 30,
   "metadata": {},
   "outputs": [
    {
     "data": {
      "text/plain": [
       "(0.9795476889311339, 0.6802593488434)"
      ]
     },
     "execution_count": 30,
     "metadata": {},
     "output_type": "execute_result"
    }
   ],
   "source": [
    "marginal_p1 = pmf_marginal(posterior, 0)\n",
    "marginal_p2 = pmf_marginal(posterior, 1)\n",
    "\n",
    "marginal_p1.mean(), marginal_p2.mean(), "
   ]
  },
  {
   "cell_type": "markdown",
   "metadata": {},
   "source": [
    "Here's the probability that a fair jury would convict four times out of six."
   ]
  },
  {
   "cell_type": "code",
   "execution_count": 32,
   "metadata": {},
   "outputs": [
    {
     "data": {
      "text/plain": [
       "0.0054864843750000005"
      ]
     },
     "execution_count": 32,
     "metadata": {},
     "output_type": "execute_result"
    }
   ],
   "source": [
    "binom.pmf(4, 6, 0.15)"
   ]
  },
  {
   "cell_type": "code",
   "execution_count": null,
   "metadata": {},
   "outputs": [],
   "source": []
  }
 ],
 "metadata": {
  "kernelspec": {
   "display_name": "Python 3",
   "language": "python",
   "name": "python3"
  },
  "language_info": {
   "codemirror_mode": {
    "name": "ipython",
    "version": 3
   },
   "file_extension": ".py",
   "mimetype": "text/x-python",
   "name": "python",
   "nbconvert_exporter": "python",
   "pygments_lexer": "ipython3",
   "version": "3.7.7"
  }
 },
 "nbformat": 4,
 "nbformat_minor": 1
}
